{
 "cells": [
  {
   "cell_type": "code",
   "execution_count": null,
   "id": "ab54d3e8",
   "metadata": {},
   "outputs": [],
   "source": [
    "import pandas as pd\n",
    "import numpy as np\n",
    "import matplotlib.pyplot as plt\n",
    "import seaborn as sns\n",
    "import requests\n",
    "import plotly.express as px\n",
    "\n",
    "%matplotlib inline"
   ]
  },
  {
   "cell_type": "code",
   "execution_count": null,
   "id": "0a2ed5a4",
   "metadata": {},
   "outputs": [],
   "source": [
    "pd.set_option('display.max_columns', None)"
   ]
  },
  {
   "cell_type": "code",
   "execution_count": null,
   "id": "c73b31d4",
   "metadata": {},
   "outputs": [],
   "source": [
    "df_02 = pd.read_csv('../Data/clean_county_02.csv')\n",
    "df_04 = pd.read_csv('../Data/clean_county_04.csv')\n",
    "df_06 = pd.read_csv('../Data/clean_county_06.csv')\n",
    "df_08 = pd.read_csv('../Data/clean_county_08.csv')\n",
    "df_10 = pd.read_csv('../Data/clean_county_10.csv')\n",
    "df_12 = pd.read_csv('../Data/clean_county_12.csv')\n",
    "df_14 = pd.read_csv('../Data/clean_county_14.csv')\n",
    "df_16 = pd.read_csv('../Data/clean_county_16.csv')\n",
    "df_18 = pd.read_csv('../Data/clean_county_18.csv')\n",
    "df_20 = pd.read_csv('../Data/clean_county_20.csv')\n",
    "acs_county = pd.read_excel('../Data/ACS_county_master.xlsx')"
   ]
  },
  {
   "cell_type": "code",
   "execution_count": null,
   "id": "d8436021",
   "metadata": {},
   "outputs": [],
   "source": [
    "df_20.head(10)"
   ]
  },
  {
   "cell_type": "code",
   "execution_count": null,
   "id": "f8825afd",
   "metadata": {},
   "outputs": [],
   "source": [
    "master_df = pd.concat([df_02, df_04, df_06, df_08, df_10, df_12, df_14, df_16, df_18, df_20,])\n",
    "master_df.head(50)"
   ]
  },
  {
   "cell_type": "code",
   "execution_count": null,
   "id": "561d6554",
   "metadata": {},
   "outputs": [],
   "source": [
    "master_df = master_df.reset_index(drop = True)\n"
   ]
  },
  {
   "cell_type": "code",
   "execution_count": null,
   "id": "1d32ebe9",
   "metadata": {},
   "outputs": [],
   "source": [
    "master_df"
   ]
  },
  {
   "cell_type": "code",
   "execution_count": null,
   "id": "80002132",
   "metadata": {},
   "outputs": [],
   "source": [
    "# no_sen.to_csv(\"master_county.csv\", index=False)"
   ]
  },
  {
   "cell_type": "code",
   "execution_count": null,
   "id": "b817ac8a",
   "metadata": {},
   "outputs": [],
   "source": [
    "no_sen = master_df.loc[master_df['office'] != 'State Senate']"
   ]
  },
  {
   "cell_type": "code",
   "execution_count": null,
   "id": "28641eef",
   "metadata": {},
   "outputs": [],
   "source": [
    "no_sen"
   ]
  },
  {
   "cell_type": "code",
   "execution_count": null,
   "id": "32689d3d",
   "metadata": {},
   "outputs": [],
   "source": [
    "no_zero = no_sen.drop(no_sen[no_sen['Rep%'] > 95].index)"
   ]
  },
  {
   "cell_type": "code",
   "execution_count": null,
   "id": "1535e764",
   "metadata": {},
   "outputs": [],
   "source": [
    "no_zero.drop(no_zero[no_zero['Dem%'] > 95].index, inplace=True)"
   ]
  },
  {
   "cell_type": "code",
   "execution_count": null,
   "id": "7b859058",
   "metadata": {},
   "outputs": [],
   "source": [
    "no_zero"
   ]
  },
  {
   "cell_type": "code",
   "execution_count": null,
   "id": "0c9a0d19",
   "metadata": {},
   "outputs": [],
   "source": []
  },
  {
   "cell_type": "code",
   "execution_count": null,
   "id": "d953a6d0",
   "metadata": {},
   "outputs": [],
   "source": [
    "# spread = no_zero.groupby(['year', 'county'])['Rep_margin'].agg(np.ptp)"
   ]
  },
  {
   "cell_type": "code",
   "execution_count": null,
   "id": "e918c749",
   "metadata": {},
   "outputs": [],
   "source": [
    "spread = no_zero.groupby(['year', 'county'])['Rep_margin'].agg(min_marg= 'min', max_marg = 'max').reset_index()"
   ]
  },
  {
   "cell_type": "code",
   "execution_count": null,
   "id": "8ef4b878",
   "metadata": {},
   "outputs": [],
   "source": [
    "spread"
   ]
  },
  {
   "cell_type": "markdown",
   "id": "53eb68f5",
   "metadata": {},
   "source": [
    "spread = no_sen.assign(min_marg = no_sen['Rep_margin'].abs(), max_marg=no_sen['Rep_margin'].abs()).groupby(['year', 'county'])\\\n",
    "     .agg({'min_marg':'min','max_marg':'max'}).reset_index()"
   ]
  },
  {
   "cell_type": "code",
   "execution_count": null,
   "id": "843f75e3",
   "metadata": {},
   "outputs": [],
   "source": [
    "type(spread)"
   ]
  },
  {
   "cell_type": "code",
   "execution_count": null,
   "id": "cb736821",
   "metadata": {},
   "outputs": [],
   "source": [
    "# spread.drop(spread[spread.max_marg > 95].index, inplace=True)"
   ]
  },
  {
   "cell_type": "code",
   "execution_count": null,
   "id": "1929b122",
   "metadata": {},
   "outputs": [],
   "source": [
    "spread['difference'] = spread['max_marg'] - spread['min_marg']"
   ]
  },
  {
   "cell_type": "code",
   "execution_count": null,
   "id": "ac1a5818",
   "metadata": {},
   "outputs": [],
   "source": [
    "spread"
   ]
  },
  {
   "cell_type": "code",
   "execution_count": null,
   "id": "79cceb60",
   "metadata": {},
   "outputs": [],
   "source": [
    "sns.set_theme(style=\"darkgrid\")\n",
    "\n",
    "f, ax = plt.subplots(figsize=(7, 4))\n",
    "sns.despine(f)\n",
    "\n",
    "data = spread[spread['year'] < 2009]\n",
    "\n",
    "sns.histplot(\n",
    "    data,\n",
    "    x=\"difference\", hue=\"year\",\n",
    "    multiple=\"stack\",\n",
    "    palette=\"GnBu\",\n",
    "    edgecolor=\".3\",\n",
    "    linewidth=0.7,\n",
    "    binwidth=10\n",
    ")\n",
    "\n",
    "ax.set_xticks([0, 10, 20, 30, 40, 50, 60, 70, 80, 90, 100, 110, 120, 130])\n",
    "\n",
    "plt.title('Distribution of County Margin Range (2002-2008)', fontsize=16, fontweight='bold')\n",
    "plt.xlabel('County Margin Range', fontsize=14, fontweight='bold')\n",
    "plt.ylabel('Number of Counties', fontsize=14, fontweight='bold')\n",
    "plt.yticks(fontsize=12)\n",
    "plt.xticks(fontsize=12)\n",
    "\n",
    "# plt.savefig('county_range_08.png', bbox_inches='tight')\n",
    "plt.show();"
   ]
  },
  {
   "cell_type": "code",
   "execution_count": null,
   "id": "4559a5e8",
   "metadata": {},
   "outputs": [],
   "source": [
    "sns.set_theme(style=\"darkgrid\")\n",
    "\n",
    "f, ax = plt.subplots(figsize=(7, 4))\n",
    "sns.despine(f)\n",
    "\n",
    "data = spread[spread['year'] > 2009]\n",
    "\n",
    "sns.histplot(\n",
    "    data,\n",
    "    x=\"difference\", hue=\"year\",\n",
    "    multiple=\"stack\",\n",
    "    palette=\"GnBu\",\n",
    "    edgecolor=\".3\",\n",
    "    linewidth=.7,\n",
    "    binwidth=10)\n",
    "\n",
    "ax.set_xticks([0, 10, 20, 30, 40, 50, 60, 70, 80, 90, 100, 110, 120, 130])\n",
    "\n",
    "plt.title('Distribution of County Margin Range (2010-2020)', fontsize=16, fontweight='bold')\n",
    "plt.xlabel('County Margin Range', fontsize=14, fontweight='bold')\n",
    "plt.ylabel('Number of Counties', fontsize=14, fontweight='bold')\n",
    "plt.yticks(fontsize=12)\n",
    "plt.xticks(fontsize=12)\n",
    "# plt.savefig('county_range_20.png', bbox_inches='tight')\n",
    "plt.show();"
   ]
  },
  {
   "cell_type": "code",
   "execution_count": null,
   "id": "e808f585",
   "metadata": {},
   "outputs": [],
   "source": [
    "spread.describe()"
   ]
  },
  {
   "cell_type": "code",
   "execution_count": null,
   "id": "32534e04",
   "metadata": {},
   "outputs": [],
   "source": [
    "sns.set_theme(style=\"darkgrid\")\n",
    "f, ax = plt.subplots(figsize=(10, 6))\n",
    "\n",
    "sns.boxenplot(x=\"year\", y=\"difference\",\n",
    "              color=\"lightseagreen\", \n",
    "              scale=\"linear\", data=spread, showfliers=False)\n",
    "\n",
    "plt.title('Distribution of County % Ranges by Year', fontsize=18, fontweight='bold')\n",
    "plt.xlabel('Year', fontsize=16, fontweight='bold')\n",
    "plt.ylabel('County % Range', fontsize=16, fontweight='bold')\n",
    "plt.yticks(fontsize=14)\n",
    "plt.xticks(fontsize=14)\n",
    "# plt.savefig('county_range.png', bbox_inches='tight')\n",
    "plt.show();"
   ]
  },
  {
   "cell_type": "code",
   "execution_count": null,
   "id": "174ab58c",
   "metadata": {},
   "outputs": [],
   "source": [
    "sns.set_theme(style=\"darkgrid\")\n",
    "f, ax = plt.subplots(figsize=(10, 5))\n",
    "\n",
    "sns.violinplot(data=spread, x=\"year\", y=\"difference\", inner=\"stick\", cut=0, linewidth=0.8, color='cyan')\n",
    "# sns.despine(left=True)\n",
    "# ax.set(ylim=(-20, 140))\n",
    "\n",
    "plt.title('Distribution of County Margin % Ranges by Year', fontsize=18, fontweight='bold')\n",
    "plt.xlabel('Year', fontsize=16, fontweight='bold')\n",
    "plt.ylabel('County % Range', fontsize=16, fontweight='bold')\n",
    "plt.yticks([0, 20, 40, 60, 80, 100, 120, 140], fontsize=14)\n",
    "plt.xticks(fontsize=14)\n",
    "# plt.savefig('county_range2.png', bbox_inches='tight')\n",
    "plt.show();"
   ]
  },
  {
   "cell_type": "code",
   "execution_count": null,
   "id": "a9182d02",
   "metadata": {},
   "outputs": [],
   "source": [
    "acs_county.tail(15)"
   ]
  },
  {
   "cell_type": "code",
   "execution_count": null,
   "id": "b619314e",
   "metadata": {},
   "outputs": [],
   "source": [
    "acs_spread = pd.merge(spread, acs_county, \n",
    "                               on = 'county', \n",
    "                               how = 'left')"
   ]
  },
  {
   "cell_type": "code",
   "execution_count": null,
   "id": "d948559f",
   "metadata": {},
   "outputs": [],
   "source": [
    "acs_spread"
   ]
  },
  {
   "cell_type": "code",
   "execution_count": null,
   "id": "2a1b9cc5",
   "metadata": {
    "scrolled": true
   },
   "outputs": [],
   "source": [
    "acs_spread.iloc[:, 8:] = acs_spread.iloc[:, 8:] * 100"
   ]
  },
  {
   "cell_type": "code",
   "execution_count": null,
   "id": "99194c41",
   "metadata": {},
   "outputs": [],
   "source": [
    "acs_spread"
   ]
  },
  {
   "cell_type": "code",
   "execution_count": null,
   "id": "3c163a35",
   "metadata": {},
   "outputs": [],
   "source": [
    "plt.figure(figsize=(8,8), dpi=80)\n",
    "plt.scatter(acs_spread['difference'], acs_spread['black_change'], s=50, c='red', edgecolor='black', linewidth=0.7)\n",
    "\n",
    "plt.show()"
   ]
  },
  {
   "cell_type": "code",
   "execution_count": null,
   "id": "51bdbe6e",
   "metadata": {},
   "outputs": [],
   "source": [
    "acs_spread_20 = acs_spread[acs_spread['year'] > 2011]\n",
    "acs_spread_10 = acs_spread[acs_spread['year'] < 2011]"
   ]
  },
  {
   "cell_type": "code",
   "execution_count": null,
   "id": "6c0cb0a8",
   "metadata": {},
   "outputs": [],
   "source": [
    "acs_spread_20.reset_index(drop=True, inplace=True)\n",
    "acs_spread_10.reset_index(drop=True, inplace=True)"
   ]
  },
  {
   "cell_type": "code",
   "execution_count": null,
   "id": "102fe471",
   "metadata": {},
   "outputs": [],
   "source": [
    "acs_spread_10"
   ]
  },
  {
   "cell_type": "code",
   "execution_count": null,
   "id": "d8260e2d",
   "metadata": {},
   "outputs": [],
   "source": [
    "plt.figure(figsize=(8,8), dpi=80)\n",
    "plt.scatter(acs_spread_10['difference'], acs_spread_10['black_10'], s=50, c='red', edgecolor='black', linewidth=0.7)\n",
    "\n",
    "plt.show()"
   ]
  },
  {
   "cell_type": "code",
   "execution_count": null,
   "id": "ff8ad731",
   "metadata": {},
   "outputs": [],
   "source": [
    "plt.figure(figsize=(8,8), dpi=80)\n",
    "\n",
    "plt.scatter(acs_spread_20['difference'], acs_spread_20['white_20'], s=50, c='red', edgecolor='black', linewidth=0.7)\n",
    "\n",
    "plt.title('County Correlation: White % vs. Margin % Range (2012-2020)', fontsize=16, fontweight='bold', pad=20)\n",
    "plt.xlabel('Margin % Range', fontsize=16, fontweight='bold')\n",
    "plt.ylabel('White %', fontsize=16, fontweight='bold')\n",
    "plt.yticks(fontsize=14)\n",
    "plt.xticks(fontsize=14)\n",
    "\n",
    "plt.show()"
   ]
  },
  {
   "cell_type": "code",
   "execution_count": null,
   "id": "44742eae",
   "metadata": {},
   "outputs": [],
   "source": [
    "plt.figure(figsize = (8,8))\n",
    "sns.set_theme(style=\"darkgrid\")\n",
    "\n",
    "y = acs_spread_20['difference']\n",
    "x = acs_spread_20['white_20']\n",
    "\n",
    "graph = sns.regplot(data = acs_spread_20, x=x, y=y, color='darkturquoise', scatter_kws={'s':40, 'edgecolor':'black'}) \n",
    "\n",
    "plt.title('County Correlation: White % vs. Margin % Range (2012-2020)', fontweight = 'bold', fontsize = 16, color = 'black', pad=20)\n",
    "plt.ylabel('Margin % Range', fontsize=16, fontweight='bold')\n",
    "plt.xlabel('White %', fontsize=16, fontweight='bold')\n",
    "plt.xticks(fontsize = 14)\n",
    "plt.yticks(fontsize = 14)\n",
    "\n",
    "# plt.savefig('white_corr_20.png', bbox_inches='tight')\n",
    "plt.plot();"
   ]
  },
  {
   "cell_type": "code",
   "execution_count": null,
   "id": "b8629143",
   "metadata": {},
   "outputs": [],
   "source": [
    "plt.figure(figsize = (8,8))\n",
    "sns.set_theme(style=\"darkgrid\")\n",
    "\n",
    "y = acs_spread_10['difference']\n",
    "x = acs_spread_10['white_10']\n",
    "\n",
    "graph = sns.regplot(data = acs_spread_20, x=x, y=y, color='lightseagreen', scatter_kws={'s':40, 'edgecolor':'black'}) \n",
    "\n",
    "plt.title('County Correlation: White % vs. Margin % Range (2002-2010)', fontweight = 'bold', fontsize = 16, color = 'black', pad=20)\n",
    "plt.ylabel('Margin % Range', fontsize=16, fontweight='bold')\n",
    "plt.xlabel('White %', fontsize=16, fontweight='bold')\n",
    "plt.xticks(fontsize = 14)\n",
    "plt.yticks(fontsize = 14)\n",
    "\n",
    "# plt.savefig('white_corr_10.png', bbox_inches='tight')\n",
    "plt.plot();"
   ]
  },
  {
   "cell_type": "code",
   "execution_count": null,
   "id": "f5a83c99",
   "metadata": {},
   "outputs": [],
   "source": [
    "plt.figure(figsize = (8,8))\n",
    "sns.set_theme(style=\"darkgrid\")\n",
    "\n",
    "y = acs_spread_10['difference']\n",
    "x = acs_spread_10['black_10']\n",
    "\n",
    "graph = sns.regplot(data = acs_spread_20, x=x, y=y, color='lightseagreen', scatter_kws={'s':40, 'edgecolor':'black'}) \n",
    "\n",
    "plt.title('County Correlation: Black % vs. Margin % Range (2002-2010)', fontweight = 'bold', fontsize = 16, color = 'black', pad=20)\n",
    "plt.ylabel('Margin % Range', fontsize=16, fontweight='bold')\n",
    "plt.xlabel('Black %', fontsize=16, fontweight='bold')\n",
    "plt.xticks(fontsize = 14)\n",
    "plt.yticks(fontsize = 14)\n",
    "\n",
    "# plt.savefig('black_corr_10.png', bbox_inches='tight')\n",
    "plt.plot();"
   ]
  },
  {
   "cell_type": "code",
   "execution_count": null,
   "id": "654ea8d8",
   "metadata": {},
   "outputs": [],
   "source": [
    "plt.figure(figsize = (8,8))\n",
    "sns.set_theme(style=\"darkgrid\")\n",
    "\n",
    "y = acs_spread_20['difference']\n",
    "x = acs_spread_20['black_20']\n",
    "\n",
    "graph = sns.regplot(data = acs_spread_20, x=x, y=y, color='darkturquoise', scatter_kws={'s':40, 'edgecolor':'black'}) \n",
    "\n",
    "plt.title('County Correlation: Black % vs. Margin % Range (2012-2020)', fontweight = 'bold', fontsize = 16, color = 'black', pad=20)\n",
    "plt.ylabel('Margin % Range', fontsize=16, fontweight='bold')\n",
    "plt.xlabel('Black %', fontsize=16, fontweight='bold')\n",
    "plt.xticks(fontsize = 14)\n",
    "plt.yticks(fontsize = 14)\n",
    "\n",
    "# plt.savefig('black_corr_20.png', bbox_inches='tight')\n",
    "plt.plot();"
   ]
  },
  {
   "cell_type": "code",
   "execution_count": null,
   "id": "eba28577",
   "metadata": {},
   "outputs": [],
   "source": []
  },
  {
   "cell_type": "code",
   "execution_count": null,
   "id": "a65b134c",
   "metadata": {},
   "outputs": [],
   "source": []
  },
  {
   "cell_type": "code",
   "execution_count": null,
   "id": "1f103e5e",
   "metadata": {},
   "outputs": [],
   "source": []
  },
  {
   "cell_type": "code",
   "execution_count": null,
   "id": "90ace99b",
   "metadata": {},
   "outputs": [],
   "source": []
  },
  {
   "cell_type": "code",
   "execution_count": null,
   "id": "6be3da31",
   "metadata": {},
   "outputs": [],
   "source": []
  },
  {
   "cell_type": "code",
   "execution_count": null,
   "id": "d5cc51e7",
   "metadata": {},
   "outputs": [],
   "source": []
  },
  {
   "cell_type": "code",
   "execution_count": null,
   "id": "d95222f4",
   "metadata": {
    "scrolled": true
   },
   "outputs": [],
   "source": [
    "acs_spread_20"
   ]
  },
  {
   "cell_type": "code",
   "execution_count": null,
   "id": "03c5c5cb",
   "metadata": {},
   "outputs": [],
   "source": []
  },
  {
   "cell_type": "code",
   "execution_count": null,
   "id": "cd99d7ad",
   "metadata": {},
   "outputs": [],
   "source": [
    "fig, ax = plt.subplots(figsize=(6, 6))\n",
    "\n",
    "corr = acs_spread_10[['difference', 'med_age_10', 'bach_degree_10', 'manuf_10', 'over_65_10', 'hisp_latino_10', 'white_10', 'black_10']].corr()\n",
    "cmap = sns.diverging_palette(220, 10, as_cmap=True)\n",
    "\n",
    "sns.heatmap(corr, cmap=cmap, center=0, annot=True,\n",
    "            square=True, linewidths=.5, cbar_kws={\"shrink\": .5});"
   ]
  },
  {
   "cell_type": "code",
   "execution_count": null,
   "id": "a26aaf66",
   "metadata": {},
   "outputs": [],
   "source": [
    "fig, ax = plt.subplots(figsize=(6, 6))\n",
    "\n",
    "corr = acs_spread_20[['difference', 'med_age_20', 'bach_degree_20', 'manuf_20', 'over_65_20', 'hisp_latino_20', 'white_20', 'black_20']].corr()\n",
    "cmap = sns.diverging_palette(220, 10, as_cmap=True)\n",
    "\n",
    "sns.heatmap(corr, cmap=cmap, center=0, annot=True,\n",
    "            square=True, linewidths=.5, cbar_kws={\"shrink\": .5});"
   ]
  },
  {
   "cell_type": "code",
   "execution_count": null,
   "id": "c2284294",
   "metadata": {},
   "outputs": [],
   "source": [
    "acs_spread_20[['difference', 'med_age_change', 'bach_degree_change', 'manuf_change', 'over_65_change', 'hisp_latino_change', 'white_change', 'black_change' ]].corr()"
   ]
  },
  {
   "cell_type": "code",
   "execution_count": null,
   "id": "aaefb91b",
   "metadata": {},
   "outputs": [],
   "source": [
    "corr20 = pd.DataFrame(acs_spread_20[['difference', 'med_age_20', 'bach_degree_20', 'manuf_20', 'over_65_20', 'hisp_latino_20', 'white_20', 'black_20']].corr())"
   ]
  },
  {
   "cell_type": "code",
   "execution_count": null,
   "id": "364604c7",
   "metadata": {},
   "outputs": [],
   "source": [
    "corr_diff_20 = corr20.iloc[:, 0]"
   ]
  },
  {
   "cell_type": "code",
   "execution_count": null,
   "id": "058eed0b",
   "metadata": {},
   "outputs": [],
   "source": [
    "corr_diff_20 = pd.DataFrame(corr_diff_20)"
   ]
  },
  {
   "cell_type": "code",
   "execution_count": null,
   "id": "15dbb5e3",
   "metadata": {},
   "outputs": [],
   "source": [
    "corr_diff_20 = corr_diff_20.transpose()"
   ]
  },
  {
   "cell_type": "code",
   "execution_count": null,
   "id": "d3ba2b84",
   "metadata": {},
   "outputs": [],
   "source": [
    "corr_diff_20"
   ]
  },
  {
   "cell_type": "code",
   "execution_count": null,
   "id": "3ee1a870",
   "metadata": {},
   "outputs": [],
   "source": [
    "corr_diff_20.columns = ['margin range', 'median age', 'bachelor degree', 'manufacturing', '65+', 'hispanic or latino', 'white', 'black']\n",
    "corr_diff_20.index = ['margin range']\n",
    "corr_diff_20"
   ]
  },
  {
   "cell_type": "code",
   "execution_count": null,
   "id": "3ae7d384",
   "metadata": {},
   "outputs": [],
   "source": [
    "# pd.DataFrame(corr_diff_10)\n",
    "\n",
    "fig, ax = plt.subplots(figsize=(15, 3))\n",
    "\n",
    "# cmap = sns.diverging_palette(220, 10, as_cmap=True)\n",
    "cmap = 'bwr'\n",
    "\n",
    "sns.heatmap(corr_diff_20, cmap=cmap, center=0, annot=True, annot_kws={\"size\": 18},\n",
    "            linecolor='black',\n",
    "            square=True, linewidths=3, cbar=False) # cbar_kws={\"shrink\": .5, 'orientation': 'horizontal'})\n",
    "\n",
    "ax.set_facecolor('gray')\n",
    "fig.set_facecolor('white')\n",
    "\n",
    "# plt.xlabel('Demographic', fontsize=16, fontweight='bold')\n",
    "# plt.ylabel('Correlation', fontsize=16, fontweight='bold')\n",
    "plt.yticks(rotation=0, fontsize = 14)\n",
    "plt.xticks(rotation=0, fontsize = 14)\n",
    "plt.title('Correlation: County Demographics vs. Margin % Range (2012-2020)', fontsize = 18, fontweight='bold', pad=20)\n",
    "# plt.savefig('county_demo_heat_20.png', bbox_inches='tight')\n",
    "plt.show();"
   ]
  },
  {
   "cell_type": "code",
   "execution_count": null,
   "id": "3242a400",
   "metadata": {},
   "outputs": [],
   "source": []
  },
  {
   "cell_type": "code",
   "execution_count": null,
   "id": "bb07294c",
   "metadata": {},
   "outputs": [],
   "source": []
  },
  {
   "cell_type": "code",
   "execution_count": null,
   "id": "489248b5",
   "metadata": {},
   "outputs": [],
   "source": []
  },
  {
   "cell_type": "code",
   "execution_count": null,
   "id": "af0443fd",
   "metadata": {},
   "outputs": [],
   "source": []
  },
  {
   "cell_type": "code",
   "execution_count": null,
   "id": "f9ad85b9",
   "metadata": {},
   "outputs": [],
   "source": []
  },
  {
   "cell_type": "code",
   "execution_count": null,
   "id": "706e1699",
   "metadata": {},
   "outputs": [],
   "source": []
  },
  {
   "cell_type": "code",
   "execution_count": null,
   "id": "9009f0d7",
   "metadata": {},
   "outputs": [],
   "source": []
  },
  {
   "cell_type": "code",
   "execution_count": null,
   "id": "919022a6",
   "metadata": {},
   "outputs": [],
   "source": []
  },
  {
   "cell_type": "code",
   "execution_count": null,
   "id": "f9bfa356",
   "metadata": {},
   "outputs": [],
   "source": []
  },
  {
   "cell_type": "code",
   "execution_count": null,
   "id": "0e3e07b0",
   "metadata": {},
   "outputs": [],
   "source": [
    "test = no_sen[['year', 'office', 'total_votes', 'Rep', 'Dem', 'Other']]"
   ]
  },
  {
   "cell_type": "code",
   "execution_count": null,
   "id": "6c1fccd3",
   "metadata": {},
   "outputs": [],
   "source": [
    "test1 = test.groupby(['year', 'office']).sum().reset_index()"
   ]
  },
  {
   "cell_type": "code",
   "execution_count": null,
   "id": "30aab568",
   "metadata": {
    "scrolled": true
   },
   "outputs": [],
   "source": [
    "test1"
   ]
  },
  {
   "cell_type": "code",
   "execution_count": null,
   "id": "9494af39",
   "metadata": {},
   "outputs": [],
   "source": [
    "test1['Rep%'] = (test1['Rep'] / test1['total_votes'] * 100).round(1)\n",
    "test1['Dem%'] = (test1['Dem'] / test1['total_votes'] * 100).round(1)\n",
    "test1['Other%'] = (test1['Other'] / test1['total_votes'] * 100).round(1)"
   ]
  },
  {
   "cell_type": "code",
   "execution_count": null,
   "id": "bb58f29a",
   "metadata": {},
   "outputs": [],
   "source": []
  }
 ],
 "metadata": {
  "kernelspec": {
   "display_name": "Python 3 (ipykernel)",
   "language": "python",
   "name": "python3"
  },
  "language_info": {
   "codemirror_mode": {
    "name": "ipython",
    "version": 3
   },
   "file_extension": ".py",
   "mimetype": "text/x-python",
   "name": "python",
   "nbconvert_exporter": "python",
   "pygments_lexer": "ipython3",
   "version": "3.9.7"
  }
 },
 "nbformat": 4,
 "nbformat_minor": 5
}
