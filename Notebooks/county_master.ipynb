{
 "cells": [
  {
   "cell_type": "code",
   "execution_count": null,
   "id": "ab54d3e8",
   "metadata": {},
   "outputs": [],
   "source": [
    "import pandas as pd\n",
    "import numpy as np\n",
    "import matplotlib.pyplot as plt\n",
    "import seaborn as sns\n",
    "import requests\n",
    "import plotly.express as px\n",
    "\n",
    "%matplotlib inline"
   ]
  },
  {
   "cell_type": "code",
   "execution_count": null,
   "id": "c73b31d4",
   "metadata": {},
   "outputs": [],
   "source": [
    "df_02 = pd.read_csv('../Data/clean_county_02.csv')\n",
    "df_04 = pd.read_csv('../Data/clean_county_04.csv')\n",
    "df_06 = pd.read_csv('../Data/clean_county_06.csv')\n",
    "df_08 = pd.read_csv('../Data/clean_county_08.csv')\n",
    "df_10 = pd.read_csv('../Data/clean_county_10.csv')\n",
    "df_12 = pd.read_csv('../Data/clean_county_12.csv')\n",
    "df_14 = pd.read_csv('../Data/clean_county_14.csv')\n",
    "df_16 = pd.read_csv('../Data/clean_county_16.csv')\n",
    "df_18 = pd.read_csv('../Data/clean_county_18.csv')\n",
    "df_20 = pd.read_csv('../Data/clean_county_20.csv')"
   ]
  },
  {
   "cell_type": "code",
   "execution_count": null,
   "id": "d8436021",
   "metadata": {},
   "outputs": [],
   "source": [
    "df_20.head(10)"
   ]
  },
  {
   "cell_type": "code",
   "execution_count": null,
   "id": "f8825afd",
   "metadata": {},
   "outputs": [],
   "source": [
    "master_df = pd.concat([df_02, df_04, df_06, df_08, df_10, df_12, df_14, df_16, df_18, df_20,])\n",
    "master_df.head(50)"
   ]
  },
  {
   "cell_type": "code",
   "execution_count": null,
   "id": "561d6554",
   "metadata": {},
   "outputs": [],
   "source": [
    "master_df = master_df.reset_index(drop = True)\n"
   ]
  },
  {
   "cell_type": "code",
   "execution_count": null,
   "id": "1d32ebe9",
   "metadata": {},
   "outputs": [],
   "source": [
    "master_df"
   ]
  },
  {
   "cell_type": "code",
   "execution_count": null,
   "id": "80002132",
   "metadata": {},
   "outputs": [],
   "source": [
    "# no_sen.to_csv(\"master_county.csv\", index=False)"
   ]
  },
  {
   "cell_type": "code",
   "execution_count": null,
   "id": "b817ac8a",
   "metadata": {},
   "outputs": [],
   "source": [
    "no_sen = master_df.loc[master_df['office'] != 'State Senate']"
   ]
  },
  {
   "cell_type": "code",
   "execution_count": null,
   "id": "28641eef",
   "metadata": {},
   "outputs": [],
   "source": [
    "no_sen"
   ]
  },
  {
   "cell_type": "code",
   "execution_count": null,
   "id": "0e3e07b0",
   "metadata": {},
   "outputs": [],
   "source": [
    "test = no_sen[['year', 'office', 'total_votes', 'Rep', 'Dem', 'Other']]"
   ]
  },
  {
   "cell_type": "code",
   "execution_count": null,
   "id": "6c1fccd3",
   "metadata": {},
   "outputs": [],
   "source": [
    "test1 = test.groupby(['year', 'office']).sum().reset_index()"
   ]
  },
  {
   "cell_type": "code",
   "execution_count": null,
   "id": "30aab568",
   "metadata": {
    "scrolled": true
   },
   "outputs": [],
   "source": [
    "test1"
   ]
  },
  {
   "cell_type": "code",
   "execution_count": null,
   "id": "9494af39",
   "metadata": {},
   "outputs": [],
   "source": [
    "test1['Rep%'] = (test1['Rep'] / test1['total_votes'] * 100).round(1)\n",
    "test1['Dem%'] = (test1['Dem'] / test1['total_votes'] * 100).round(1)\n",
    "test1['Other%'] = (test1['Other'] / test1['total_votes'] * 100).round(1)"
   ]
  },
  {
   "cell_type": "code",
   "execution_count": null,
   "id": "bb58f29a",
   "metadata": {},
   "outputs": [],
   "source": []
  }
 ],
 "metadata": {
  "kernelspec": {
   "display_name": "Python 3 (ipykernel)",
   "language": "python",
   "name": "python3"
  },
  "language_info": {
   "codemirror_mode": {
    "name": "ipython",
    "version": 3
   },
   "file_extension": ".py",
   "mimetype": "text/x-python",
   "name": "python",
   "nbconvert_exporter": "python",
   "pygments_lexer": "ipython3",
   "version": "3.9.7"
  }
 },
 "nbformat": 4,
 "nbformat_minor": 5
}
