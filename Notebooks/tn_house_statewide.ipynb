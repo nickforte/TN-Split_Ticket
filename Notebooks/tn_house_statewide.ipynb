{
 "cells": [
  {
   "cell_type": "code",
   "execution_count": null,
   "id": "d4b8eff9",
   "metadata": {},
   "outputs": [],
   "source": [
    "import pandas as pd\n",
    "import numpy as np\n",
    "import matplotlib.pyplot as plt\n",
    "import seaborn as sns\n",
    "import requests\n",
    "from bs4 import BeautifulSoup as BS\n",
    "\n",
    "%matplotlib inline"
   ]
  },
  {
   "cell_type": "code",
   "execution_count": null,
   "id": "6d161930",
   "metadata": {},
   "outputs": [],
   "source": [
    "house_df = pd.read_csv('../Data/1976-2020-house.csv')"
   ]
  },
  {
   "cell_type": "code",
   "execution_count": null,
   "id": "4f78ebed",
   "metadata": {},
   "outputs": [],
   "source": [
    "house_df"
   ]
  },
  {
   "cell_type": "code",
   "execution_count": null,
   "id": "6ef76108",
   "metadata": {},
   "outputs": [],
   "source": [
    "tn_house = house_df.loc[house_df['state_po'] == 'TN']"
   ]
  },
  {
   "cell_type": "code",
   "execution_count": null,
   "id": "f9c26213",
   "metadata": {},
   "outputs": [],
   "source": [
    "tn_house"
   ]
  },
  {
   "cell_type": "code",
   "execution_count": null,
   "id": "be5c62eb",
   "metadata": {},
   "outputs": [],
   "source": [
    "tn_house = tn_house.loc[tn_house['year'] > 1979]"
   ]
  },
  {
   "cell_type": "code",
   "execution_count": null,
   "id": "ab953857",
   "metadata": {},
   "outputs": [],
   "source": [
    "tn_house.head()"
   ]
  },
  {
   "cell_type": "code",
   "execution_count": null,
   "id": "7d8c9f34",
   "metadata": {},
   "outputs": [],
   "source": [
    "for index, row in tn_house.iterrows():\n",
    "    if row.party == \"REPUBLICAN\":\n",
    "        tn_house.loc[index, 'party1'] = 'Rep'\n",
    "    elif row.party == \"DEMOCRAT\":\n",
    "        tn_house.loc[index, 'party1'] = 'Dem'\n",
    "    else:\n",
    "        tn_house.loc[index, 'party1'] = 'Other'"
   ]
  },
  {
   "cell_type": "code",
   "execution_count": null,
   "id": "e75e0909",
   "metadata": {},
   "outputs": [],
   "source": [
    "tn_house.head()"
   ]
  },
  {
   "cell_type": "code",
   "execution_count": null,
   "id": "b24c855b",
   "metadata": {},
   "outputs": [],
   "source": [
    "tn_house['party1'].value_counts()"
   ]
  },
  {
   "cell_type": "code",
   "execution_count": null,
   "id": "c6c15d93",
   "metadata": {},
   "outputs": [],
   "source": [
    "tn_house_year = tn_house.groupby(['year', 'party1'])['candidatevotes'].agg([('party_votes', 'sum')]).unstack().reset_index()"
   ]
  },
  {
   "cell_type": "code",
   "execution_count": null,
   "id": "34351b2a",
   "metadata": {},
   "outputs": [],
   "source": [
    "tn_house_year.head(3)"
   ]
  },
  {
   "cell_type": "code",
   "execution_count": null,
   "id": "fef88af3",
   "metadata": {},
   "outputs": [],
   "source": [
    "tn_house_year.columns = tn_house_year.columns.droplevel(0)"
   ]
  },
  {
   "cell_type": "code",
   "execution_count": null,
   "id": "8bc4bf4c",
   "metadata": {},
   "outputs": [],
   "source": [
    "tn_house_year.columns.name = None"
   ]
  },
  {
   "cell_type": "code",
   "execution_count": null,
   "id": "b428bbff",
   "metadata": {},
   "outputs": [],
   "source": [
    "tn_house_year.head(3)"
   ]
  },
  {
   "cell_type": "code",
   "execution_count": null,
   "id": "ceb15677",
   "metadata": {},
   "outputs": [],
   "source": [
    "tn_house_year['total_votes'] = tn_house_year['Dem'] + tn_house_year['Rep'] + tn_house_year['Other']"
   ]
  },
  {
   "cell_type": "code",
   "execution_count": null,
   "id": "ddec8ed9",
   "metadata": {},
   "outputs": [],
   "source": [
    "tn_house_year.head(3)"
   ]
  },
  {
   "cell_type": "code",
   "execution_count": null,
   "id": "b15abaee",
   "metadata": {},
   "outputs": [],
   "source": [
    "tn_house_year['Rep%'] = (tn_house_year['Rep'] / tn_house_year['total_votes'] * 100).round(1)\n",
    "tn_house_year['Dem%'] = (tn_house_year['Dem'] / tn_house_year['total_votes'] * 100).round(1)\n",
    "tn_house_year['Other%'] = (tn_house_year['Other'] / tn_house_year['total_votes'] * 100).round(1)"
   ]
  },
  {
   "cell_type": "code",
   "execution_count": null,
   "id": "ee091896",
   "metadata": {},
   "outputs": [],
   "source": [
    "tn_house_year.head(3)"
   ]
  },
  {
   "cell_type": "code",
   "execution_count": null,
   "id": "a6cacf09",
   "metadata": {},
   "outputs": [],
   "source": [
    "tn_house_year['office'] = 'US_House'"
   ]
  },
  {
   "cell_type": "code",
   "execution_count": null,
   "id": "1a3096a2",
   "metadata": {},
   "outputs": [],
   "source": [
    "tn_house_year.columns = ['year', 'Dem', 'Other', 'Rep', 'total_votes', 'Rep%', 'Dem%', 'Other%', 'office']\n",
    "tn_house_year.head()"
   ]
  },
  {
   "cell_type": "code",
   "execution_count": null,
   "id": "1b3fa95f",
   "metadata": {},
   "outputs": [],
   "source": [
    "tn_house_year = tn_house_year[['year', 'office', 'total_votes', 'Rep', 'Dem', 'Other', 'Rep%', 'Dem%', 'Other%']]"
   ]
  },
  {
   "cell_type": "code",
   "execution_count": null,
   "id": "f5a2fa85",
   "metadata": {},
   "outputs": [],
   "source": [
    "tn_house_year.head()"
   ]
  },
  {
   "cell_type": "code",
   "execution_count": null,
   "id": "07accae2",
   "metadata": {},
   "outputs": [],
   "source": [
    "# tn_house_year.to_csv(\"us_house_statewide_clean.csv\", index=False)"
   ]
  },
  {
   "cell_type": "code",
   "execution_count": null,
   "id": "8a84585f",
   "metadata": {},
   "outputs": [],
   "source": [
    "tn_house_year.info()"
   ]
  },
  {
   "cell_type": "code",
   "execution_count": null,
   "id": "e5d79662",
   "metadata": {},
   "outputs": [],
   "source": []
  }
 ],
 "metadata": {
  "kernelspec": {
   "display_name": "Python 3 (ipykernel)",
   "language": "python",
   "name": "python3"
  },
  "language_info": {
   "codemirror_mode": {
    "name": "ipython",
    "version": 3
   },
   "file_extension": ".py",
   "mimetype": "text/x-python",
   "name": "python",
   "nbconvert_exporter": "python",
   "pygments_lexer": "ipython3",
   "version": "3.9.7"
  }
 },
 "nbformat": 4,
 "nbformat_minor": 5
}
