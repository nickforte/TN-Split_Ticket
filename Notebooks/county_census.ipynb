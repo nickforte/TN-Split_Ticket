{
 "cells": [
  {
   "cell_type": "code",
   "execution_count": null,
   "id": "5fcf746e",
   "metadata": {},
   "outputs": [],
   "source": [
    "import pandas as pd\n",
    "import numpy as np\n",
    "import matplotlib.pyplot as plt\n",
    "import seaborn as sns\n",
    "import requests\n",
    "import plotly.express as px\n",
    "\n",
    "%matplotlib inline"
   ]
  },
  {
   "cell_type": "code",
   "execution_count": null,
   "id": "194527dd",
   "metadata": {},
   "outputs": [],
   "source": [
    "pd.set_option('display.max_columns', None)"
   ]
  },
  {
   "cell_type": "code",
   "execution_count": null,
   "id": "3b9c8145",
   "metadata": {},
   "outputs": [],
   "source": [
    "acs15 = pd.read_csv('../Data/ACS_county_master_2015.csv')\n",
    "acs20 = pd.read_csv('../Data/ACS_county_master_2020.csv')\n",
    "acs_state = pd.read_excel('../Data/ACS_state_master.xlsx')"
   ]
  },
  {
   "cell_type": "code",
   "execution_count": null,
   "id": "9491c443",
   "metadata": {},
   "outputs": [],
   "source": [
    "acs15"
   ]
  },
  {
   "cell_type": "code",
   "execution_count": null,
   "id": "db45fc38",
   "metadata": {},
   "outputs": [],
   "source": [
    "acs20"
   ]
  },
  {
   "cell_type": "code",
   "execution_count": null,
   "id": "63722129",
   "metadata": {},
   "outputs": [],
   "source": [
    "master_df = pd.concat([acs15, acs20])"
   ]
  },
  {
   "cell_type": "code",
   "execution_count": null,
   "id": "63723f48",
   "metadata": {},
   "outputs": [],
   "source": [
    "master_df = master_df.reset_index(drop = True)"
   ]
  },
  {
   "cell_type": "code",
   "execution_count": null,
   "id": "a66a21a4",
   "metadata": {},
   "outputs": [],
   "source": [
    "master_df = master_df.sort_values('county')"
   ]
  },
  {
   "cell_type": "code",
   "execution_count": null,
   "id": "a043cbda",
   "metadata": {},
   "outputs": [],
   "source": [
    "master_df = master_df.reset_index(drop = True)"
   ]
  },
  {
   "cell_type": "code",
   "execution_count": null,
   "id": "f176a8f2",
   "metadata": {},
   "outputs": [],
   "source": [
    "master_df"
   ]
  },
  {
   "cell_type": "code",
   "execution_count": null,
   "id": "3fe70708",
   "metadata": {},
   "outputs": [],
   "source": [
    "acs_state"
   ]
  },
  {
   "cell_type": "code",
   "execution_count": null,
   "id": "4772ef39",
   "metadata": {},
   "outputs": [],
   "source": [
    "type(acs_state)"
   ]
  },
  {
   "cell_type": "code",
   "execution_count": null,
   "id": "883e7134",
   "metadata": {},
   "outputs": [],
   "source": []
  }
 ],
 "metadata": {
  "kernelspec": {
   "display_name": "Python 3 (ipykernel)",
   "language": "python",
   "name": "python3"
  },
  "language_info": {
   "codemirror_mode": {
    "name": "ipython",
    "version": 3
   },
   "file_extension": ".py",
   "mimetype": "text/x-python",
   "name": "python",
   "nbconvert_exporter": "python",
   "pygments_lexer": "ipython3",
   "version": "3.9.7"
  }
 },
 "nbformat": 4,
 "nbformat_minor": 5
}
