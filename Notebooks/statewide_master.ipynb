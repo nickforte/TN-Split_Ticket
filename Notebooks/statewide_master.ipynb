{
 "cells": [
  {
   "cell_type": "code",
   "execution_count": null,
   "id": "74d487d2",
   "metadata": {},
   "outputs": [],
   "source": [
    "import pandas as pd\n",
    "import numpy as np\n",
    "import matplotlib.pyplot as plt\n",
    "import seaborn as sns\n",
    "import requests\n",
    "import plotly.express as px\n",
    "\n",
    "%matplotlib inline"
   ]
  },
  {
   "cell_type": "code",
   "execution_count": null,
   "id": "5599a0d1",
   "metadata": {},
   "outputs": [],
   "source": [
    "house_df = pd.read_csv('../Data/clean_us_house_statewide.csv')\n",
    "sen_df = pd.read_csv('../Data/clean_us_senate_statewide.csv')\n",
    "pres_df = pd.read_csv('../Data/clean_us_pres_statewide.csv')\n",
    "gov_df = pd.read_csv('../Data/clean_gov_statewide.csv')\n",
    "stateleg_df = pd.read_csv('../Data/clean_stateleg_statewide.csv')"
   ]
  },
  {
   "cell_type": "code",
   "execution_count": null,
   "id": "388d14e8",
   "metadata": {},
   "outputs": [],
   "source": [
    "house_df.head(3)"
   ]
  },
  {
   "cell_type": "code",
   "execution_count": null,
   "id": "e765bfca",
   "metadata": {},
   "outputs": [],
   "source": [
    "sen_df.head(3)"
   ]
  },
  {
   "cell_type": "code",
   "execution_count": null,
   "id": "06a73c51",
   "metadata": {},
   "outputs": [],
   "source": [
    "pres_df.head(3)"
   ]
  },
  {
   "cell_type": "code",
   "execution_count": null,
   "id": "e208d9b8",
   "metadata": {},
   "outputs": [],
   "source": [
    "gov_df.head(3)"
   ]
  },
  {
   "cell_type": "code",
   "execution_count": null,
   "id": "3a24d17a",
   "metadata": {},
   "outputs": [],
   "source": [
    "stateleg_df.head(3)"
   ]
  },
  {
   "cell_type": "code",
   "execution_count": null,
   "id": "932ea84c",
   "metadata": {},
   "outputs": [],
   "source": [
    "master_df = pd.concat([house_df, sen_df, pres_df, gov_df, stateleg_df])\n",
    "master_df.head()"
   ]
  },
  {
   "cell_type": "code",
   "execution_count": null,
   "id": "fb67078b",
   "metadata": {},
   "outputs": [],
   "source": [
    "master_df = master_df.reset_index(drop = True)\n",
    "master_df"
   ]
  },
  {
   "cell_type": "code",
   "execution_count": null,
   "id": "7dea3122",
   "metadata": {},
   "outputs": [],
   "source": [
    "master_df = master_df.sort_values(by=['year'])"
   ]
  },
  {
   "cell_type": "code",
   "execution_count": null,
   "id": "fa3ce2b9",
   "metadata": {},
   "outputs": [],
   "source": [
    "master_df = master_df.reset_index(drop = True)\n",
    "master_df"
   ]
  },
  {
   "cell_type": "code",
   "execution_count": null,
   "id": "eee94324",
   "metadata": {},
   "outputs": [],
   "source": [
    "master_df['Rep_margin'] = master_df['Rep%'] - master_df['Dem%']\n",
    "master_df['Dem_margin'] = master_df['Dem%'] - master_df['Rep%']"
   ]
  },
  {
   "cell_type": "code",
   "execution_count": null,
   "id": "b789c8ac",
   "metadata": {},
   "outputs": [],
   "source": [
    "master_df.tail(10)"
   ]
  },
  {
   "cell_type": "code",
   "execution_count": null,
   "id": "9ce616cf",
   "metadata": {},
   "outputs": [],
   "source": [
    "# master_df.to_csv(\"master_statewide.csv\", index=False)"
   ]
  },
  {
   "cell_type": "code",
   "execution_count": null,
   "id": "fe66d5e2",
   "metadata": {},
   "outputs": [],
   "source": []
  }
 ],
 "metadata": {
  "kernelspec": {
   "display_name": "Python 3 (ipykernel)",
   "language": "python",
   "name": "python3"
  },
  "language_info": {
   "codemirror_mode": {
    "name": "ipython",
    "version": 3
   },
   "file_extension": ".py",
   "mimetype": "text/x-python",
   "name": "python",
   "nbconvert_exporter": "python",
   "pygments_lexer": "ipython3",
   "version": "3.9.7"
  }
 },
 "nbformat": 4,
 "nbformat_minor": 5
}
