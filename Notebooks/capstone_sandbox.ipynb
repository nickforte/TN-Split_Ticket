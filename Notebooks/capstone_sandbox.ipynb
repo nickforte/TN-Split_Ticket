{
 "cells": [
  {
   "cell_type": "code",
   "execution_count": null,
   "id": "a439aa08",
   "metadata": {},
   "outputs": [],
   "source": [
    "import pandas as pd\n",
    "import numpy as np\n",
    "import matplotlib.pyplot as plt\n",
    "import seaborn as sns\n",
    "import requests\n",
    "from bs4 import BeautifulSoup as BS\n",
    "\n",
    "%matplotlib inline"
   ]
  },
  {
   "cell_type": "code",
   "execution_count": null,
   "id": "c28d9fcb",
   "metadata": {},
   "outputs": [],
   "source": [
    "pd.set_option('display.max_columns', None)"
   ]
  },
  {
   "cell_type": "code",
   "execution_count": null,
   "id": "a74c5785",
   "metadata": {},
   "outputs": [],
   "source": [
    "df_20 = pd.read_excel('../Data/2020_precinct_detail.xlsx')"
   ]
  },
  {
   "cell_type": "code",
   "execution_count": null,
   "id": "1ab7f729",
   "metadata": {},
   "outputs": [],
   "source": [
    "df_20.head(3)"
   ]
  },
  {
   "cell_type": "code",
   "execution_count": null,
   "id": "aa582458",
   "metadata": {},
   "outputs": [],
   "source": []
  },
  {
   "cell_type": "code",
   "execution_count": null,
   "id": "5ac24bf3",
   "metadata": {},
   "outputs": [],
   "source": []
  },
  {
   "cell_type": "code",
   "execution_count": null,
   "id": "ce7bca1d",
   "metadata": {},
   "outputs": [],
   "source": [
    "senate_20 = df_20.loc[df_20['OFFICENAME'] == ('United States Senate')]"
   ]
  },
  {
   "cell_type": "code",
   "execution_count": null,
   "id": "c64f048a",
   "metadata": {},
   "outputs": [],
   "source": [
    "senate_20"
   ]
  },
  {
   "cell_type": "code",
   "execution_count": null,
   "id": "f39c955c",
   "metadata": {},
   "outputs": [],
   "source": [
    "df_2002 = pd.read_stata('../Data/2002_precinct_detail.dta')"
   ]
  },
  {
   "cell_type": "code",
   "execution_count": null,
   "id": "2312b25a",
   "metadata": {},
   "outputs": [],
   "source": [
    "df_2002"
   ]
  },
  {
   "cell_type": "code",
   "execution_count": null,
   "id": "3e55be48",
   "metadata": {},
   "outputs": [],
   "source": [
    "print('Dem total: ' + str(df_2002['g2002_GOV_dv'].sum()))\n",
    "print('Rep total: ' + str(df_2002['g2002_GOV_rv'].sum()))"
   ]
  },
  {
   "cell_type": "code",
   "execution_count": null,
   "id": "dcfdd320",
   "metadata": {},
   "outputs": [],
   "source": [
    "d = {'g2002_GOV_dv': ['sum'], 'g2002_GOV_rv': ['sum']}\n",
    "res = df_2002.groupby('county').agg(d)"
   ]
  },
  {
   "cell_type": "code",
   "execution_count": null,
   "id": "85d8625b",
   "metadata": {},
   "outputs": [],
   "source": [
    "res"
   ]
  },
  {
   "cell_type": "code",
   "execution_count": null,
   "id": "b686229f",
   "metadata": {},
   "outputs": [],
   "source": [
    "all_house = pd.read_csv('../Data/1976-2020-house.csv')"
   ]
  },
  {
   "cell_type": "code",
   "execution_count": null,
   "id": "1b6661c7",
   "metadata": {},
   "outputs": [],
   "source": [
    "all_house.head(3)"
   ]
  },
  {
   "cell_type": "code",
   "execution_count": null,
   "id": "71f47b96",
   "metadata": {},
   "outputs": [],
   "source": [
    "tn_house7620 = all_house.loc[all_house['state_po'] == ('TN')]\n",
    "tn_house7620"
   ]
  },
  {
   "cell_type": "code",
   "execution_count": null,
   "id": "08811e47",
   "metadata": {},
   "outputs": [],
   "source": [
    "tn_house7620.groupby(['year', 'party'])['candidatevotes'].agg([('candidatevotes', 'sum')]).reset_index()\n"
   ]
  },
  {
   "cell_type": "code",
   "execution_count": null,
   "id": "265f1010",
   "metadata": {},
   "outputs": [],
   "source": [
    "stateleg_df = pd.read_stata('../Data/1967-2016_stateleg.dta')"
   ]
  },
  {
   "cell_type": "code",
   "execution_count": null,
   "id": "5c730e23",
   "metadata": {},
   "outputs": [],
   "source": [
    "stateleg_df.loc[stateleg_df['state'] == 'Tennessee']"
   ]
  },
  {
   "cell_type": "code",
   "execution_count": null,
   "id": "9ce0938c",
   "metadata": {},
   "outputs": [],
   "source": [
    "(stateleg_df.loc[stateleg_df['state'] == 'Tennessee'])['year'].value_counts()"
   ]
  },
  {
   "cell_type": "code",
   "execution_count": null,
   "id": "80b1043e",
   "metadata": {},
   "outputs": [],
   "source": [
    "gov_df = pd.read_excel('../Data/1961-2010_gov.xlsx')"
   ]
  },
  {
   "cell_type": "code",
   "execution_count": null,
   "id": "7b54909d",
   "metadata": {},
   "outputs": [],
   "source": [
    "gov_df"
   ]
  },
  {
   "cell_type": "code",
   "execution_count": null,
   "id": "ee2ddfcb",
   "metadata": {},
   "outputs": [],
   "source": [
    "tn_gov_df = gov_df.loc[gov_df['state'] == 'Tennessee']"
   ]
  },
  {
   "cell_type": "code",
   "execution_count": null,
   "id": "ff5400cf",
   "metadata": {
    "scrolled": true
   },
   "outputs": [],
   "source": [
    "tn_gov_df.loc[tn_gov_df['year'] == 2010]"
   ]
  },
  {
   "cell_type": "code",
   "execution_count": null,
   "id": "c3e988ec",
   "metadata": {},
   "outputs": [],
   "source": [
    "pbal_df = pd.read_excel('../Data/state_part_bal_1937-2011.xlsx')"
   ]
  },
  {
   "cell_type": "code",
   "execution_count": null,
   "id": "47402277",
   "metadata": {},
   "outputs": [],
   "source": [
    "pbal_df"
   ]
  },
  {
   "cell_type": "code",
   "execution_count": null,
   "id": "0a6936ee",
   "metadata": {},
   "outputs": [],
   "source": [
    "tn_pbal_df = pbal_df.loc[pbal_df['state'] == 'Tennessee']"
   ]
  },
  {
   "cell_type": "code",
   "execution_count": null,
   "id": "d8f7c4ea",
   "metadata": {},
   "outputs": [],
   "source": [
    "tn_pbal_df"
   ]
  },
  {
   "cell_type": "code",
   "execution_count": null,
   "id": "a0075694",
   "metadata": {},
   "outputs": [],
   "source": [
    "URL = 'https://uselectionatlas.org/RESULTS/compare.php?year=1982&fips=47&f=0&off=5&elect=0&type=state'\n",
    "\n",
    "response = requests.get(URL)"
   ]
  },
  {
   "cell_type": "code",
   "execution_count": null,
   "id": "9ca5f7c9",
   "metadata": {},
   "outputs": [],
   "source": [
    "type(response)"
   ]
  },
  {
   "cell_type": "code",
   "execution_count": null,
   "id": "a307fb67",
   "metadata": {},
   "outputs": [],
   "source": [
    "response.status_code"
   ]
  },
  {
   "cell_type": "code",
   "execution_count": null,
   "id": "fda131ca",
   "metadata": {},
   "outputs": [],
   "source": [
    "response.text"
   ]
  },
  {
   "cell_type": "code",
   "execution_count": null,
   "id": "fa458caf",
   "metadata": {},
   "outputs": [],
   "source": [
    "soup = BS(response.text)"
   ]
  },
  {
   "cell_type": "code",
   "execution_count": null,
   "id": "3b29cc26",
   "metadata": {},
   "outputs": [],
   "source": [
    "soup"
   ]
  },
  {
   "cell_type": "code",
   "execution_count": null,
   "id": "074cf32d",
   "metadata": {},
   "outputs": [],
   "source": [
    "print(soup.prettify())"
   ]
  },
  {
   "cell_type": "code",
   "execution_count": null,
   "id": "3baecd9a",
   "metadata": {},
   "outputs": [],
   "source": [
    "soup.findAll('table')"
   ]
  },
  {
   "cell_type": "code",
   "execution_count": null,
   "id": "edd920af",
   "metadata": {},
   "outputs": [],
   "source": [
    "soup.find('table', attrs={'class' : 'datatable'})"
   ]
  },
  {
   "cell_type": "code",
   "execution_count": null,
   "id": "b24bb893",
   "metadata": {},
   "outputs": [],
   "source": [
    "table_html = str(soup.find('table', attrs={'id' : 'datatable'}))\n",
    "\n",
    "from IPython.core.display import HTML\n",
    "\n",
    "HTML(table_html)\n",
    "\n"
   ]
  },
  {
   "cell_type": "code",
   "execution_count": null,
   "id": "598a41e7",
   "metadata": {},
   "outputs": [],
   "source": [
    "gov_df = pd.read_html(str(soup.find('table', attrs={'id' : 'datatable'})))[0]"
   ]
  },
  {
   "cell_type": "code",
   "execution_count": null,
   "id": "a68c8d37",
   "metadata": {},
   "outputs": [],
   "source": [
    "gov_df"
   ]
  },
  {
   "cell_type": "code",
   "execution_count": null,
   "id": "c20442db",
   "metadata": {},
   "outputs": [],
   "source": [
    "gov_df.drop(columns = ['Map', 'Pie', 'I'], inplace=True)"
   ]
  },
  {
   "cell_type": "code",
   "execution_count": null,
   "id": "d8cc155c",
   "metadata": {},
   "outputs": [],
   "source": [
    "gov_df.drop(gov_df.index[[0, 11, 12, 13, 14, 15]], inplace=True)"
   ]
  },
  {
   "cell_type": "code",
   "execution_count": null,
   "id": "e69c324b",
   "metadata": {},
   "outputs": [],
   "source": [
    "gov_df"
   ]
  },
  {
   "cell_type": "code",
   "execution_count": null,
   "id": "4b6ff490",
   "metadata": {},
   "outputs": [],
   "source": [
    "gov_df[gov_df.columns[0:5]] = gov_df[gov_df.columns[0:5]].astype('int64')\n"
   ]
  },
  {
   "cell_type": "code",
   "execution_count": null,
   "id": "36412022",
   "metadata": {},
   "outputs": [],
   "source": [
    "gov_df"
   ]
  },
  {
   "cell_type": "code",
   "execution_count": null,
   "id": "b443009b",
   "metadata": {},
   "outputs": [],
   "source": [
    "gov_df[gov_df.columns[10:15]] = gov_df[gov_df.columns[10:15]].astype('int64')"
   ]
  },
  {
   "cell_type": "code",
   "execution_count": null,
   "id": "bd21325d",
   "metadata": {},
   "outputs": [],
   "source": [
    "gov_df"
   ]
  },
  {
   "cell_type": "code",
   "execution_count": null,
   "id": "050a11d4",
   "metadata": {},
   "outputs": [],
   "source": [
    "gov_df['office'] = 'Gov'"
   ]
  },
  {
   "cell_type": "code",
   "execution_count": null,
   "id": "66cd2a83",
   "metadata": {},
   "outputs": [],
   "source": [
    "gov_df.rename({'Year': 'year', 'Total': 'total_votes', 'Dem': 'Dem%', 'Rep': 'Rep%', 'Oth.': 'Other%', 'Dem.1': 'Dem', 'Rep.1': 'Rep', 'Other': 'Oth_total'}, axis=1, inplace=True) "
   ]
  },
  {
   "cell_type": "code",
   "execution_count": null,
   "id": "583a4092",
   "metadata": {
    "scrolled": true
   },
   "outputs": [],
   "source": [
    "gov_df.head(3)"
   ]
  },
  {
   "cell_type": "code",
   "execution_count": null,
   "id": "fd151ffc",
   "metadata": {},
   "outputs": [],
   "source": [
    "gov_df['Other'] = gov_df['Ind.1'] + gov_df['Oth_total']"
   ]
  },
  {
   "cell_type": "code",
   "execution_count": null,
   "id": "341ed8af",
   "metadata": {},
   "outputs": [],
   "source": [
    "gov_df.head(3)"
   ]
  },
  {
   "cell_type": "code",
   "execution_count": null,
   "id": "77bd4697",
   "metadata": {},
   "outputs": [],
   "source": [
    "gov_df = gov_df[['year', 'office', 'total_votes', 'Rep', 'Dem', 'Other', 'Rep%', 'Dem%', 'Other%']]"
   ]
  },
  {
   "cell_type": "code",
   "execution_count": null,
   "id": "da3b4db0",
   "metadata": {
    "scrolled": true
   },
   "outputs": [],
   "source": [
    "gov_df.head(3)"
   ]
  },
  {
   "cell_type": "code",
   "execution_count": null,
   "id": "3fe50f17",
   "metadata": {},
   "outputs": [],
   "source": [
    "gov_df['Rep%'] = (gov_df['Rep%'].str.rstrip('%').astype('float')).round(1)\n",
    "gov_df['Dem%'] = (gov_df['Dem%'].str.rstrip('%').astype('float')).round(1)\n",
    "gov_df['Other%'] = (gov_df['Other%'].str.rstrip('%').astype('float')).round(1)"
   ]
  },
  {
   "cell_type": "code",
   "execution_count": null,
   "id": "241a786f",
   "metadata": {},
   "outputs": [],
   "source": [
    "gov_df"
   ]
  },
  {
   "cell_type": "code",
   "execution_count": null,
   "id": "f3a4fd52",
   "metadata": {},
   "outputs": [],
   "source": [
    "gov_df.info()"
   ]
  },
  {
   "cell_type": "code",
   "execution_count": null,
   "id": "08205fc3",
   "metadata": {},
   "outputs": [],
   "source": [
    "# gov_df.to_csv(\"gov_statewide_clean.csv\", index=False)"
   ]
  },
  {
   "cell_type": "code",
   "execution_count": null,
   "id": "4886bd31",
   "metadata": {},
   "outputs": [],
   "source": []
  },
  {
   "cell_type": "code",
   "execution_count": null,
   "id": "d1e48a05",
   "metadata": {},
   "outputs": [],
   "source": []
  },
  {
   "cell_type": "code",
   "execution_count": null,
   "id": "f9c6867a",
   "metadata": {},
   "outputs": [],
   "source": []
  },
  {
   "cell_type": "markdown",
   "id": "0d98d1ff",
   "metadata": {},
   "source": [
    "add 'win' column to denote winning party\n",
    "\n",
    "for index, row in gov_df.iterrows():\n",
    "    if row.D == 1:\n",
    "        gov_df.loc[index, 'win'] = 'D'\n",
    "    elif row.D == 2:\n",
    "        gov_df.loc[index, 'win'] = 'R'\n",
    "    else:\n",
    "        gov_df.loc[index, 'win'] = 'O'"
   ]
  },
  {
   "cell_type": "code",
   "execution_count": null,
   "id": "070771e0",
   "metadata": {},
   "outputs": [],
   "source": []
  },
  {
   "cell_type": "code",
   "execution_count": null,
   "id": "844e73c1",
   "metadata": {
    "scrolled": true
   },
   "outputs": [],
   "source": [
    "gov_df"
   ]
  },
  {
   "cell_type": "code",
   "execution_count": null,
   "id": "f01fab69",
   "metadata": {},
   "outputs": [],
   "source": []
  }
 ],
 "metadata": {
  "kernelspec": {
   "display_name": "Python 3 (ipykernel)",
   "language": "python",
   "name": "python3"
  },
  "language_info": {
   "codemirror_mode": {
    "name": "ipython",
    "version": 3
   },
   "file_extension": ".py",
   "mimetype": "text/x-python",
   "name": "python",
   "nbconvert_exporter": "python",
   "pygments_lexer": "ipython3",
   "version": "3.9.7"
  }
 },
 "nbformat": 4,
 "nbformat_minor": 5
}
