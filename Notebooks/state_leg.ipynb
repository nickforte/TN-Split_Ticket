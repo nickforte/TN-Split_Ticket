{
 "cells": [
  {
   "cell_type": "code",
   "execution_count": null,
   "id": "6c8a0fbc",
   "metadata": {},
   "outputs": [],
   "source": [
    "import pandas as pd\n",
    "import numpy as np\n",
    "import matplotlib.pyplot as plt\n",
    "import seaborn as sns\n",
    "import requests\n",
    "\n",
    "%matplotlib inline"
   ]
  },
  {
   "cell_type": "code",
   "execution_count": null,
   "id": "6593d766",
   "metadata": {},
   "outputs": [],
   "source": [
    "pd.set_option('display.max_columns', None)"
   ]
  },
  {
   "cell_type": "code",
   "execution_count": null,
   "id": "b76ad03c",
   "metadata": {},
   "outputs": [],
   "source": [
    "sl_df = pd.read_stata('../Data/1967-2016_stateleg.dta')"
   ]
  },
  {
   "cell_type": "code",
   "execution_count": null,
   "id": "ec8e294b",
   "metadata": {},
   "outputs": [],
   "source": [
    "sl_df"
   ]
  },
  {
   "cell_type": "code",
   "execution_count": null,
   "id": "406d0253",
   "metadata": {},
   "outputs": [],
   "source": [
    "# df_18['OFFICENAME'].value_counts()"
   ]
  },
  {
   "cell_type": "code",
   "execution_count": null,
   "id": "e0a06eb0",
   "metadata": {},
   "outputs": [],
   "source": [
    "# subset to only state leg results\n",
    "mask = sl_df['state'].str.contains('Tennessee')\n",
    "sleg = sl_df[mask]"
   ]
  },
  {
   "cell_type": "code",
   "execution_count": null,
   "id": "681691aa",
   "metadata": {},
   "outputs": [],
   "source": [
    "sleg.head()"
   ]
  },
  {
   "cell_type": "code",
   "execution_count": null,
   "id": "770cfbbb",
   "metadata": {},
   "outputs": [],
   "source": [
    "sleg['seatsup'].value_counts()"
   ]
  },
  {
   "cell_type": "code",
   "execution_count": null,
   "id": "852f497d",
   "metadata": {},
   "outputs": [],
   "source": [
    "sleg.loc[sleg['seatsup'] == 99]"
   ]
  },
  {
   "cell_type": "markdown",
   "id": "32bbed3d",
   "metadata": {},
   "source": [
    "# new column to group every row into either State House or Senate\n",
    "for index, row in sleg.iterrows():\n",
    "    if 'House' in row['OFFICENAME']:\n",
    "        stateleg_18.loc[index, 'chamber'] = 'State House'\n",
    "    elif 'Senate' in row['OFFICENAME']:\n",
    "        stateleg_18.loc[index, 'chamber'] = 'State Senate'\n",
    "    else:\n",
    "        stateleg_18.loc[index, 'chamber'] = 'Other'"
   ]
  },
  {
   "cell_type": "code",
   "execution_count": null,
   "id": "99b1b3cc",
   "metadata": {},
   "outputs": [],
   "source": [
    "for index, row in sleg.iterrows():    \n",
    "    if row.sen >= 1:\n",
    "        sleg.loc[index, 'office'] = 'State Senate'\n",
    "    elif row.sen < 1:\n",
    "        sleg.loc[index, 'office'] = 'State House'\n",
    "    else:\n",
    "        sleg.loc[index, 'office'] = 'Other'"
   ]
  },
  {
   "cell_type": "code",
   "execution_count": null,
   "id": "6ea03f8a",
   "metadata": {},
   "outputs": [],
   "source": [
    "sleg.office.value_counts()"
   ]
  },
  {
   "cell_type": "code",
   "execution_count": null,
   "id": "5f0147a2",
   "metadata": {},
   "outputs": [],
   "source": [
    "sleg = sleg.loc[sleg['year'] >= 1980]"
   ]
  },
  {
   "cell_type": "code",
   "execution_count": null,
   "id": "0ad7286e",
   "metadata": {},
   "outputs": [],
   "source": [
    "sleg"
   ]
  },
  {
   "cell_type": "code",
   "execution_count": null,
   "id": "37be3566",
   "metadata": {
    "scrolled": true
   },
   "outputs": [],
   "source": [
    "sleg.head(10)"
   ]
  },
  {
   "cell_type": "code",
   "execution_count": null,
   "id": "2a8ff479",
   "metadata": {},
   "outputs": [],
   "source": [
    "sleg = sleg[['year', 'sen', 'dvote', 'rvote', 'ovote', 'office']]"
   ]
  },
  {
   "cell_type": "code",
   "execution_count": null,
   "id": "324c5bab",
   "metadata": {},
   "outputs": [],
   "source": [
    "sleg"
   ]
  },
  {
   "cell_type": "code",
   "execution_count": null,
   "id": "f71e0992",
   "metadata": {},
   "outputs": [],
   "source": [
    "cols = sleg.columns.drop('office')\n",
    "\n",
    "sleg[cols] = sleg[cols].astype('Int64')"
   ]
  },
  {
   "cell_type": "code",
   "execution_count": null,
   "id": "2e7b10d0",
   "metadata": {},
   "outputs": [],
   "source": [
    "sleg['total_votes'] = sleg['dvote'] + sleg['rvote'] + sleg['ovote']"
   ]
  },
  {
   "cell_type": "code",
   "execution_count": null,
   "id": "ef645227",
   "metadata": {},
   "outputs": [],
   "source": [
    "sleg['Rep%'] = (sleg['rvote'] / sleg['total_votes'] * 100).round(1)\n",
    "sleg['Dem%'] = (sleg['dvote'] / sleg['total_votes'] * 100).round(1)\n",
    "sleg['Other%'] = (sleg['ovote'] / sleg['total_votes'] * 100).round(1)"
   ]
  },
  {
   "cell_type": "code",
   "execution_count": null,
   "id": "176d7ff0",
   "metadata": {},
   "outputs": [],
   "source": [
    "sleg = sleg.rename(columns={'dvote': 'Dem', 'rvote': 'Rep', 'ovote': 'Other'})"
   ]
  },
  {
   "cell_type": "code",
   "execution_count": null,
   "id": "6feed410",
   "metadata": {},
   "outputs": [],
   "source": [
    "sleg = sleg[['year', 'Dem', 'Rep', 'Other', 'office', 'total_votes']]"
   ]
  },
  {
   "cell_type": "code",
   "execution_count": null,
   "id": "a2b341b2",
   "metadata": {},
   "outputs": [],
   "source": [
    "sleg_year = sleg.groupby(['year', 'office']).agg({'Dem': 'sum', 'Rep': 'sum', 'Other': 'sum', 'total_votes': 'sum'}).reset_index()"
   ]
  },
  {
   "cell_type": "code",
   "execution_count": null,
   "id": "5824a5f5",
   "metadata": {
    "scrolled": false
   },
   "outputs": [],
   "source": [
    "sleg_year.head()"
   ]
  },
  {
   "cell_type": "code",
   "execution_count": null,
   "id": "5a074849",
   "metadata": {},
   "outputs": [],
   "source": [
    "sleg_year['Rep%'] = (sleg_year['Rep'] / sleg_year['total_votes'] * 100).round(1)\n",
    "sleg_year['Dem%'] = (sleg_year['Dem'] / sleg_year['total_votes'] * 100).round(1)\n",
    "sleg_year['Other%'] = (sleg_year['Other'] / sleg_year['total_votes'] * 100).round(1)"
   ]
  },
  {
   "cell_type": "code",
   "execution_count": null,
   "id": "e6fc1bed",
   "metadata": {},
   "outputs": [],
   "source": [
    "sleg_year = sleg_year[['year', 'office', 'total_votes', 'Rep', 'Dem', 'Other', 'Rep%', 'Dem%', 'Other%']]"
   ]
  },
  {
   "cell_type": "code",
   "execution_count": null,
   "id": "3e9f3fb1",
   "metadata": {},
   "outputs": [],
   "source": [
    "sleg_year"
   ]
  },
  {
   "cell_type": "code",
   "execution_count": null,
   "id": "f6152f69",
   "metadata": {},
   "outputs": [],
   "source": [
    "stateleg_18 = pd.read_csv('../Data/clean_stateleg_18.csv')\n",
    "stateleg_20 = pd.read_csv('../Data/clean_stateleg_20.csv')"
   ]
  },
  {
   "cell_type": "code",
   "execution_count": null,
   "id": "ddc4be3d",
   "metadata": {},
   "outputs": [],
   "source": [
    "stateleg_18.head(3)"
   ]
  },
  {
   "cell_type": "code",
   "execution_count": null,
   "id": "07fca07d",
   "metadata": {},
   "outputs": [],
   "source": [
    "stateleg_20.head(3)"
   ]
  },
  {
   "cell_type": "code",
   "execution_count": null,
   "id": "df332f7b",
   "metadata": {},
   "outputs": [],
   "source": [
    "stateleg_master = pd.concat([sleg_year, stateleg_18, stateleg_20])\n",
    "stateleg_master"
   ]
  },
  {
   "cell_type": "code",
   "execution_count": null,
   "id": "49ce2415",
   "metadata": {},
   "outputs": [],
   "source": [
    "# stateleg_master.to_csv(\"clean_stateleg_statewide.csv\", index=False)"
   ]
  },
  {
   "cell_type": "code",
   "execution_count": null,
   "id": "7a5982d4",
   "metadata": {},
   "outputs": [],
   "source": []
  },
  {
   "cell_type": "code",
   "execution_count": null,
   "id": "d6511270",
   "metadata": {},
   "outputs": [],
   "source": []
  },
  {
   "cell_type": "code",
   "execution_count": null,
   "id": "671034d7",
   "metadata": {},
   "outputs": [],
   "source": []
  },
  {
   "cell_type": "code",
   "execution_count": null,
   "id": "65d98f61",
   "metadata": {},
   "outputs": [],
   "source": [
    "# create 3 new columns for votes by party (Rep, Dem, Other)\n",
    "for index, row in stateleg_18.iterrows():\n",
    "    if row.PARTY1 == \"Republican\":\n",
    "        stateleg_18.loc[index, 'Rep'] = stateleg_18.loc[index, 'PVTALLY1']\n",
    "    elif row.PARTY1 == \"Democratic\":\n",
    "        stateleg_18.loc[index, 'Dem'] = stateleg_18.loc[index, 'PVTALLY1']\n",
    "    else:\n",
    "        stateleg_18.loc[index, 'Other'] = stateleg_18.loc[index, 'PVTALLY1']"
   ]
  },
  {
   "cell_type": "code",
   "execution_count": null,
   "id": "534b7105",
   "metadata": {},
   "outputs": [],
   "source": [
    "for index, row in stateleg_18.iterrows():\n",
    "    if row.PARTY2 == \"Republican\":\n",
    "        stateleg_18.loc[index, 'Rep'] = stateleg_18.loc[index, 'PVTALLY2']\n",
    "    elif row.PARTY2 == \"Democratic\":\n",
    "        stateleg_18.loc[index, 'Dem'] = stateleg_18.loc[index, 'PVTALLY2']\n",
    "    else:\n",
    "        stateleg_18.loc[index, 'Other'] = stateleg_18.loc[index, 'PVTALLY2']"
   ]
  },
  {
   "cell_type": "code",
   "execution_count": null,
   "id": "8d40cee3",
   "metadata": {},
   "outputs": [],
   "source": [
    "for index, row in stateleg_18.iterrows():\n",
    "    if row.PARTY3 == \"Democratic\":\n",
    "        stateleg_18.loc[index, 'Dem'] = stateleg_18.loc[index, 'PVTALLY3']\n",
    "    else:\n",
    "        stateleg_18.loc[index, 'Other'] = stateleg_18.loc[index, 'PVTALLY3']"
   ]
  },
  {
   "cell_type": "code",
   "execution_count": null,
   "id": "5e1038ae",
   "metadata": {},
   "outputs": [],
   "source": [
    "# eliminate unnecessary columns\n",
    "stateleg_18 = stateleg_18[['Rep', 'Dem', 'Other', 'chamber']]"
   ]
  },
  {
   "cell_type": "code",
   "execution_count": null,
   "id": "b64fa0f4",
   "metadata": {
    "scrolled": false
   },
   "outputs": [],
   "source": [
    "stateleg_18.head()"
   ]
  },
  {
   "cell_type": "code",
   "execution_count": null,
   "id": "bdadbf58",
   "metadata": {},
   "outputs": [],
   "source": [
    "# change any floats to int\n",
    "cols = stateleg_18.columns.drop('chamber')\n",
    "\n",
    "stateleg_18[cols] = stateleg_18[cols].astype('Int64')"
   ]
  },
  {
   "cell_type": "code",
   "execution_count": null,
   "id": "02365113",
   "metadata": {},
   "outputs": [],
   "source": [
    "# create total votes column\n",
    "stateleg_18['total_votes'] = stateleg_18['Dem'].fillna(0) + stateleg_18['Rep'].fillna(0) + stateleg_18['Other'].fillna(0)"
   ]
  },
  {
   "cell_type": "code",
   "execution_count": null,
   "id": "0e45b825",
   "metadata": {},
   "outputs": [],
   "source": [
    "stateleg_18.info()"
   ]
  },
  {
   "cell_type": "code",
   "execution_count": null,
   "id": "9ac5b80f",
   "metadata": {
    "scrolled": true
   },
   "outputs": [],
   "source": [
    "stateleg_18.head()"
   ]
  },
  {
   "cell_type": "code",
   "execution_count": null,
   "id": "9ede543f",
   "metadata": {},
   "outputs": [],
   "source": [
    "# group by chamber, agg vote sums for Rep, Dem, Other\n",
    "sl_18_clean = stateleg_18.groupby('chamber').agg({'Rep': 'sum', 'Dem': 'sum', 'Other': 'sum', 'total_votes': 'sum'}).reset_index()"
   ]
  },
  {
   "cell_type": "code",
   "execution_count": null,
   "id": "362079bb",
   "metadata": {
    "scrolled": false
   },
   "outputs": [],
   "source": [
    "sl_18_clean"
   ]
  },
  {
   "cell_type": "code",
   "execution_count": null,
   "id": "b3bef2ff",
   "metadata": {},
   "outputs": [],
   "source": [
    "# create new columns for vote % (Rep, Dem, Other)\n",
    "sl_18_clean['Rep%'] = (sl_18_clean['Rep'] / sl_18_clean['total_votes'] * 100).round(1)\n",
    "sl_18_clean['Dem%'] = (sl_18_clean['Dem'] / sl_18_clean['total_votes'] * 100).round(1)\n",
    "sl_18_clean['Other%'] = (sl_18_clean['Other'] / sl_18_clean['total_votes'] * 100).round(1)"
   ]
  },
  {
   "cell_type": "code",
   "execution_count": null,
   "id": "b79bc0a0",
   "metadata": {},
   "outputs": [],
   "source": [
    "# create year column\n",
    "sl_18_clean['year'] = '2018'"
   ]
  },
  {
   "cell_type": "code",
   "execution_count": null,
   "id": "034d1406",
   "metadata": {},
   "outputs": [],
   "source": [
    "sl_18_clean = sl_18_clean.rename(columns={'chamber': 'office'})"
   ]
  },
  {
   "cell_type": "code",
   "execution_count": null,
   "id": "4e9d63f7",
   "metadata": {},
   "outputs": [],
   "source": [
    "sl_18_clean"
   ]
  },
  {
   "cell_type": "code",
   "execution_count": null,
   "id": "5b9571e0",
   "metadata": {},
   "outputs": [],
   "source": [
    "sl_18_clean = sl_18_clean[['year', 'office', 'total_votes', 'Rep', 'Dem', 'Other', 'Rep%', 'Dem%', 'Other%']]"
   ]
  },
  {
   "cell_type": "code",
   "execution_count": null,
   "id": "d1faca20",
   "metadata": {},
   "outputs": [],
   "source": [
    "sl_18_clean"
   ]
  },
  {
   "cell_type": "code",
   "execution_count": null,
   "id": "21823d01",
   "metadata": {},
   "outputs": [],
   "source": [
    "# sl_18_clean.to_csv(\"clean_stateleg_18.csv\", index=False)"
   ]
  },
  {
   "cell_type": "code",
   "execution_count": null,
   "id": "48a054a6",
   "metadata": {},
   "outputs": [],
   "source": []
  }
 ],
 "metadata": {
  "kernelspec": {
   "display_name": "Python 3 (ipykernel)",
   "language": "python",
   "name": "python3"
  },
  "language_info": {
   "codemirror_mode": {
    "name": "ipython",
    "version": 3
   },
   "file_extension": ".py",
   "mimetype": "text/x-python",
   "name": "python",
   "nbconvert_exporter": "python",
   "pygments_lexer": "ipython3",
   "version": "3.9.7"
  }
 },
 "nbformat": 4,
 "nbformat_minor": 5
}
