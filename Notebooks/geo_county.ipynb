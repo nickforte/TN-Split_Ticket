{
 "cells": [
  {
   "cell_type": "code",
   "execution_count": null,
   "id": "49610325",
   "metadata": {},
   "outputs": [],
   "source": [
    "from shapely.geometry import Point\n",
    "import pandas as pd\n",
    "import geopandas as gpd\n",
    "import matplotlib.pyplot as plt\n",
    "from matplotlib.colors import ListedColormap\n",
    "import folium\n",
    "from folium.plugins import MarkerCluster\n",
    "from folium.plugins import FastMarkerCluster"
   ]
  },
  {
   "cell_type": "code",
   "execution_count": null,
   "id": "6fc169c2",
   "metadata": {},
   "outputs": [],
   "source": [
    "pd.set_option('display.max_columns', None)"
   ]
  },
  {
   "cell_type": "code",
   "execution_count": null,
   "id": "b3a3abaa",
   "metadata": {},
   "outputs": [],
   "source": [
    "counties = gpd.read_file('../Data/2020_shapefiles/tl_2020_us_county.shp')\n",
    "print(counties.crs)\n",
    "counties.head()"
   ]
  },
  {
   "cell_type": "code",
   "execution_count": null,
   "id": "25f15d3c",
   "metadata": {},
   "outputs": [],
   "source": [
    "type(counties)"
   ]
  },
  {
   "cell_type": "code",
   "execution_count": null,
   "id": "2845d207",
   "metadata": {},
   "outputs": [],
   "source": [
    "tn_county = counties.loc[counties['STATEFP'] == '47']"
   ]
  },
  {
   "cell_type": "code",
   "execution_count": null,
   "id": "9dfe7648",
   "metadata": {},
   "outputs": [],
   "source": [
    "tn_county = tn_county.reset_index(drop=True)"
   ]
  },
  {
   "cell_type": "code",
   "execution_count": null,
   "id": "29a14bf7",
   "metadata": {},
   "outputs": [],
   "source": [
    "tn_county.rename(columns={'NAME': 'county'}, inplace=True)"
   ]
  },
  {
   "cell_type": "code",
   "execution_count": null,
   "id": "b870b9f5",
   "metadata": {},
   "outputs": [],
   "source": [
    "tn_county.head(3)"
   ]
  },
  {
   "cell_type": "code",
   "execution_count": null,
   "id": "7e3d953d",
   "metadata": {},
   "outputs": [],
   "source": [
    "tn_county.plot(figsize = (12, 12));"
   ]
  },
  {
   "cell_type": "code",
   "execution_count": null,
   "id": "0df60f34",
   "metadata": {},
   "outputs": [],
   "source": [
    "tn_county = tn_county[['county', 'geometry']]"
   ]
  },
  {
   "cell_type": "code",
   "execution_count": null,
   "id": "3f9032e1",
   "metadata": {},
   "outputs": [],
   "source": [
    "tn_county['county'] = tn_county['county'].str.title()"
   ]
  },
  {
   "cell_type": "code",
   "execution_count": null,
   "id": "eba6b3d5",
   "metadata": {},
   "outputs": [],
   "source": [
    "tn_county.head(3)"
   ]
  },
  {
   "cell_type": "code",
   "execution_count": null,
   "id": "08ef30f4",
   "metadata": {},
   "outputs": [],
   "source": [
    "master_county = pd.read_csv('../Data/master_county.csv')"
   ]
  },
  {
   "cell_type": "code",
   "execution_count": null,
   "id": "7800fc27",
   "metadata": {},
   "outputs": [],
   "source": [
    "master_county.head()"
   ]
  },
  {
   "cell_type": "code",
   "execution_count": null,
   "id": "5d311282",
   "metadata": {},
   "outputs": [],
   "source": [
    "# tn_county_geo = pd.merge(master_county, tn_county, how='left', left_on='county', right_on='county')"
   ]
  },
  {
   "cell_type": "code",
   "execution_count": null,
   "id": "6ea06005",
   "metadata": {},
   "outputs": [],
   "source": [
    "tn_county_geo = master_county.merge(tn_county)"
   ]
  },
  {
   "cell_type": "code",
   "execution_count": null,
   "id": "d4cc60f6",
   "metadata": {},
   "outputs": [],
   "source": [
    "tn_county_geo.info()"
   ]
  },
  {
   "cell_type": "code",
   "execution_count": null,
   "id": "61024083",
   "metadata": {},
   "outputs": [],
   "source": [
    "type(tn_county_geo)"
   ]
  },
  {
   "cell_type": "code",
   "execution_count": null,
   "id": "dbf8ab71",
   "metadata": {},
   "outputs": [],
   "source": [
    "county_geo = gpd.GeoDataFrame(tn_county_geo,\n",
    "                           crs = tn_county.crs,\n",
    "                           geometry = tn_county_geo['geometry'])"
   ]
  },
  {
   "cell_type": "code",
   "execution_count": null,
   "id": "52d16d41",
   "metadata": {},
   "outputs": [],
   "source": [
    "type(county_geo)"
   ]
  },
  {
   "cell_type": "code",
   "execution_count": null,
   "id": "969bc049",
   "metadata": {},
   "outputs": [],
   "source": [
    "county_geo.info()"
   ]
  },
  {
   "cell_type": "code",
   "execution_count": null,
   "id": "9c54fa1e",
   "metadata": {},
   "outputs": [],
   "source": [
    "county_geo"
   ]
  },
  {
   "cell_type": "code",
   "execution_count": null,
   "id": "0ed77a24",
   "metadata": {},
   "outputs": [],
   "source": [
    "sen20 = county_geo[(county_geo.year == 2018) & (county_geo.office == 'US_Senate')]"
   ]
  },
  {
   "cell_type": "code",
   "execution_count": null,
   "id": "c420be55",
   "metadata": {},
   "outputs": [],
   "source": [
    "sen20"
   ]
  },
  {
   "cell_type": "code",
   "execution_count": null,
   "id": "4f9eb037",
   "metadata": {},
   "outputs": [],
   "source": [
    "fig, ax = plt.subplots(figsize=(16,4))\n",
    "sen20.plot(column = 'Dem_margin', \n",
    "           cmap = 'seismic', edgecolor = 'black', \n",
    "              legend = True,\n",
    "              ax = ax)\n",
    "plt.title('2018 Senate Election Results', fontsize = 14, fontweight='bold')\n",
    "ax.axis('off');"
   ]
  },
  {
   "cell_type": "code",
   "execution_count": null,
   "id": "4ac24338",
   "metadata": {},
   "outputs": [],
   "source": [
    "sen06 = county_geo[(county_geo.year == 2006) & (county_geo.office == 'US_Senate')]"
   ]
  },
  {
   "cell_type": "code",
   "execution_count": null,
   "id": "b48e3b7e",
   "metadata": {},
   "outputs": [],
   "source": [
    "fig, ax = plt.subplots(figsize=(16,4))\n",
    "sen06.plot(column = 'Dem_margin', \n",
    "              cmap = 'RdBu', vmin = -25, vmax = 25, k=8,\n",
    "              edgecolor = 'black', \n",
    "              legend = True,\n",
    "              ax = ax)\n",
    "\n",
    "ax.set_facecolor('white')\n",
    "fig.set_facecolor('white')\n",
    "plt.title('2006 Senate Election, Democratic % Margin by County', fontsize = 14, fontweight='bold')\n",
    "ax.axis('off')\n",
    "# plt.savefig('senate_06.png', bbox_inches='tight')\n",
    "plt.plot();"
   ]
  },
  {
   "cell_type": "code",
   "execution_count": null,
   "id": "f544a14a",
   "metadata": {},
   "outputs": [],
   "source": [
    "gov06 = county_geo[(county_geo.year == 2006) & (county_geo.office == 'Governor')]"
   ]
  },
  {
   "cell_type": "code",
   "execution_count": null,
   "id": "88b23dfd",
   "metadata": {},
   "outputs": [],
   "source": [
    "fig, ax = plt.subplots(figsize=(16,4))\n",
    "gov06.plot(column = 'Dem_margin', \n",
    "              cmap = 'RdBu', vmin = -25, vmax = 25, k=8,\n",
    "              edgecolor = 'silver', \n",
    "              legend = True,\n",
    "              ax = ax)\n",
    "ax.set_facecolor('white')\n",
    "fig.set_facecolor('white')\n",
    "plt.title('2006 Gubernatorial Election, Democratic % Margin by County', fontsize = 14, fontweight='bold')\n",
    "ax.axis('off')\n",
    "# plt.savefig('gov_06.png', bbox_inches='tight');\n",
    "plt.plot();"
   ]
  },
  {
   "cell_type": "code",
   "execution_count": null,
   "id": "b573de91",
   "metadata": {},
   "outputs": [],
   "source": [
    "pres04 = county_geo[(county_geo.year == 2004) & (county_geo.office == 'Pres')]\n",
    "pres20 = county_geo[(county_geo.year == 2020) & (county_geo.office == 'Pres')]"
   ]
  },
  {
   "cell_type": "code",
   "execution_count": null,
   "id": "8d548c13",
   "metadata": {},
   "outputs": [],
   "source": [
    "fig, ax = plt.subplots(figsize=(16,4))\n",
    "pres04.plot(column = 'Dem_margin', \n",
    "              cmap = 'RdBu', vmin = -30, vmax = 30, k=8,\n",
    "              edgecolor = 'black', \n",
    "              legend = True,\n",
    "              ax = ax)\n",
    "plt.title('2004 Presidential Election Results', fontsize = 14, fontweight='bold')\n",
    "ax.axis('off');"
   ]
  },
  {
   "cell_type": "code",
   "execution_count": null,
   "id": "0f9717f9",
   "metadata": {},
   "outputs": [],
   "source": [
    "fig, ax = plt.subplots(figsize=(16,4))\n",
    "pres20.plot(column = 'Dem_margin', \n",
    "              cmap = 'RdBu', vmin = -30, vmax = 30, k=8,\n",
    "              edgecolor = 'black', \n",
    "              legend = True,\n",
    "              ax = ax)\n",
    "plt.title('2020 Presidential Election Results', fontsize = 14, fontweight='bold')\n",
    "ax.axis('off');"
   ]
  },
  {
   "cell_type": "code",
   "execution_count": null,
   "id": "0d347c04",
   "metadata": {},
   "outputs": [],
   "source": [
    "for index, row in county_geo.iterrows():\n",
    "    if row.Rep > row.Dem:\n",
    "        county_geo.loc[index, 'Rep_win'] = 1\n",
    "    elif row.Rep < row.Dem:\n",
    "        county_geo.loc[index, 'Rep_win'] = 0"
   ]
  },
  {
   "cell_type": "code",
   "execution_count": null,
   "id": "bdd3d883",
   "metadata": {},
   "outputs": [],
   "source": [
    "for index, row in county_geo.iterrows():\n",
    "    if row.Dem > row.Rep:\n",
    "        county_geo.loc[index, 'Dem_win'] = 1\n",
    "    elif row.Dem < row.Rep:\n",
    "        county_geo.loc[index, 'Dem_win'] = 0"
   ]
  },
  {
   "cell_type": "code",
   "execution_count": null,
   "id": "852311de",
   "metadata": {},
   "outputs": [],
   "source": [
    "county_split = county_geo.groupby(['year', 'county']).agg({'Rep_win': 'sum', 'Dem_win': 'sum', 'geometry': 'first'}).reset_index()"
   ]
  },
  {
   "cell_type": "code",
   "execution_count": null,
   "id": "23de6c05",
   "metadata": {},
   "outputs": [],
   "source": [
    "county_split.head(3)"
   ]
  },
  {
   "cell_type": "code",
   "execution_count": null,
   "id": "59e72ff4",
   "metadata": {},
   "outputs": [],
   "source": [
    "county_split = county_split.astype({'Rep_win': 'int', 'Dem_win': 'int'})"
   ]
  },
  {
   "cell_type": "code",
   "execution_count": null,
   "id": "afa01da6",
   "metadata": {},
   "outputs": [],
   "source": [
    "for index, row in county_split.iterrows():\n",
    "    if row.Rep_win == 0:\n",
    "        county_split.loc[index, 'all_dem'] = 1\n",
    "    elif row.Dem_win == 0:\n",
    "        county_split.loc[index, 'all_rep'] = 1\n",
    "    else:\n",
    "        county_split.loc[index, 'split'] = 1"
   ]
  },
  {
   "cell_type": "code",
   "execution_count": null,
   "id": "33500c33",
   "metadata": {},
   "outputs": [],
   "source": [
    "for index, row in county_split.iterrows():\n",
    "    if row.split == 1:\n",
    "        county_split.loc[index, 'one_party'] = 0\n",
    "    else:\n",
    "        county_split.loc[index, 'one_party'] = 1"
   ]
  },
  {
   "cell_type": "code",
   "execution_count": null,
   "id": "2ed0524a",
   "metadata": {},
   "outputs": [],
   "source": [
    "county_split = county_split.fillna(0)"
   ]
  },
  {
   "cell_type": "code",
   "execution_count": null,
   "id": "d562201e",
   "metadata": {},
   "outputs": [],
   "source": [
    "county_split = county_split.astype({'split': 'int', 'all_dem': 'int', 'all_rep': 'int', 'one_party': 'int'})"
   ]
  },
  {
   "cell_type": "code",
   "execution_count": null,
   "id": "52eb41c7",
   "metadata": {},
   "outputs": [],
   "source": [
    "county_split.one_party.value_counts()"
   ]
  },
  {
   "cell_type": "code",
   "execution_count": null,
   "id": "b3fef0b2",
   "metadata": {},
   "outputs": [],
   "source": [
    "county_split.split.value_counts()"
   ]
  },
  {
   "cell_type": "code",
   "execution_count": null,
   "id": "a0db5cdf",
   "metadata": {},
   "outputs": [],
   "source": [
    "county_split"
   ]
  },
  {
   "cell_type": "code",
   "execution_count": null,
   "id": "aa897c55",
   "metadata": {},
   "outputs": [],
   "source": [
    "split_geo = gpd.GeoDataFrame(county_split,\n",
    "                           crs = tn_county.crs,\n",
    "                           geometry = county_split['geometry'])"
   ]
  },
  {
   "cell_type": "code",
   "execution_count": null,
   "id": "b11d1cc6",
   "metadata": {},
   "outputs": [],
   "source": [
    "type(split_geo)"
   ]
  },
  {
   "cell_type": "code",
   "execution_count": null,
   "id": "c230b55c",
   "metadata": {},
   "outputs": [],
   "source": [
    "split_02 = split_geo[(split_geo.year == 2002)]\n",
    "split_04 = split_geo[(split_geo.year == 2004)]\n",
    "split_06 = split_geo[(split_geo.year == 2006)]\n",
    "split_08 = split_geo[(split_geo.year == 2008)]\n",
    "split_10 = split_geo[(split_geo.year == 2010)]\n",
    "split_12 = split_geo[(split_geo.year == 2012)]\n",
    "split_14 = split_geo[(split_geo.year == 2014)]\n",
    "split_16 = split_geo[(split_geo.year == 2016)]\n",
    "split_18 = split_geo[(split_geo.year == 2018)]\n",
    "split_20 = split_geo[(split_geo.year == 2020)]"
   ]
  },
  {
   "cell_type": "code",
   "execution_count": null,
   "id": "ee23c041",
   "metadata": {},
   "outputs": [],
   "source": [
    "fig, ax = plt.subplots(figsize=(12,4))\n",
    "\n",
    "cmap=ListedColormap(['whitesmoke','darkgoldenrod'])\n",
    "\n",
    "split_02.plot(column = 'split', \n",
    "              cmap = cmap,\n",
    "              # 'tab20c', vmin = 0, vmax = 1, k=2,\n",
    "              edgecolor = 'black', \n",
    "              legend = False,\n",
    "              ax = ax)\n",
    "plt.title('2002 TN Election Split Ticket Counties', fontsize = 14, fontweight='bold')\n",
    "ax.axis('off')\n",
    "ax = plt.gca()\n",
    "ax.set_facecolor('lightgrey')\n",
    "fig.set_facecolor('gainsboro')\n",
    "# plt.savefig('split_map_02.png', bbox_inches='tight')\n",
    "plt.plot();"
   ]
  },
  {
   "cell_type": "code",
   "execution_count": null,
   "id": "8bf0b30a",
   "metadata": {},
   "outputs": [],
   "source": [
    "fig, ax = plt.subplots(figsize=(12,4))\n",
    "\n",
    "cmap=ListedColormap(['whitesmoke','darkgoldenrod'])\n",
    "\n",
    "split_04.plot(column = 'split', \n",
    "              cmap = cmap,\n",
    "              # 'tab20c', vmin = 0, vmax = 1, k=2,\n",
    "              edgecolor = 'black', \n",
    "              legend = False,\n",
    "              ax = ax)\n",
    "plt.title('2004 TN Election Split Ticket Counties', fontsize = 14, fontweight='bold')\n",
    "ax.axis('off')\n",
    "ax = plt.gca()\n",
    "ax.set_facecolor('lightgrey')\n",
    "fig.set_facecolor('gainsboro')\n",
    "# plt.savefig('split_map_04.png', bbox_inches='tight')\n",
    "plt.plot();"
   ]
  },
  {
   "cell_type": "code",
   "execution_count": null,
   "id": "6d70ef00",
   "metadata": {},
   "outputs": [],
   "source": [
    "fig, ax = plt.subplots(figsize=(12,4))\n",
    "\n",
    "cmap=ListedColormap(['whitesmoke','darkgoldenrod'])\n",
    "\n",
    "split_06.plot(column = 'split', \n",
    "              cmap = cmap,\n",
    "              # 'tab20c', vmin = 0, vmax = 1, k=2,\n",
    "              edgecolor = 'black', \n",
    "              legend = False,\n",
    "              ax = ax)\n",
    "plt.title('2006 TN Election Split Ticket Counties', fontsize = 14, fontweight='bold')\n",
    "ax.axis('off')\n",
    "ax = plt.gca()\n",
    "ax.set_facecolor('lightgrey')\n",
    "fig.set_facecolor('gainsboro')\n",
    "# plt.savefig('split_map_06.png', bbox_inches='tight')\n",
    "plt.plot();"
   ]
  },
  {
   "cell_type": "code",
   "execution_count": null,
   "id": "0a37971f",
   "metadata": {},
   "outputs": [],
   "source": [
    "fig, ax = plt.subplots(figsize=(12,4))\n",
    "\n",
    "cmap=ListedColormap(['whitesmoke','darkgoldenrod'])\n",
    "\n",
    "split_08.plot(column = 'split', \n",
    "              cmap = cmap,\n",
    "              # 'tab20c', vmin = 0, vmax = 1, k=2,\n",
    "              edgecolor = 'black', \n",
    "              legend = False,\n",
    "              ax = ax)\n",
    "plt.title('2008 TN Election Split Ticket Counties', fontsize = 14, fontweight='bold')\n",
    "ax.axis('off')\n",
    "ax = plt.gca()\n",
    "ax.set_facecolor('lightgrey')\n",
    "fig.set_facecolor('gainsboro')\n",
    "# plt.savefig('split_map_08.png', bbox_inches='tight')\n",
    "plt.plot();"
   ]
  },
  {
   "cell_type": "code",
   "execution_count": null,
   "id": "ab05ba22",
   "metadata": {},
   "outputs": [],
   "source": [
    "fig, ax = plt.subplots(figsize=(12,4))\n",
    "\n",
    "cmap=ListedColormap(['whitesmoke','darkgoldenrod'])\n",
    "\n",
    "split_10.plot(column = 'split', \n",
    "              cmap = cmap,\n",
    "              # 'tab20c', vmin = 0, vmax = 1, k=2,\n",
    "              edgecolor = 'black', \n",
    "              legend = False,\n",
    "              ax = ax)\n",
    "plt.title('2010 TN Election Split Ticket Counties', fontsize = 14, fontweight='bold')\n",
    "ax.axis('off')\n",
    "ax = plt.gca()\n",
    "ax.set_facecolor('lightgrey')\n",
    "fig.set_facecolor('gainsboro')\n",
    "# plt.savefig('split_map_10.png', bbox_inches='tight')\n",
    "plt.plot();"
   ]
  },
  {
   "cell_type": "code",
   "execution_count": null,
   "id": "66ab5649",
   "metadata": {},
   "outputs": [],
   "source": [
    "fig, ax = plt.subplots(figsize=(12,4))\n",
    "\n",
    "cmap=ListedColormap(['whitesmoke','darkgoldenrod'])\n",
    "\n",
    "split_12.plot(column = 'split', \n",
    "              cmap = cmap,\n",
    "              # 'tab20c', vmin = 0, vmax = 1, k=2,\n",
    "              edgecolor = 'black', \n",
    "              legend = False,\n",
    "              ax = ax)\n",
    "plt.title('2012 TN Election Split Ticket Counties', fontsize = 14, fontweight='bold')\n",
    "ax.axis('off')\n",
    "ax = plt.gca()\n",
    "ax.set_facecolor('lightgrey')\n",
    "fig.set_facecolor('gainsboro')\n",
    "# plt.savefig('split_map_12.png', bbox_inches='tight')\n",
    "plt.plot();"
   ]
  },
  {
   "cell_type": "code",
   "execution_count": null,
   "id": "ead84654",
   "metadata": {},
   "outputs": [],
   "source": [
    "fig, ax = plt.subplots(figsize=(12,4))\n",
    "\n",
    "cmap=ListedColormap(['whitesmoke','darkgoldenrod'])\n",
    "\n",
    "split_14.plot(column = 'split', \n",
    "              cmap = cmap,\n",
    "              # 'tab20c', vmin = 0, vmax = 1, k=2,\n",
    "              edgecolor = 'black', \n",
    "              legend = False,\n",
    "              ax = ax)\n",
    "plt.title('2014 TN Election Split Ticket Counties', fontsize = 14, fontweight='bold')\n",
    "ax.axis('off')\n",
    "ax = plt.gca()\n",
    "ax.set_facecolor('lightgrey')\n",
    "fig.set_facecolor('gainsboro')\n",
    "# plt.savefig('split_map_14.png', bbox_inches='tight')\n",
    "plt.plot();"
   ]
  },
  {
   "cell_type": "code",
   "execution_count": null,
   "id": "bf5f8413",
   "metadata": {},
   "outputs": [],
   "source": [
    "fig, ax = plt.subplots(figsize=(12,4))\n",
    "\n",
    "cmap=ListedColormap(['whitesmoke','darkgoldenrod'])\n",
    "\n",
    "split_16.plot(column = 'split', \n",
    "              cmap = cmap,\n",
    "              # 'tab20c', vmin = 0, vmax = 1, k=2,\n",
    "              edgecolor = 'black', \n",
    "              legend = False,\n",
    "              ax = ax)\n",
    "plt.title('2016 TN Election Split Ticket Counties', fontsize = 14, fontweight='bold')\n",
    "ax.axis('off')\n",
    "ax = plt.gca()\n",
    "ax.set_facecolor('lightgrey')\n",
    "fig.set_facecolor('gainsboro')\n",
    "# plt.savefig('split_map_16.png', bbox_inches='tight')\n",
    "plt.plot();"
   ]
  },
  {
   "cell_type": "code",
   "execution_count": null,
   "id": "9bc3a5ec",
   "metadata": {},
   "outputs": [],
   "source": [
    "fig, ax = plt.subplots(figsize=(12,4))\n",
    "\n",
    "cmap=ListedColormap(['whitesmoke','darkgoldenrod'])\n",
    "\n",
    "split_18.plot(column = 'split', \n",
    "              cmap = cmap,\n",
    "              # 'tab20c', vmin = 0, vmax = 1, k=2,\n",
    "              edgecolor = 'black', \n",
    "              legend = False,\n",
    "              ax = ax)\n",
    "plt.title('2018 TN Election Split Ticket Counties', fontsize = 14, fontweight='bold')\n",
    "ax.axis('off')\n",
    "ax = plt.gca()\n",
    "ax.set_facecolor('lightgrey')\n",
    "fig.set_facecolor('gainsboro')\n",
    "# plt.savefig('split_map_18.png', bbox_inches='tight')\n",
    "plt.plot();"
   ]
  },
  {
   "cell_type": "code",
   "execution_count": null,
   "id": "e5f57e2a",
   "metadata": {},
   "outputs": [],
   "source": [
    "fig, ax = plt.subplots(figsize=(12,4))\n",
    "\n",
    "cmap=ListedColormap(['whitesmoke','darkgoldenrod'])\n",
    "\n",
    "split_20.plot(column = 'split', \n",
    "              cmap = cmap,\n",
    "              # 'tab20c', vmin = 0, vmax = 1, k=2,\n",
    "              edgecolor = 'black', \n",
    "              legend = False,\n",
    "              ax = ax)\n",
    "plt.title('2020 TN Election Split Ticket Counties', fontsize = 14, fontweight='bold')\n",
    "ax.axis('off')\n",
    "ax = plt.gca()\n",
    "ax.set_facecolor('lightgrey')\n",
    "fig.set_facecolor('gainsboro')\n",
    "# plt.savefig('split_map_20.png', bbox_inches='tight')\n",
    "plt.plot();"
   ]
  },
  {
   "cell_type": "code",
   "execution_count": null,
   "id": "29728e9b",
   "metadata": {},
   "outputs": [],
   "source": []
  },
  {
   "cell_type": "code",
   "execution_count": null,
   "id": "4f8a6769",
   "metadata": {},
   "outputs": [],
   "source": []
  },
  {
   "cell_type": "code",
   "execution_count": null,
   "id": "5f6a78ed",
   "metadata": {},
   "outputs": [],
   "source": []
  },
  {
   "cell_type": "code",
   "execution_count": null,
   "id": "5ea15c2c",
   "metadata": {},
   "outputs": [],
   "source": []
  },
  {
   "cell_type": "code",
   "execution_count": null,
   "id": "974c6674",
   "metadata": {},
   "outputs": [],
   "source": []
  }
 ],
 "metadata": {
  "kernelspec": {
   "display_name": "Python 3 (ipykernel)",
   "language": "python",
   "name": "python3"
  },
  "language_info": {
   "codemirror_mode": {
    "name": "ipython",
    "version": 3
   },
   "file_extension": ".py",
   "mimetype": "text/x-python",
   "name": "python",
   "nbconvert_exporter": "python",
   "pygments_lexer": "ipython3",
   "version": "3.8.5"
  }
 },
 "nbformat": 4,
 "nbformat_minor": 5
}
