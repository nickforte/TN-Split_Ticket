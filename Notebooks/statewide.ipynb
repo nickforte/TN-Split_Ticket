{
 "cells": [
  {
   "cell_type": "code",
   "execution_count": null,
   "id": "97a600a8",
   "metadata": {},
   "outputs": [],
   "source": [
    "import pandas as pd\n",
    "import numpy as np\n",
    "import matplotlib.pyplot as plt\n",
    "import seaborn as sns\n",
    "import requests\n",
    "\n",
    "%matplotlib inline"
   ]
  },
  {
   "cell_type": "code",
   "execution_count": null,
   "id": "a3228855",
   "metadata": {},
   "outputs": [],
   "source": [
    "pd.set_option('display.max_columns', None)"
   ]
  },
  {
   "cell_type": "code",
   "execution_count": null,
   "id": "46882721",
   "metadata": {},
   "outputs": [],
   "source": [
    "pres_df = pd.read_csv('../Data/1976-2020-pres.csv')"
   ]
  },
  {
   "cell_type": "code",
   "execution_count": null,
   "id": "f8e09d78",
   "metadata": {},
   "outputs": [],
   "source": [
    "pres_df.head(3)"
   ]
  },
  {
   "cell_type": "code",
   "execution_count": null,
   "id": "3f409d16",
   "metadata": {},
   "outputs": [],
   "source": [
    "# subset to only include Tennessee\n",
    "tn_pres = pres_df.loc[pres_df['state_po'] == 'TN']"
   ]
  },
  {
   "cell_type": "code",
   "execution_count": null,
   "id": "ec27c8ed",
   "metadata": {},
   "outputs": [],
   "source": [
    "# remove 1976\n",
    "tn_pres = tn_pres.loc[tn_pres['year'] > 1976]"
   ]
  },
  {
   "cell_type": "code",
   "execution_count": null,
   "id": "ecdf1c3e",
   "metadata": {},
   "outputs": [],
   "source": [
    "tn_pres"
   ]
  },
  {
   "cell_type": "code",
   "execution_count": null,
   "id": "c07afb8e",
   "metadata": {},
   "outputs": [],
   "source": [
    "# create 'party' column: R, D, Other\n",
    "for index, row in tn_pres.iterrows():\n",
    "    if row.party_detailed == \"REPUBLICAN\":\n",
    "        tn_pres.loc[index, 'party'] = 'Rep'\n",
    "    elif row.party_detailed == \"DEMOCRAT\":\n",
    "        tn_pres.loc[index, 'party'] = 'Dem'\n",
    "    else:\n",
    "        tn_pres.loc[index, 'party'] = 'Other'"
   ]
  },
  {
   "cell_type": "code",
   "execution_count": null,
   "id": "10696512",
   "metadata": {},
   "outputs": [],
   "source": [
    "tn_pres['party'].value_counts()"
   ]
  },
  {
   "cell_type": "code",
   "execution_count": null,
   "id": "c92c32a2",
   "metadata": {},
   "outputs": [],
   "source": [
    "# get party vote totals by year\n",
    "tn_pres_year = tn_pres.groupby(['year', 'party'])['candidatevotes'].agg([('party_votes', 'sum')]).unstack().reset_index()"
   ]
  },
  {
   "cell_type": "code",
   "execution_count": null,
   "id": "e8d05254",
   "metadata": {},
   "outputs": [],
   "source": [
    "tn_pres_year.head(3)"
   ]
  },
  {
   "cell_type": "code",
   "execution_count": null,
   "id": "be5a38ae",
   "metadata": {},
   "outputs": [],
   "source": [
    "tn_pres_year.columns = tn_pres_year.columns.droplevel(0)"
   ]
  },
  {
   "cell_type": "code",
   "execution_count": null,
   "id": "1f620289",
   "metadata": {},
   "outputs": [],
   "source": [
    "tn_pres_year.columns.name = None"
   ]
  },
  {
   "cell_type": "code",
   "execution_count": null,
   "id": "9e133ccd",
   "metadata": {},
   "outputs": [],
   "source": [
    "tn_pres_year['total_votes'] = tn_pres_year['Dem'] + tn_pres_year['Rep'] + tn_pres_year['Other']"
   ]
  },
  {
   "cell_type": "code",
   "execution_count": null,
   "id": "f7082208",
   "metadata": {},
   "outputs": [],
   "source": [
    "tn_pres_year['Rep%'] = (tn_pres_year['Rep'] / tn_pres_year['total_votes'] * 100).round(1)\n",
    "tn_pres_year['Dem%'] = (tn_pres_year['Dem'] / tn_pres_year['total_votes'] * 100).round(1)\n",
    "tn_pres_year['Other%'] = (tn_pres_year['Other'] / tn_pres_year['total_votes'] * 100).round(1)"
   ]
  },
  {
   "cell_type": "code",
   "execution_count": null,
   "id": "0051406c",
   "metadata": {},
   "outputs": [],
   "source": [
    "tn_pres_year.head(3)"
   ]
  },
  {
   "cell_type": "code",
   "execution_count": null,
   "id": "5c340172",
   "metadata": {},
   "outputs": [],
   "source": [
    "tn_pres_year['office'] = 'Pres'"
   ]
  },
  {
   "cell_type": "code",
   "execution_count": null,
   "id": "60c4984a",
   "metadata": {},
   "outputs": [],
   "source": [
    "tn_pres_year.columns = ['year', 'Dem', 'Other', 'Rep', 'total_votes', 'Rep%', 'Dem%', 'Other%', 'office']\n",
    "tn_pres_year.head()"
   ]
  },
  {
   "cell_type": "code",
   "execution_count": null,
   "id": "07f8f9f3",
   "metadata": {},
   "outputs": [],
   "source": [
    "tn_pres_year = tn_pres_year[['year', 'office', 'total_votes', 'Rep', 'Dem', 'Other', 'Rep%', 'Dem%', 'Other%']]"
   ]
  },
  {
   "cell_type": "code",
   "execution_count": null,
   "id": "bae9014f",
   "metadata": {},
   "outputs": [],
   "source": [
    "tn_pres_year.head(3)"
   ]
  },
  {
   "cell_type": "code",
   "execution_count": null,
   "id": "49d7a8f0",
   "metadata": {},
   "outputs": [],
   "source": [
    "# tn_pres_year.to_csv(\"us_pres_statewide_clean.csv\", index=False)"
   ]
  },
  {
   "cell_type": "code",
   "execution_count": null,
   "id": "e506fc2a",
   "metadata": {},
   "outputs": [],
   "source": [
    "tn_pres_year.info()"
   ]
  },
  {
   "cell_type": "code",
   "execution_count": null,
   "id": "b5e28de8",
   "metadata": {},
   "outputs": [],
   "source": [
    "sen_df = pd.read_csv('../Data/1976-2020-senate.csv', encoding='unicode_escape')"
   ]
  },
  {
   "cell_type": "code",
   "execution_count": null,
   "id": "8f561453",
   "metadata": {},
   "outputs": [],
   "source": [
    "sen_df"
   ]
  },
  {
   "cell_type": "code",
   "execution_count": null,
   "id": "2a8a9101",
   "metadata": {},
   "outputs": [],
   "source": [
    "tn_sen = sen_df.loc[sen_df['state_po'] == 'TN']\n",
    "tn_sen.head(3)"
   ]
  },
  {
   "cell_type": "code",
   "execution_count": null,
   "id": "d38f201a",
   "metadata": {},
   "outputs": [],
   "source": [
    "tn_sen = tn_sen.loc[tn_sen['year'] > 1979]"
   ]
  },
  {
   "cell_type": "code",
   "execution_count": null,
   "id": "985169a0",
   "metadata": {},
   "outputs": [],
   "source": [
    "tn_sen.head(3)"
   ]
  },
  {
   "cell_type": "code",
   "execution_count": null,
   "id": "8239e58f",
   "metadata": {},
   "outputs": [],
   "source": [
    "for index, row in tn_sen.iterrows():\n",
    "    if row.party_simplified == \"REPUBLICAN\":\n",
    "        tn_sen.loc[index, 'party'] = 'Rep'\n",
    "    elif row.party_simplified == \"DEMOCRAT\":\n",
    "        tn_sen.loc[index, 'party'] = 'Dem'\n",
    "    else:\n",
    "        tn_sen.loc[index, 'party'] = 'Other'"
   ]
  },
  {
   "cell_type": "code",
   "execution_count": null,
   "id": "be3d087b",
   "metadata": {},
   "outputs": [],
   "source": [
    "tn_sen.head(3)"
   ]
  },
  {
   "cell_type": "code",
   "execution_count": null,
   "id": "c3a23be0",
   "metadata": {},
   "outputs": [],
   "source": [
    "tn_sen['party'].value_counts()"
   ]
  },
  {
   "cell_type": "code",
   "execution_count": null,
   "id": "58e794be",
   "metadata": {},
   "outputs": [],
   "source": [
    "tn_sen_year = tn_sen.groupby(['year', 'party'])['candidatevotes'].agg([('party_votes', 'sum')]).unstack().reset_index()"
   ]
  },
  {
   "cell_type": "code",
   "execution_count": null,
   "id": "2df57608",
   "metadata": {},
   "outputs": [],
   "source": [
    "tn_sen_year"
   ]
  },
  {
   "cell_type": "code",
   "execution_count": null,
   "id": "a42e1c7e",
   "metadata": {},
   "outputs": [],
   "source": [
    "tn_sen_year.columns = tn_sen_year.columns.droplevel(0)"
   ]
  },
  {
   "cell_type": "code",
   "execution_count": null,
   "id": "e922170f",
   "metadata": {},
   "outputs": [],
   "source": [
    "tn_sen_year.columns.name = None"
   ]
  },
  {
   "cell_type": "code",
   "execution_count": null,
   "id": "faa1bc4e",
   "metadata": {},
   "outputs": [],
   "source": [
    "tn_sen_year.head(3)"
   ]
  },
  {
   "cell_type": "code",
   "execution_count": null,
   "id": "94815aa3",
   "metadata": {},
   "outputs": [],
   "source": [
    "tn_sen_year['total_votes'] = tn_sen_year['Dem'] + tn_sen_year['Rep'] + tn_sen_year['Other']"
   ]
  },
  {
   "cell_type": "code",
   "execution_count": null,
   "id": "61d52462",
   "metadata": {},
   "outputs": [],
   "source": [
    "tn_sen_year['Rep%'] = (tn_sen_year['Rep'] / tn_sen_year['total_votes'] * 100).round(1)\n",
    "tn_sen_year['Dem%'] = (tn_sen_year['Dem'] / tn_sen_year['total_votes'] * 100).round(1)\n",
    "tn_sen_year['Other%'] = (tn_sen_year['Other'] / tn_sen_year['total_votes'] * 100).round(1)"
   ]
  },
  {
   "cell_type": "code",
   "execution_count": null,
   "id": "eec40eb1",
   "metadata": {},
   "outputs": [],
   "source": [
    "tn_sen_year['office'] = 'US_Senate'"
   ]
  },
  {
   "cell_type": "code",
   "execution_count": null,
   "id": "1c46f9c9",
   "metadata": {},
   "outputs": [],
   "source": [
    "tn_sen_year.head(3)"
   ]
  },
  {
   "cell_type": "code",
   "execution_count": null,
   "id": "cdab13fe",
   "metadata": {},
   "outputs": [],
   "source": [
    "tn_sen_year.columns = ['year', 'Dem', 'Other', 'Rep', 'total_votes', 'Rep%', 'Dem%', 'Other%', 'office']\n",
    "tn_sen_year.head(3)"
   ]
  },
  {
   "cell_type": "code",
   "execution_count": null,
   "id": "6b0feceb",
   "metadata": {},
   "outputs": [],
   "source": [
    "tn_sen_year = tn_sen_year[['year', 'office', 'total_votes', 'Rep', 'Dem', 'Other', 'Rep%', 'Dem%', 'Other%']]"
   ]
  },
  {
   "cell_type": "code",
   "execution_count": null,
   "id": "d3ad6623",
   "metadata": {},
   "outputs": [],
   "source": [
    "tn_sen_year.head(3)"
   ]
  },
  {
   "cell_type": "code",
   "execution_count": null,
   "id": "8b1d1a3a",
   "metadata": {},
   "outputs": [],
   "source": [
    "tn_sen_year.info()"
   ]
  },
  {
   "cell_type": "code",
   "execution_count": null,
   "id": "9b964943",
   "metadata": {},
   "outputs": [],
   "source": [
    "# tn_sen_year.to_csv(\"clean_us_senate_statewide.csv\", index=False)"
   ]
  },
  {
   "cell_type": "code",
   "execution_count": null,
   "id": "85e25bff",
   "metadata": {},
   "outputs": [],
   "source": []
  }
 ],
 "metadata": {
  "kernelspec": {
   "display_name": "Python 3 (ipykernel)",
   "language": "python",
   "name": "python3"
  },
  "language_info": {
   "codemirror_mode": {
    "name": "ipython",
    "version": 3
   },
   "file_extension": ".py",
   "mimetype": "text/x-python",
   "name": "python",
   "nbconvert_exporter": "python",
   "pygments_lexer": "ipython3",
   "version": "3.9.7"
  }
 },
 "nbformat": 4,
 "nbformat_minor": 5
}
