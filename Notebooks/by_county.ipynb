{
 "cells": [
  {
   "cell_type": "code",
   "execution_count": null,
   "id": "2eaef728",
   "metadata": {},
   "outputs": [],
   "source": [
    "import pandas as pd\n",
    "import numpy as np\n",
    "import matplotlib.pyplot as plt\n",
    "import seaborn as sns\n",
    "import requests\n",
    "from bs4 import BeautifulSoup as BS\n",
    "\n",
    "%matplotlib inline"
   ]
  },
  {
   "cell_type": "code",
   "execution_count": null,
   "id": "b11229a0",
   "metadata": {},
   "outputs": [],
   "source": [
    "pd.set_option('display.max_columns', None)"
   ]
  },
  {
   "cell_type": "code",
   "execution_count": null,
   "id": "4a017b8c",
   "metadata": {},
   "outputs": [],
   "source": [
    "county = pd.read_stata('../Data/2006_precinct_detail.dta')"
   ]
  },
  {
   "cell_type": "code",
   "execution_count": null,
   "id": "6206b1bc",
   "metadata": {
    "scrolled": true
   },
   "outputs": [],
   "source": [
    "county.head(50)"
   ]
  },
  {
   "cell_type": "code",
   "execution_count": null,
   "id": "a140b762",
   "metadata": {
    "scrolled": true
   },
   "outputs": [],
   "source": [
    "county['BNAME1'] = county['BNAME1'].str.replace(\"\\(R\\)\", \"Repub\")"
   ]
  },
  {
   "cell_type": "code",
   "execution_count": null,
   "id": "20590376",
   "metadata": {},
   "outputs": [],
   "source": [
    "county['BNAME1'] = county['BNAME1'].str.replace(\"\\(D\\)\", \"Democ\")"
   ]
  },
  {
   "cell_type": "code",
   "execution_count": null,
   "id": "b08e94c8",
   "metadata": {},
   "outputs": [],
   "source": [
    "county['BNAME2'] = county['BNAME2'].str.replace(\"\\(R\\)\", \"Repub\")"
   ]
  },
  {
   "cell_type": "code",
   "execution_count": null,
   "id": "d97a6a10",
   "metadata": {},
   "outputs": [],
   "source": [
    "county['BNAME2'] = county['BNAME2'].str.replace(\"\\(D\\)\", \"Democ\")"
   ]
  },
  {
   "cell_type": "code",
   "execution_count": null,
   "id": "c67b1411",
   "metadata": {},
   "outputs": [],
   "source": [
    "# confirm all counties\n",
    "\n",
    "len(county.COUNTY.unique())"
   ]
  },
  {
   "cell_type": "code",
   "execution_count": null,
   "id": "fa38a2fb",
   "metadata": {},
   "outputs": [],
   "source": [
    "# change all floats to ints\n",
    "\n",
    "for column in county.columns:\n",
    "    if county[column].dtype == 'float64':\n",
    "        county[column] = county[column].fillna(0).astype('int64')"
   ]
  },
  {
   "cell_type": "code",
   "execution_count": null,
   "id": "6e4aebec",
   "metadata": {},
   "outputs": [],
   "source": [
    "# all county names need to be uniform\n",
    "\n",
    "county['COUNTY'] = county['COUNTY'].str.title()"
   ]
  },
  {
   "cell_type": "code",
   "execution_count": null,
   "id": "d3ab5cb8",
   "metadata": {},
   "outputs": [],
   "source": [
    "# create column for Rep vote count\n",
    "for index, row in county.iterrows():\n",
    "    if 'Repub' in str(row['BNAME1']):\n",
    "        county.loc[index, 'Rep'] = county.loc[index, 'TALLY1']\n",
    "    elif 'Repub' in str(row['BNAME2']):\n",
    "        county.loc[index, 'Rep'] = county.loc[index, 'TALLY2']       \n",
    "    else:\n",
    "        county.loc[index, 'Rep'] = 0"
   ]
  },
  {
   "cell_type": "code",
   "execution_count": null,
   "id": "47ef3942",
   "metadata": {},
   "outputs": [],
   "source": [
    "# create column for Dem vote count\n",
    "for index, row in county.iterrows():\n",
    "    if 'Democ' in str(row['BNAME1']):\n",
    "        county.loc[index, 'Dem'] = county.loc[index, 'TALLY1']\n",
    "    elif 'Democ' in str(row['BNAME2']):\n",
    "        county.loc[index, 'Dem'] = county.loc[index, 'TALLY2']       \n",
    "    else:\n",
    "        county.loc[index, 'Dem'] = 0"
   ]
  },
  {
   "cell_type": "code",
   "execution_count": null,
   "id": "8ae1d7d2",
   "metadata": {},
   "outputs": [],
   "source": [
    "county.head()"
   ]
  },
  {
   "cell_type": "code",
   "execution_count": null,
   "id": "7fc4a51f",
   "metadata": {},
   "outputs": [],
   "source": [
    "county['COL1'].value_counts()"
   ]
  },
  {
   "cell_type": "code",
   "execution_count": null,
   "id": "9c3f8873",
   "metadata": {},
   "outputs": [],
   "source": [
    "# create column for Other vote count\n",
    "\n",
    "cols_1 = ['TALLY3', 'TALLY4', 'TALLY5', 'TALLY6', 'TALLY7', 'TALLY8', 'TALLY9', 'TALLY10']\n",
    "cols_11 = ['TALLY2','TALLY3', 'TALLY4', 'TALLY5', 'TALLY6', 'TALLY7', 'TALLY8', 'TALLY9', 'TALLY10']\n",
    "\n",
    "for index, row in county.iterrows():\n",
    "    if 'Repub' in str(row['BNAME2']):\n",
    "        county.loc[index, 'Other'] = county.loc[index, cols_1].sum()   \n",
    "    else:\n",
    "        county.loc[index, 'Other'] = county.loc[index, cols_11].sum()   \n",
    "        "
   ]
  },
  {
   "cell_type": "code",
   "execution_count": null,
   "id": "094a795e",
   "metadata": {},
   "outputs": [],
   "source": [
    "county.head(10)"
   ]
  },
  {
   "cell_type": "code",
   "execution_count": null,
   "id": "4708c1e7",
   "metadata": {},
   "outputs": [],
   "source": [
    "# convert vote count columns to int\n",
    "\n",
    "county['Other'] = county['Other'].astype('Int64')\n",
    "county['Rep'] = county['Rep'].astype('Int64')\n",
    "county['Dem'] = county['Dem'].astype('Int64')"
   ]
  },
  {
   "cell_type": "code",
   "execution_count": null,
   "id": "8050b6b6",
   "metadata": {
    "scrolled": false
   },
   "outputs": [],
   "source": [
    "county.head(3)"
   ]
  },
  {
   "cell_type": "code",
   "execution_count": null,
   "id": "e23db397",
   "metadata": {},
   "outputs": [],
   "source": [
    "county['year'] = pd.DatetimeIndex(county['ELECTDATE']).year"
   ]
  },
  {
   "cell_type": "code",
   "execution_count": null,
   "id": "44bcf7f6",
   "metadata": {},
   "outputs": [],
   "source": [
    "county['total_votes'] = county['Rep'] + county['Dem'] + county['Other']"
   ]
  },
  {
   "cell_type": "code",
   "execution_count": null,
   "id": "0cbfe5f4",
   "metadata": {
    "scrolled": false
   },
   "outputs": [],
   "source": [
    "county.head()"
   ]
  },
  {
   "cell_type": "code",
   "execution_count": null,
   "id": "e5ed5690",
   "metadata": {},
   "outputs": [],
   "source": [
    "county.OfficeID.value_counts()"
   ]
  },
  {
   "cell_type": "code",
   "execution_count": null,
   "id": "b9fb6501",
   "metadata": {},
   "outputs": [],
   "source": [
    "# create column for office\n",
    "\n",
    "for index, row in county.iterrows():\n",
    "    if 'TH' in row['OfficeID']:\n",
    "        county.loc[index, 'office'] = 'State House'\n",
    "    elif 'TS' in row['OfficeID']:\n",
    "        county.loc[index, 'office'] = 'State Senate' \n",
    "    elif 'USH' in row['OfficeID']:\n",
    "        county.loc[index, 'office'] = 'US_House'        \n",
    "    elif 'USS' in row['OfficeID']:\n",
    "        county.loc[index, 'office'] = 'US_Senate'\n",
    "    elif 'PRES' in row['OfficeID']:\n",
    "        county.loc[index, 'office'] = 'Pres'  \n",
    "    elif 'Governor' in row['OfficeID']:\n",
    "        county.loc[index, 'office'] = 'Governor'    \n",
    "    else:\n",
    "        county.loc[index, 'office'] = 'Other'"
   ]
  },
  {
   "cell_type": "code",
   "execution_count": null,
   "id": "dce9d9ef",
   "metadata": {
    "scrolled": true
   },
   "outputs": [],
   "source": [
    "county.office.value_counts()"
   ]
  },
  {
   "cell_type": "code",
   "execution_count": null,
   "id": "1fa6294c",
   "metadata": {},
   "outputs": [],
   "source": [
    "# remove constitional amendment rows\n",
    "\n",
    "# county = county[(county.office != 'Other')]"
   ]
  },
  {
   "cell_type": "code",
   "execution_count": null,
   "id": "e127f91e",
   "metadata": {},
   "outputs": [],
   "source": [
    "# group by county & office and agg R/D/O/Total vote totals to create new df\n",
    "\n",
    "county_df = county.groupby(['COUNTY', 'office']).agg({'Dem': 'sum', 'Rep': 'sum', 'Other': 'sum', 'total_votes': 'sum', 'year': 'first'}).reset_index()"
   ]
  },
  {
   "cell_type": "code",
   "execution_count": null,
   "id": "1851a887",
   "metadata": {
    "scrolled": false
   },
   "outputs": [],
   "source": [
    "county_df.head()"
   ]
  },
  {
   "cell_type": "code",
   "execution_count": null,
   "id": "b649e0b8",
   "metadata": {},
   "outputs": [],
   "source": [
    "# create new columns for Rep / Dem / Other vote %\n",
    "\n",
    "county_df['Rep%'] = (county_df['Rep'] / county_df['total_votes'] * 100).round(1)\n",
    "county_df['Dem%'] = (county_df['Dem'] / county_df['total_votes'] * 100).round(1)\n",
    "county_df['Other%'] = (county_df['Other'] / county_df['total_votes'] * 100).round(1)"
   ]
  },
  {
   "cell_type": "code",
   "execution_count": null,
   "id": "2691d6e4",
   "metadata": {},
   "outputs": [],
   "source": [
    "# create new columns for Rep & Dem margin %\n",
    "\n",
    "county_df['Rep_margin'] = county_df['Rep%'] - county_df['Dem%']\n",
    "county_df['Dem_margin'] = county_df['Dem%'] - county_df['Rep%']"
   ]
  },
  {
   "cell_type": "code",
   "execution_count": null,
   "id": "1c41665a",
   "metadata": {},
   "outputs": [],
   "source": [
    "county_df = county_df.rename(columns={'COUNTY': 'county'})"
   ]
  },
  {
   "cell_type": "code",
   "execution_count": null,
   "id": "9b5103ed",
   "metadata": {},
   "outputs": [],
   "source": [
    "county_df.head()"
   ]
  },
  {
   "cell_type": "code",
   "execution_count": null,
   "id": "f02ce76d",
   "metadata": {},
   "outputs": [],
   "source": [
    "# rearrange columns to match other df's \n",
    "\n",
    "county_df = county_df[['year', 'county', 'office', 'total_votes', 'Rep', 'Dem', 'Other', 'Rep%', 'Dem%', 'Other%', 'Rep_margin', 'Dem_margin']]"
   ]
  },
  {
   "cell_type": "code",
   "execution_count": null,
   "id": "65a19c90",
   "metadata": {},
   "outputs": [],
   "source": [
    "county_df.info()"
   ]
  },
  {
   "cell_type": "code",
   "execution_count": null,
   "id": "88659d1b",
   "metadata": {},
   "outputs": [],
   "source": [
    "county_df"
   ]
  },
  {
   "cell_type": "code",
   "execution_count": null,
   "id": "386b9022",
   "metadata": {},
   "outputs": [],
   "source": [
    "# confirm all counties present again\n",
    "\n",
    "len(county_df.county.unique())"
   ]
  },
  {
   "cell_type": "code",
   "execution_count": null,
   "id": "718f6bb9",
   "metadata": {},
   "outputs": [],
   "source": [
    "# county_df.to_csv(\"clean_county_08.csv\", index=False)"
   ]
  },
  {
   "cell_type": "code",
   "execution_count": null,
   "id": "b79f700a",
   "metadata": {},
   "outputs": [],
   "source": []
  }
 ],
 "metadata": {
  "kernelspec": {
   "display_name": "Python 3 (ipykernel)",
   "language": "python",
   "name": "python3"
  },
  "language_info": {
   "codemirror_mode": {
    "name": "ipython",
    "version": 3
   },
   "file_extension": ".py",
   "mimetype": "text/x-python",
   "name": "python",
   "nbconvert_exporter": "python",
   "pygments_lexer": "ipython3",
   "version": "3.9.7"
  }
 },
 "nbformat": 4,
 "nbformat_minor": 5
}
