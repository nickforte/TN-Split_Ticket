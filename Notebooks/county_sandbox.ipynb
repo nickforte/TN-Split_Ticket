{
 "cells": [
  {
   "cell_type": "code",
   "execution_count": null,
   "id": "132ed0f9",
   "metadata": {},
   "outputs": [],
   "source": [
    "import pandas as pd\n",
    "import numpy as np\n",
    "import matplotlib.pyplot as plt\n",
    "import seaborn as sns\n",
    "import requests\n",
    "from bs4 import BeautifulSoup as BS\n",
    "\n",
    "%matplotlib inline"
   ]
  },
  {
   "cell_type": "code",
   "execution_count": null,
   "id": "b693b1c6",
   "metadata": {},
   "outputs": [],
   "source": [
    "pd.set_option('display.max_columns', None)"
   ]
  },
  {
   "cell_type": "code",
   "execution_count": null,
   "id": "104c287c",
   "metadata": {},
   "outputs": [],
   "source": [
    "county = pd.read_stata('../Data/2002_precinct_detail.dta')"
   ]
  },
  {
   "cell_type": "code",
   "execution_count": null,
   "id": "c793581d",
   "metadata": {
    "scrolled": false
   },
   "outputs": [],
   "source": [
    "county.info()"
   ]
  },
  {
   "cell_type": "code",
   "execution_count": null,
   "id": "0e4440d7",
   "metadata": {
    "scrolled": true
   },
   "outputs": [],
   "source": [
    "county"
   ]
  },
  {
   "cell_type": "code",
   "execution_count": null,
   "id": "2e6b31c6",
   "metadata": {},
   "outputs": [],
   "source": [
    "county['county'] = county['county'].str.title()"
   ]
  },
  {
   "cell_type": "code",
   "execution_count": null,
   "id": "1ed8555a",
   "metadata": {},
   "outputs": [],
   "source": [
    "for column in county.columns:\n",
    "    if county[column].dtype == 'float32':\n",
    "        county[column] = county[column].fillna(0).astype('int64')\n",
    "    elif county[column].dtype == 'float64':\n",
    "        county[column] = county[column].fillna(0).astype('int64')"
   ]
  },
  {
   "cell_type": "code",
   "execution_count": null,
   "id": "0ef0a970",
   "metadata": {},
   "outputs": [],
   "source": [
    "county = county.drop(columns=['state', 'year', 'precinct', 'vtd', 'ld', 'ld2', 'ld3', 'ld4', 'ld5', 'ld6', 'ld7', 'ld8', 'ld9', 'ld10', 'ld11', 'ld12', 'ld13', 'ld14', 'ld15', 'ld16', 'sd', 'sd2', 'sd3', 'cd', 'cd2', 'cd3'])"
   ]
  },
  {
   "cell_type": "code",
   "execution_count": null,
   "id": "aa6de057",
   "metadata": {},
   "outputs": [],
   "source": [
    "county"
   ]
  },
  {
   "cell_type": "code",
   "execution_count": null,
   "id": "18e0f685",
   "metadata": {},
   "outputs": [],
   "source": [
    "county['state_house_tot'] = county['g2002_STH_tv'] + county['g2002_STH_tv2'] + county['g2002_STH_tv3'] + county['g2002_STH_tv4'] + county['g2002_STH_tv5'] + county['g2002_STH_tv6'] + county['g2002_STH_tv7'] + county['g2002_STH_tv8'] + county['g2002_STH_tv9'] + county['g2002_STH_tv10'] + county['g2002_STH_tv11'] + county['g2002_STH_tv12'] + county['g2002_STH_tv13'] + county['g2002_STH_tv14'] + county['g2002_STH_tv15'] + county['g2002_STH_tv16']\n",
    "county['state_house_rep'] = county['g2002_STH_rv'] + county['g2002_STH_rv2'] + county['g2002_STH_rv3'] + county['g2002_STH_rv4'] + county['g2002_STH_rv5'] + county['g2002_STH_rv6'] + county['g2002_STH_rv7'] + county['g2002_STH_rv8'] + county['g2002_STH_rv9'] + county['g2002_STH_rv10'] + county['g2002_STH_rv11'] + county['g2002_STH_rv12'] + county['g2002_STH_rv13'] + county['g2002_STH_rv14'] + county['g2002_STH_rv15'] + county['g2002_STH_rv16']\n",
    "county['state_house_dem'] = county['g2002_STH_dv'] + county['g2002_STH_dv2'] + county['g2002_STH_dv3'] + county['g2002_STH_dv4'] + county['g2002_STH_dv5'] + county['g2002_STH_dv6'] + county['g2002_STH_dv7'] + county['g2002_STH_dv8'] + county['g2002_STH_dv9'] + county['g2002_STH_dv10'] + county['g2002_STH_dv11'] + county['g2002_STH_dv12'] + county['g2002_STH_dv13'] + county['g2002_STH_dv14'] + county['g2002_STH_dv15'] + county['g2002_STH_dv16']"
   ]
  },
  {
   "cell_type": "markdown",
   "id": "d20eeb79",
   "metadata": {},
   "source": [
    "county['state_sen_tot'] = county['g2004_STS_tv'] + county['g2004_STS_tv2'] + county['g2004_STS_tv3']\n",
    "county['state_sen_rep'] = county['g2004_STS_rv'] + county['g2004_STS_rv2'] + county['g2004_STS_rv3']\n",
    "county['state_sen_dem'] = county['g2004_STS_dv'] + county['g2004_STS_dv2'] + county['g2004_STS_dv3']"
   ]
  },
  {
   "cell_type": "code",
   "execution_count": null,
   "id": "e6336efe",
   "metadata": {},
   "outputs": [],
   "source": [
    "county['us_house_tot'] = county['g2002_USH_tv'] + county['g2002_USH_tv2'] + county['g2002_USH_tv3']\n",
    "county['us_house_rep'] = county['g2002_USH_rv'] + county['g2002_USH_rv2'] + county['g2002_USH_rv3']\n",
    "county['us_house_dem'] = county['g2002_USH_dv'] + county['g2002_USH_dv2'] + county['g2002_USH_dv3']"
   ]
  },
  {
   "cell_type": "code",
   "execution_count": null,
   "id": "5d720350",
   "metadata": {},
   "outputs": [],
   "source": [
    "county"
   ]
  },
  {
   "cell_type": "code",
   "execution_count": null,
   "id": "bfa96856",
   "metadata": {
    "scrolled": true
   },
   "outputs": [],
   "source": [
    "list(county.columns.values)"
   ]
  },
  {
   "cell_type": "code",
   "execution_count": null,
   "id": "b0569ca0",
   "metadata": {},
   "outputs": [],
   "source": [
    "gov_df = county[['county','g2002_GOV_tv','g2002_GOV_rv','g2002_GOV_dv']]\n",
    "sen_df = county[['county','g2002_USS_tv','g2002_USS_rv','g2002_USS_dv']]\n",
    "sh_df = county[['county', 'state_house_tot', 'state_house_rep', 'state_house_dem']]\n",
    "ush_df = county[['county', 'us_house_tot', 'us_house_rep', 'us_house_dem']]"
   ]
  },
  {
   "cell_type": "code",
   "execution_count": null,
   "id": "db84b1c2",
   "metadata": {
    "scrolled": true
   },
   "outputs": [],
   "source": [
    "gov_df.head(3)"
   ]
  },
  {
   "cell_type": "code",
   "execution_count": null,
   "id": "b6176f5f",
   "metadata": {},
   "outputs": [],
   "source": [
    "sen_df.head(3)"
   ]
  },
  {
   "cell_type": "code",
   "execution_count": null,
   "id": "943bed6e",
   "metadata": {},
   "outputs": [],
   "source": [
    "sh_df.head(3)"
   ]
  },
  {
   "cell_type": "code",
   "execution_count": null,
   "id": "20f8993c",
   "metadata": {},
   "outputs": [],
   "source": [
    "ush_df.head(3)"
   ]
  },
  {
   "cell_type": "code",
   "execution_count": null,
   "id": "6440cb9b",
   "metadata": {},
   "outputs": [],
   "source": [
    "gov_df.columns = ['county', 'total_votes', 'Rep', 'Dem']\n",
    "sen_df.columns = ['county', 'total_votes', 'Rep', 'Dem']\n",
    "sh_df.columns = ['county', 'total_votes', 'Rep', 'Dem']\n",
    "ush_df.columns = ['county', 'total_votes', 'Rep', 'Dem']"
   ]
  },
  {
   "cell_type": "code",
   "execution_count": null,
   "id": "9344d46e",
   "metadata": {},
   "outputs": [],
   "source": [
    "gov_df['Other'] = gov_df['total_votes'] - gov_df['Rep'] - gov_df['Dem']\n",
    "sen_df['Other'] = sen_df['total_votes'] - sen_df['Rep'] - sen_df['Dem']\n",
    "sh_df['Other'] = sh_df['total_votes'] - sh_df['Rep'] - sh_df['Dem']\n",
    "ush_df['Other'] = ush_df['total_votes'] - ush_df['Rep'] - ush_df['Dem']"
   ]
  },
  {
   "cell_type": "code",
   "execution_count": null,
   "id": "8c451f8d",
   "metadata": {},
   "outputs": [],
   "source": [
    "gov06 = gov_df.groupby(['county']).sum().reset_index()"
   ]
  },
  {
   "cell_type": "code",
   "execution_count": null,
   "id": "6dafd19f",
   "metadata": {},
   "outputs": [],
   "source": [
    "sen06 = sen_df.groupby(['county']).sum().reset_index()"
   ]
  },
  {
   "cell_type": "code",
   "execution_count": null,
   "id": "f06df769",
   "metadata": {},
   "outputs": [],
   "source": [
    "sh06 = sh_df.groupby(['county']).sum().reset_index()"
   ]
  },
  {
   "cell_type": "code",
   "execution_count": null,
   "id": "e7b11af6",
   "metadata": {},
   "outputs": [],
   "source": [
    "ush06 = ush_df.groupby(['county']).sum().reset_index()"
   ]
  },
  {
   "cell_type": "code",
   "execution_count": null,
   "id": "23018eb4",
   "metadata": {},
   "outputs": [],
   "source": [
    "sen06"
   ]
  },
  {
   "cell_type": "code",
   "execution_count": null,
   "id": "3dff9b19",
   "metadata": {},
   "outputs": [],
   "source": [
    "gov06['Rep%'] = (gov06['Rep'] / gov06['total_votes'] * 100).round(1)\n",
    "gov06['Dem%'] = (gov06['Dem'] / gov06['total_votes'] * 100).round(1)\n",
    "gov06['Other%'] = (gov06['Other'] / gov06['total_votes'] * 100).round(1)"
   ]
  },
  {
   "cell_type": "code",
   "execution_count": null,
   "id": "96f17753",
   "metadata": {},
   "outputs": [],
   "source": [
    "sen06['Rep%'] = (sen06['Rep'] / sen06['total_votes'] * 100).round(1)\n",
    "sen06['Dem%'] = (sen06['Dem'] / sen06['total_votes'] * 100).round(1)\n",
    "sen06['Other%'] = (sen06['Other'] / sen06['total_votes'] * 100).round(1)"
   ]
  },
  {
   "cell_type": "code",
   "execution_count": null,
   "id": "bf8bc2ed",
   "metadata": {},
   "outputs": [],
   "source": [
    "sh06['Rep%'] = (sh06['Rep'] / sh06['total_votes'] * 100).round(1)\n",
    "sh06['Dem%'] = (sh06['Dem'] / sh06['total_votes'] * 100).round(1)\n",
    "sh06['Other%'] = (sh06['Other'] / sh06['total_votes'] * 100).round(1)"
   ]
  },
  {
   "cell_type": "code",
   "execution_count": null,
   "id": "17df0a92",
   "metadata": {},
   "outputs": [],
   "source": [
    "ush06['Rep%'] = (ush06['Rep'] / ush06['total_votes'] * 100).round(1)\n",
    "ush06['Dem%'] = (ush06['Dem'] / ush06['total_votes'] * 100).round(1)\n",
    "ush06['Other%'] = (ush06['Other'] / ush06['total_votes'] * 100).round(1)"
   ]
  },
  {
   "cell_type": "code",
   "execution_count": null,
   "id": "dae7d919",
   "metadata": {},
   "outputs": [],
   "source": [
    "gov06['Rep_margin'] = gov06['Rep%'] - gov06['Dem%']\n",
    "gov06['Dem_margin'] = gov06['Dem%'] - gov06['Rep%']"
   ]
  },
  {
   "cell_type": "code",
   "execution_count": null,
   "id": "92402051",
   "metadata": {},
   "outputs": [],
   "source": [
    "sen06['Rep_margin'] = sen06['Rep%'] - sen06['Dem%']\n",
    "sen06['Dem_margin'] = sen06['Dem%'] - sen06['Rep%']"
   ]
  },
  {
   "cell_type": "code",
   "execution_count": null,
   "id": "daae68c7",
   "metadata": {},
   "outputs": [],
   "source": [
    "sh06['Rep_margin'] = sh06['Rep%'] - sh06['Dem%']\n",
    "sh06['Dem_margin'] = sh06['Dem%'] - sh06['Rep%']"
   ]
  },
  {
   "cell_type": "code",
   "execution_count": null,
   "id": "e7927679",
   "metadata": {},
   "outputs": [],
   "source": [
    "ush06['Rep_margin'] = ush06['Rep%'] - ush06['Dem%']\n",
    "ush06['Dem_margin'] = ush06['Dem%'] - ush06['Rep%']"
   ]
  },
  {
   "cell_type": "code",
   "execution_count": null,
   "id": "f105923d",
   "metadata": {},
   "outputs": [],
   "source": [
    "gov06['office'] = 'Governor'\n",
    "gov06['year'] = 2002"
   ]
  },
  {
   "cell_type": "code",
   "execution_count": null,
   "id": "004c5883",
   "metadata": {},
   "outputs": [],
   "source": [
    "sen06['office'] = 'US_Senate'\n",
    "sen06['year'] = 2002"
   ]
  },
  {
   "cell_type": "code",
   "execution_count": null,
   "id": "7802c891",
   "metadata": {},
   "outputs": [],
   "source": [
    "sh06['office'] = 'State House'\n",
    "sh06['year'] = 2002"
   ]
  },
  {
   "cell_type": "code",
   "execution_count": null,
   "id": "cacf222b",
   "metadata": {},
   "outputs": [],
   "source": [
    "ush06['office'] = 'US_House'\n",
    "ush06['year'] = 2002"
   ]
  },
  {
   "cell_type": "code",
   "execution_count": null,
   "id": "aa69e163",
   "metadata": {},
   "outputs": [],
   "source": [
    "gov06 = gov06[['year', 'county', 'office', 'total_votes', 'Rep', 'Dem', 'Other', 'Rep%', 'Dem%', 'Other%', 'Rep_margin', 'Dem_margin']]"
   ]
  },
  {
   "cell_type": "code",
   "execution_count": null,
   "id": "9a89c1c7",
   "metadata": {},
   "outputs": [],
   "source": [
    "sen06 = sen06[['year', 'county', 'office', 'total_votes', 'Rep', 'Dem', 'Other', 'Rep%', 'Dem%', 'Other%', 'Rep_margin', 'Dem_margin']]"
   ]
  },
  {
   "cell_type": "code",
   "execution_count": null,
   "id": "3ad695e8",
   "metadata": {},
   "outputs": [],
   "source": [
    "sh06 = sh06[['year', 'county', 'office', 'total_votes', 'Rep', 'Dem', 'Other', 'Rep%', 'Dem%', 'Other%', 'Rep_margin', 'Dem_margin']]"
   ]
  },
  {
   "cell_type": "code",
   "execution_count": null,
   "id": "297149c8",
   "metadata": {},
   "outputs": [],
   "source": [
    "ush06 = ush06[['year', 'county', 'office', 'total_votes', 'Rep', 'Dem', 'Other', 'Rep%', 'Dem%', 'Other%', 'Rep_margin', 'Dem_margin']]"
   ]
  },
  {
   "cell_type": "code",
   "execution_count": null,
   "id": "da39e333",
   "metadata": {},
   "outputs": [],
   "source": [
    "gov06"
   ]
  },
  {
   "cell_type": "code",
   "execution_count": null,
   "id": "358d12fc",
   "metadata": {},
   "outputs": [],
   "source": [
    "county02 = pd.concat([gov06, sen06, sh06, ush06])"
   ]
  },
  {
   "cell_type": "code",
   "execution_count": null,
   "id": "95c9ad9c",
   "metadata": {
    "scrolled": true
   },
   "outputs": [],
   "source": [
    "county02"
   ]
  },
  {
   "cell_type": "code",
   "execution_count": null,
   "id": "e3e8230c",
   "metadata": {},
   "outputs": [],
   "source": [
    "county02 = county02.sort_values(['year', 'county'])"
   ]
  },
  {
   "cell_type": "code",
   "execution_count": null,
   "id": "e17d8222",
   "metadata": {},
   "outputs": [],
   "source": [
    "# county02.to_csv(\"clean_county_02.csv\", index=False)"
   ]
  },
  {
   "cell_type": "code",
   "execution_count": null,
   "id": "50304782",
   "metadata": {},
   "outputs": [],
   "source": []
  },
  {
   "cell_type": "code",
   "execution_count": null,
   "id": "bd7199eb",
   "metadata": {},
   "outputs": [],
   "source": []
  },
  {
   "cell_type": "code",
   "execution_count": null,
   "id": "b6b58ec9",
   "metadata": {},
   "outputs": [],
   "source": [
    "county['tn_house_oth'] = county['tn_house_total'] - county['tn_house_rep'] - county['tn_house_dem']"
   ]
  },
  {
   "cell_type": "code",
   "execution_count": null,
   "id": "0e1f5650",
   "metadata": {},
   "outputs": [],
   "source": [
    "county['tn_sen_total'] = county['state_sen_tot'] + county['state_sen_tot2'] + county['state_sen_tot3']\n",
    "county['tn_sen_rep'] = county['state_sen_rep'] + county['state_sen_rep2'] + county['state_sen_rep3']\n",
    "county['tn_sen_dem'] = county['state_sen_dem'] + county['state_sen_dem2'] + county['state_sen_dem3']"
   ]
  },
  {
   "cell_type": "code",
   "execution_count": null,
   "id": "9e7ac5bf",
   "metadata": {},
   "outputs": [],
   "source": [
    "county['tn_sen_oth'] = county['tn_sen_total'] - county['tn_sen_rep'] - county['tn_sen_dem']"
   ]
  },
  {
   "cell_type": "code",
   "execution_count": null,
   "id": "23921ec7",
   "metadata": {},
   "outputs": [],
   "source": [
    "county['ushouse_tot'] = county['us_house_tot'] + county['us_house_tot2']\n",
    "county['ushouse_rep'] = county['us_house_rep'] + county['us_house_rep2']\n",
    "county['ushouse_dem'] = county['us_house_dem'] + county['us_house_dem2']"
   ]
  },
  {
   "cell_type": "code",
   "execution_count": null,
   "id": "56aecf12",
   "metadata": {},
   "outputs": [],
   "source": [
    "county['ushouse_oth'] = county['ushouse_tot'] - county['ushouse_rep'] - county['ushouse_dem']"
   ]
  },
  {
   "cell_type": "code",
   "execution_count": null,
   "id": "cb098b47",
   "metadata": {},
   "outputs": [],
   "source": [
    "county.head(10)"
   ]
  },
  {
   "cell_type": "code",
   "execution_count": null,
   "id": "b4ae2051",
   "metadata": {},
   "outputs": [],
   "source": [
    "list(county.columns.values)"
   ]
  },
  {
   "cell_type": "code",
   "execution_count": null,
   "id": "a08d157d",
   "metadata": {},
   "outputs": [],
   "source": [
    "county = county[['year',\n",
    " 'county',\n",
    " 'gov_dem',\n",
    " 'gov_rep',\n",
    " 'gov_tot',\n",
    " 'us_sen_dem',\n",
    " 'us_sen_rep',\n",
    " 'us_sen_tot',\n",
    " 'tn_house_total',\n",
    " 'tn_house_rep',\n",
    " 'tn_house_dem',\n",
    " 'tn_house_oth',\n",
    " 'tn_sen_total',\n",
    " 'tn_sen_rep',\n",
    " 'tn_sen_dem',\n",
    " 'tn_sen_oth',\n",
    " 'ushouse_tot',\n",
    " 'ushouse_rep',\n",
    " 'ushouse_dem',\n",
    " 'ushouse_oth']]"
   ]
  },
  {
   "cell_type": "code",
   "execution_count": null,
   "id": "0c89cbb6",
   "metadata": {},
   "outputs": [],
   "source": [
    "county = county.drop(columns = ['year'])"
   ]
  },
  {
   "cell_type": "code",
   "execution_count": null,
   "id": "9091090d",
   "metadata": {},
   "outputs": [],
   "source": [
    "county"
   ]
  },
  {
   "cell_type": "code",
   "execution_count": null,
   "id": "5fb3448c",
   "metadata": {},
   "outputs": [],
   "source": [
    "county['gov_oth'] = county['gov_tot'] - county['gov_rep'] - county['gov_dem']\n",
    "county['us_sen_oth'] = county['us_sen_tot'] - county['us_sen_rep'] - county['us_sen_dem']"
   ]
  },
  {
   "cell_type": "code",
   "execution_count": null,
   "id": "e8e3d518",
   "metadata": {},
   "outputs": [],
   "source": [
    "county_df = county.groupby(['county']).sum().reset_index()"
   ]
  },
  {
   "cell_type": "code",
   "execution_count": null,
   "id": "7a7971a3",
   "metadata": {},
   "outputs": [],
   "source": [
    "for column in county_df.columns:\n",
    "    if county_df[column].dtype == 'float64':\n",
    "        county_df[column] = county_df[column].fillna(0).astype('int64')"
   ]
  },
  {
   "cell_type": "code",
   "execution_count": null,
   "id": "87d2fb8c",
   "metadata": {},
   "outputs": [],
   "source": [
    "county_df"
   ]
  },
  {
   "cell_type": "code",
   "execution_count": null,
   "id": "70ff0bcb",
   "metadata": {},
   "outputs": [],
   "source": [
    "tnh_county_df = county_df[['county', 'tn_house_total', 'tn_house_rep', 'tn_house_dem', 'tn_house_oth']]"
   ]
  },
  {
   "cell_type": "code",
   "execution_count": null,
   "id": "89ba4485",
   "metadata": {},
   "outputs": [],
   "source": [
    "tnh_county_df.columns = ['county', 'total_votes', 'Rep', 'Dem', 'Other']"
   ]
  },
  {
   "cell_type": "code",
   "execution_count": null,
   "id": "80950e00",
   "metadata": {},
   "outputs": [],
   "source": [
    "tnh_county_df"
   ]
  },
  {
   "cell_type": "code",
   "execution_count": null,
   "id": "b1338fc7",
   "metadata": {},
   "outputs": [],
   "source": [
    "tnh_county_df['Rep%'] = (tnh_county_df['Rep'] / tnh_county_df['total_votes'] * 100).round(1)\n",
    "tnh_county_df['Dem%'] = (tnh_county_df['Dem'] / tnh_county_df['total_votes'] * 100).round(1)\n",
    "tnh_county_df['Other%'] = (tnh_county_df['Other'] / tnh_county_df['total_votes'] * 100).round(1)"
   ]
  },
  {
   "cell_type": "code",
   "execution_count": null,
   "id": "17e665f0",
   "metadata": {
    "scrolled": true
   },
   "outputs": [],
   "source": [
    "tnh_county_df['office'] = 'State House'\n",
    "tnh_county_df['year'] = 2006"
   ]
  },
  {
   "cell_type": "code",
   "execution_count": null,
   "id": "e14b31f8",
   "metadata": {
    "scrolled": true
   },
   "outputs": [],
   "source": [
    "tnh_county_df['Rep_margin'] = tnh_county_df['Rep%'] - tnh_county_df['Dem%']\n",
    "tnh_county_df['Dem_margin'] = tnh_county_df['Dem%'] - tnh_county_df['Rep%']"
   ]
  },
  {
   "cell_type": "code",
   "execution_count": null,
   "id": "195f27c2",
   "metadata": {},
   "outputs": [],
   "source": [
    "tnh_county_df = tnh_county_df[['year', 'county', 'office', 'total_votes', 'Rep', 'Dem', 'Other', 'Rep%', 'Dem%', 'Other%', 'Rep_margin', 'Dem_margin']]"
   ]
  },
  {
   "cell_type": "code",
   "execution_count": null,
   "id": "c46edbf4",
   "metadata": {},
   "outputs": [],
   "source": [
    "tnh_county_df"
   ]
  },
  {
   "cell_type": "code",
   "execution_count": null,
   "id": "d5f800c8",
   "metadata": {},
   "outputs": [],
   "source": [
    "# tnh_county_df.to_csv(\"clean_tn_house_county_06.csv\", index=False)"
   ]
  },
  {
   "cell_type": "code",
   "execution_count": null,
   "id": "fce0d6d4",
   "metadata": {},
   "outputs": [],
   "source": []
  },
  {
   "cell_type": "code",
   "execution_count": null,
   "id": "9c8a9387",
   "metadata": {},
   "outputs": [],
   "source": [
    "us_house_df = pd.read_csv('../Data/clean_us_house_county_06.csv')\n",
    "us_sen_df = pd.read_csv('../Data/clean_us_sen_county_06.csv')\n",
    "gov_df = pd.read_csv('../Data/clean_gov_county_06.csv')\n",
    "tn_house_df = pd.read_csv('../Data/clean_tn_house_county_06.csv')"
   ]
  },
  {
   "cell_type": "code",
   "execution_count": null,
   "id": "a1c974d4",
   "metadata": {},
   "outputs": [],
   "source": [
    "us_house_df.head(3)"
   ]
  },
  {
   "cell_type": "code",
   "execution_count": null,
   "id": "b05d74e4",
   "metadata": {},
   "outputs": [],
   "source": [
    "us_sen_df.head(3)"
   ]
  },
  {
   "cell_type": "code",
   "execution_count": null,
   "id": "4992e10e",
   "metadata": {},
   "outputs": [],
   "source": [
    "gov_df.head(3)"
   ]
  },
  {
   "cell_type": "code",
   "execution_count": null,
   "id": "7120347b",
   "metadata": {},
   "outputs": [],
   "source": [
    "tn_house_df.head(3)"
   ]
  },
  {
   "cell_type": "code",
   "execution_count": null,
   "id": "33e3d64e",
   "metadata": {},
   "outputs": [],
   "source": [
    "all_county_df = pd.concat([us_house_df, us_sen_df, gov_df, tn_house_df])"
   ]
  },
  {
   "cell_type": "code",
   "execution_count": null,
   "id": "b6506fb3",
   "metadata": {},
   "outputs": [],
   "source": [
    "all_county_df = all_county_df.sort_values(['year', 'county'])"
   ]
  },
  {
   "cell_type": "code",
   "execution_count": null,
   "id": "325f59ae",
   "metadata": {},
   "outputs": [],
   "source": [
    "all_county_df"
   ]
  },
  {
   "cell_type": "code",
   "execution_count": null,
   "id": "0ba5ddc8",
   "metadata": {},
   "outputs": [],
   "source": [
    "# all_county_df.to_csv(\"clean_county_06.csv\", index=False)"
   ]
  },
  {
   "cell_type": "code",
   "execution_count": null,
   "id": "acc29c0d",
   "metadata": {},
   "outputs": [],
   "source": []
  }
 ],
 "metadata": {
  "kernelspec": {
   "display_name": "Python 3 (ipykernel)",
   "language": "python",
   "name": "python3"
  },
  "language_info": {
   "codemirror_mode": {
    "name": "ipython",
    "version": 3
   },
   "file_extension": ".py",
   "mimetype": "text/x-python",
   "name": "python",
   "nbconvert_exporter": "python",
   "pygments_lexer": "ipython3",
   "version": "3.9.7"
  }
 },
 "nbformat": 4,
 "nbformat_minor": 5
}
