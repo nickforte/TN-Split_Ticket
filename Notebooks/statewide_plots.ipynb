{
 "cells": [
  {
   "cell_type": "code",
   "execution_count": null,
   "id": "c3d561a0",
   "metadata": {},
   "outputs": [],
   "source": [
    "import pandas as pd\n",
    "import numpy as np\n",
    "import matplotlib.pyplot as plt\n",
    "import seaborn as sns\n",
    "import requests\n",
    "import plotly.express as px\n",
    "\n",
    "%matplotlib inline"
   ]
  },
  {
   "cell_type": "code",
   "execution_count": null,
   "id": "0b196e5a",
   "metadata": {},
   "outputs": [],
   "source": [
    "master_df = pd.read_csv('../Data/master_statewide.csv')"
   ]
  },
  {
   "cell_type": "code",
   "execution_count": null,
   "id": "18137487",
   "metadata": {},
   "outputs": [],
   "source": [
    "master_df"
   ]
  },
  {
   "cell_type": "code",
   "execution_count": null,
   "id": "bf19418f",
   "metadata": {},
   "outputs": [],
   "source": [
    "heat = master_df.pivot(\"office\", \"year\", \"Rep_margin\")\n",
    "\n",
    "f, ax = plt.subplots(figsize=(16, 8))\n",
    "sns.heatmap(heat, cbar_kws = dict(location=\"bottom\", shrink=0.5), annot=True, annot_kws={\"size\": 12, 'fontweight': 'bold'}, linewidths=0.1, linecolor='black', cmap = 'bwr', vmin= -25, vmax = 25, ax=ax)\n",
    "ax.set_facecolor('xkcd:black')\n",
    "f.set_facecolor('white')\n",
    "\n",
    "plt.xlabel('Year', fontsize=16, fontweight='bold')\n",
    "plt.ylabel('Office', fontsize=16, fontweight='bold')\n",
    "plt.yticks(rotation=0, fontsize = 12)\n",
    "plt.xticks(rotation=0, fontsize = 12)\n",
    "plt.title('Republican Statewide Margin by Office, 1980-2020', fontsize = 18, fontweight='bold', pad=20)\n",
    "# plt.savefig('rep_state_margin.png', bbox_inches='tight');\n",
    "plt.show();"
   ]
  },
  {
   "cell_type": "code",
   "execution_count": null,
   "id": "8894df5c",
   "metadata": {},
   "outputs": [],
   "source": [
    "master_80 = master_df[master_df['year'] < 1990]\n",
    "master_90 = master_df[(master_df['year'] > 1989) & (master_df['year'] < 2000)]\n",
    "master_00 = master_df[(master_df['year'] > 1999) & (master_df['year'] < 2010)]\n",
    "master_10 = master_df[(master_df['year'] > 2009) & (master_df['year'] < 2021)]"
   ]
  },
  {
   "cell_type": "code",
   "execution_count": null,
   "id": "b32b2c50",
   "metadata": {},
   "outputs": [],
   "source": [
    "master_00"
   ]
  },
  {
   "cell_type": "code",
   "execution_count": null,
   "id": "06060d15",
   "metadata": {},
   "outputs": [],
   "source": [
    "heat80 = master_80.pivot(\"office\", \"year\", \"Rep_margin\")\n",
    "\n",
    "f, ax = plt.subplots(figsize=(10, 10))\n",
    "sns.heatmap(heat80, cbar_kws = dict(location=\"right\", shrink=0.8), annot=True, annot_kws={\"size\": 16, 'fontweight': 'bold'}, linewidths=0.1, linecolor='black', cmap = 'bwr', vmin= -25, vmax = 25, ax=ax)\n",
    "ax.set_facecolor('xkcd:black')\n",
    "f.set_facecolor('white')\n",
    "\n",
    "plt.xlabel('Year', fontsize=16, fontweight='bold')\n",
    "plt.ylabel('Office', fontsize=16, fontweight='bold')\n",
    "plt.yticks(rotation=0, fontsize = 14)\n",
    "plt.xticks(rotation=0, fontsize = 14)\n",
    "plt.title('Republican Statewide Margin by Office, 1980-1988', fontsize = 18, fontweight='bold', pad=20)\n",
    "# plt.savefig('rep_state_margin_80.png', bbox_inches='tight');\n",
    "plt.show();"
   ]
  },
  {
   "cell_type": "code",
   "execution_count": null,
   "id": "c9d60ab7",
   "metadata": {},
   "outputs": [],
   "source": [
    "heat90 = master_90.pivot(\"office\", \"year\", \"Rep_margin\")\n",
    "\n",
    "f, ax = plt.subplots(figsize=(10, 10))\n",
    "sns.heatmap(heat90, cbar_kws = dict(location=\"right\", shrink=0.8), annot=True, annot_kws={\"size\": 16, 'fontweight': 'bold'}, linewidths=0.1, linecolor='black', cmap = 'bwr', vmin= -25, vmax = 25, square=True, ax=ax)\n",
    "ax.set_facecolor('xkcd:black')\n",
    "f.set_facecolor('white')\n",
    "\n",
    "plt.xlabel('Year', fontsize=16, fontweight='bold')\n",
    "plt.ylabel('Office', fontsize=16, fontweight='bold')\n",
    "plt.yticks(rotation=0, fontsize = 14)\n",
    "plt.xticks(rotation=0, fontsize = 14)\n",
    "plt.title('Republican Statewide Margin by Office, 1990-1998', fontsize = 18, fontweight='bold', pad=20)\n",
    "# plt.savefig('rep_state_margin_90.png', bbox_inches='tight');\n",
    "plt.show();"
   ]
  },
  {
   "cell_type": "code",
   "execution_count": null,
   "id": "4f8c9dd2",
   "metadata": {},
   "outputs": [],
   "source": [
    "heat00 = master_00.pivot(\"office\", \"year\", \"Rep_margin\")\n",
    "\n",
    "f, ax = plt.subplots(figsize=(10, 10))\n",
    "sns.heatmap(heat00, cbar_kws = dict(location=\"right\", shrink=0.8), annot=True, annot_kws={\"size\": 16, 'fontweight': 'bold'}, linewidths=0.1, linecolor='black', cmap = 'bwr', vmin= -25, vmax = 25, square=True, ax=ax)\n",
    "ax.set_facecolor('xkcd:black')\n",
    "f.set_facecolor('white')\n",
    "\n",
    "plt.xlabel('Year', fontsize=16, fontweight='bold')\n",
    "plt.ylabel('Office', fontsize=16, fontweight='bold')\n",
    "plt.yticks(rotation=0, fontsize = 14)\n",
    "plt.xticks(rotation=0, fontsize = 14)\n",
    "plt.title('Republican Statewide Margin by Office, 2000-2008', fontsize = 18, fontweight='bold', pad=20)\n",
    "# plt.savefig('rep_state_margin_00.png', bbox_inches='tight');\n",
    "plt.show();"
   ]
  },
  {
   "cell_type": "code",
   "execution_count": null,
   "id": "7a893ab1",
   "metadata": {},
   "outputs": [],
   "source": [
    "heat10 = master_10.pivot(\"office\", \"year\", \"Rep_margin\")\n",
    "\n",
    "f, ax = plt.subplots(figsize=(10, 10))\n",
    "sns.heatmap(heat10, cbar_kws = dict(location=\"right\", shrink=0.8), annot=True, annot_kws={\"size\": 16, 'fontweight': 'bold'}, linewidths=0.1, linecolor='black', cmap = 'bwr', vmin= -25, vmax = 25, square=True, ax=ax)\n",
    "ax.set_facecolor('xkcd:black')\n",
    "f.set_facecolor('white')\n",
    "\n",
    "plt.xlabel('Year', fontsize=16, fontweight='bold')\n",
    "plt.ylabel('Office', fontsize=16, fontweight='bold')\n",
    "plt.yticks(rotation=0, fontsize = 14)\n",
    "plt.xticks(rotation=0, fontsize = 14)\n",
    "plt.title('Republican Statewide Margin by Office, 2010-2020', fontsize = 18, fontweight='bold', pad=20)\n",
    "# plt.savefig('rep_state_margin_10.png', bbox_inches='tight');\n",
    "plt.show();"
   ]
  },
  {
   "cell_type": "code",
   "execution_count": null,
   "id": "f0600ab5",
   "metadata": {},
   "outputs": [],
   "source": [
    "master_pres = master_df[master_df['office'] == 'Pres']"
   ]
  },
  {
   "cell_type": "code",
   "execution_count": null,
   "id": "42f24e79",
   "metadata": {},
   "outputs": [],
   "source": [
    "master_pres"
   ]
  },
  {
   "cell_type": "code",
   "execution_count": null,
   "id": "0d7e53f0",
   "metadata": {},
   "outputs": [],
   "source": [
    "heat_pres = master_pres.pivot(\"office\", \"year\", \"Rep_margin\")\n",
    "\n",
    "f, ax = plt.subplots(figsize=(10, 10))\n",
    "sns.heatmap(heat_pres, cbar_kws = dict(location=\"bottom\", shrink=0.8), annot=True, annot_kws={\"size\": 16, 'fontweight': 'bold'}, linewidths=0.1, linecolor='black', cmap = 'bwr', vmin= -25, vmax = 25, square=True, ax=ax)\n",
    "ax.set_facecolor('xkcd:black')\n",
    "f.set_facecolor('white')\n",
    "\n",
    "plt.xlabel('Year', fontsize=16, fontweight='bold')\n",
    "plt.ylabel('Office', fontsize=16, fontweight='bold')\n",
    "plt.yticks(rotation=0, fontsize = 14)\n",
    "plt.xticks(rotation=0, fontsize = 14)\n",
    "plt.title('Republican Statewide Margin in Presidential Elections, 1980-2020', fontsize = 16, fontweight='bold', pad=20)\n",
    "# plt.savefig('rep_state_margin_10.png', bbox_inches='tight');\n",
    "plt.show();"
   ]
  },
  {
   "cell_type": "code",
   "execution_count": null,
   "id": "4f789411",
   "metadata": {},
   "outputs": [],
   "source": [
    "no_ssen = master_df[master_df['office'] != 'State Senate']"
   ]
  },
  {
   "cell_type": "code",
   "execution_count": null,
   "id": "2d2b7d99",
   "metadata": {},
   "outputs": [],
   "source": [
    "no_ssen"
   ]
  },
  {
   "cell_type": "code",
   "execution_count": null,
   "id": "4d8ce189",
   "metadata": {},
   "outputs": [],
   "source": [
    "plt.figure(figsize=(9, 5))\n",
    "plt.title('Rep Vote by Year for Each Office)')\n",
    "plt.plot(no_ssen['year'], no_ssen['Rep%'], '-b', linewidth=2)\n",
    "# OR : df_pop_density(x='Country', y='Population Density(/kmsq)', '-b', linewidth=2)\n",
    "plt.xticks(rotation=60)\n",
    "plt.xlabel('Year')\n",
    "plt.ylabel('Rep %')\n",
    "plt.show()"
   ]
  },
  {
   "cell_type": "code",
   "execution_count": null,
   "id": "6fdf7c23",
   "metadata": {},
   "outputs": [],
   "source": [
    "plt.figure(figsize = (10,6))\n",
    "sns.set_theme(style=\"darkgrid\")\n",
    "\n",
    "graph = sns.lineplot(data = no_ssen,\n",
    "               x = 'year',\n",
    "               y = 'Rep%',\n",
    "               hue = 'office',\n",
    "               palette = 'tab10',\n",
    "               linewidth = 3,\n",
    "               marker = 'o', markersize=9)\n",
    "graph.axhline(50, color='black', linestyle = '--', linewidth = 2)\n",
    "plt.legend(bbox_to_anchor = (1, 1), loc = 'upper left')\n",
    "plt.title('Rep Vote Share by Office', fontsize=16, fontweight='bold')\n",
    "# plt.savefig('rep_perc_by_year.png', bbox_inches='tight');\n",
    "plt.plot();"
   ]
  },
  {
   "cell_type": "code",
   "execution_count": null,
   "id": "af72f1d8",
   "metadata": {},
   "outputs": [],
   "source": [
    "plt.figure(figsize = (10,6))\n",
    "sns.set_theme(style=\"darkgrid\")\n",
    "\n",
    "graph = sns.lineplot(data = no_ssen,\n",
    "               x = 'year',\n",
    "               y = 'Dem%',\n",
    "               hue = 'office',\n",
    "               palette = 'tab10',\n",
    "               linewidth = 2,\n",
    "               marker = 'o', markersize=9)\n",
    "graph.axhline(50, color='black', linestyle = '--', linewidth = 2)\n",
    "plt.legend(bbox_to_anchor = (1, 1), loc = 'upper left')\n",
    "plt.title('Dem Vote Share by Office', fontsize=16, fontweight='bold')\n",
    "# plt.savefig('dem_perc_by_year', bbox_inches='tight');\n",
    "plt.plot();"
   ]
  },
  {
   "cell_type": "code",
   "execution_count": null,
   "id": "807a50bb",
   "metadata": {},
   "outputs": [],
   "source": [
    "plt.figure(figsize = (12,5))\n",
    "sns.set_theme(style=\"darkgrid\")\n",
    "\n",
    "graph = sns.boxplot(data = no_ssen,\n",
    "           x = 'year',\n",
    "           y = 'Rep%', color='red')\n",
    "graph.axhline(50, color='blue', linestyle = '--', linewidth = 3)\n",
    "# plt.savefig('rep_boxplot.png', bbox_inches='tight');\n",
    "plt.plot();"
   ]
  },
  {
   "cell_type": "code",
   "execution_count": null,
   "id": "f441b052",
   "metadata": {},
   "outputs": [],
   "source": [
    "plt.figure(figsize = (12,5))\n",
    "sns.set_theme(style=\"darkgrid\")\n",
    "\n",
    "\n",
    "graph = sns.boxplot(data = no_ssen,\n",
    "           x = 'year',\n",
    "           y = 'Dem%', color='blue')\n",
    "\n",
    "\n",
    "graph.axhline(50, color='red', linestyle = '--', linewidth = 3)\n",
    "# plt.savefig('dem_boxplot.png', bbox_inches='tight');\n",
    "plt.plot();"
   ]
  },
  {
   "cell_type": "code",
   "execution_count": null,
   "id": "8712d00d",
   "metadata": {},
   "outputs": [],
   "source": [
    "plt.figure(figsize = (12,6))\n",
    "sns.set_theme(style=\"darkgrid\")\n",
    "\n",
    "graph = sns.boxplot(data = master_80[master_80['office'] != 'State Senate'],\n",
    "           x = 'office',\n",
    "           y = 'Rep%', color='red')\n",
    "graph.axhline(50, color='blue', linestyle = '--', linewidth = 3);"
   ]
  },
  {
   "cell_type": "code",
   "execution_count": null,
   "id": "7fd6dff4",
   "metadata": {
    "scrolled": true
   },
   "outputs": [],
   "source": [
    "plt.figure(figsize = (12,6))\n",
    "sns.set_theme(style=\"darkgrid\")\n",
    "\n",
    "graph = sns.boxplot(data = master_80[master_80['office'] != 'State Senate'],\n",
    "        x = 'office',\n",
    "        y = 'Dem%', color='blue')\n",
    "graph.axhline(50, color='red', linestyle = '--', linewidth = 3)\n",
    "plt.show();"
   ]
  },
  {
   "cell_type": "code",
   "execution_count": null,
   "id": "601a09a9",
   "metadata": {},
   "outputs": [],
   "source": [
    "plt.figure(figsize = (12,6))\n",
    "sns.set_theme(style=\"darkgrid\")\n",
    "\n",
    "graph = sns.boxplot(data = master_10[master_10['office'] != 'State Senate'],\n",
    "        x = 'office',\n",
    "        y = 'Rep%', color='red')\n",
    "graph.axhline(50, color='blue', linestyle = '--', linewidth = 3);"
   ]
  },
  {
   "cell_type": "code",
   "execution_count": null,
   "id": "a64b9742",
   "metadata": {},
   "outputs": [],
   "source": [
    "plt.figure(figsize = (12,6))\n",
    "sns.set_theme(style=\"darkgrid\")\n",
    "\n",
    "graph = sns.boxplot(data = master_10[master_10['office'] != 'State Senate'],\n",
    "        x = 'office',\n",
    "        y = 'Dem%', color='blue')\n",
    "graph.axhline(50, color='red', linestyle = '--', linewidth = 3);"
   ]
  },
  {
   "cell_type": "code",
   "execution_count": null,
   "id": "00083465",
   "metadata": {},
   "outputs": [],
   "source": [
    "df_82 = master_df[master_df['year'] == 1982]"
   ]
  },
  {
   "cell_type": "code",
   "execution_count": null,
   "id": "3aeddad9",
   "metadata": {},
   "outputs": [],
   "source": [
    "df_82 = df_82[(df_82.office == 'Gov') | (df_82.office == 'US_Senate')]"
   ]
  },
  {
   "cell_type": "code",
   "execution_count": null,
   "id": "fdd033db",
   "metadata": {},
   "outputs": [],
   "source": [
    "df_82"
   ]
  },
  {
   "cell_type": "code",
   "execution_count": null,
   "id": "29e1e261",
   "metadata": {},
   "outputs": [],
   "source": [
    "plt.rcParams[\"figure.figsize\"] = [10, 6]\n",
    "plt.rcParams[\"figure.autolayout\"] = True\n",
    "\n",
    "office = df_82['office']\n",
    "Rep = df_82['Rep%']\n",
    "Dem = df_82['Dem%']\n",
    "\n",
    "b1 = plt.barh(office, Dem, color=\"blue\")\n",
    "\n",
    "b2 = plt.barh(office, Rep, left=Dem, color=\"red\")\n",
    "\n",
    "for index, value in enumerate(Dem):\n",
    "    plt.text(value / 2, index,\n",
    "            str(value), color = 'white', fontsize=18, fontweight='bold')\n",
    "    \n",
    "for index, value in enumerate(Rep):\n",
    "    plt.text(100 - value/2, index,\n",
    "            str(value), color='white', fontsize=18, fontweight='bold')\n",
    "    \n",
    "\n",
    "plt.axvline(40.4, color='yellow', linestyle = '--', linewidth = 5)\n",
    "plt.axvline(61.9, color='yellow', linestyle = '--', linewidth = 5)\n",
    "plt.legend([b1, b2], [\"Dem\", \"Rep\"], title=\"Party\", bbox_to_anchor = (0.6, -0.3), loc=\"lower right\", ncol=2, fancybox=True)\n",
    "plt.title('1982 Election: US Senate vs. Gubernatorial', fontsize=20, fontweight='bold')\n",
    "plt.xlabel('Percentage of Vote', fontsize=16, fontweight='bold')\n",
    "plt.ylabel('Office', fontsize=16, fontweight='bold')\n",
    "plt.yticks(fontsize=14)\n",
    "plt.xticks(fontsize=14)\n",
    "# plt.savefig('sen_gov_82.png', bbox_inches='tight');\n",
    "plt.show();"
   ]
  },
  {
   "cell_type": "code",
   "execution_count": null,
   "id": "e29b2ce9",
   "metadata": {},
   "outputs": [],
   "source": [
    "no_ssen.groupby(['year'])[['Rep%', 'Dem%']].mean().round(1).plot(linewidth = 3)\n",
    "\n",
    "plt.axhline(50, color='black', linestyle = '--', linewidth = 2)\n",
    "# plt.savefig('rep_dem_avg.png', bbox_inches='tight');\n",
    "plt.plot();"
   ]
  },
  {
   "cell_type": "code",
   "execution_count": null,
   "id": "44e20878",
   "metadata": {
    "scrolled": true
   },
   "outputs": [],
   "source": [
    "master_80.groupby(['year'])[['Rep%', 'Dem%']].mean().round(1).plot(linewidth = 3)"
   ]
  },
  {
   "cell_type": "code",
   "execution_count": null,
   "id": "eca7a413",
   "metadata": {},
   "outputs": [],
   "source": [
    "master_90.groupby(['year'])[['Rep%', 'Dem%']].mean().round(1).plot(linewidth = 3)"
   ]
  },
  {
   "cell_type": "code",
   "execution_count": null,
   "id": "70b2f6f8",
   "metadata": {},
   "outputs": [],
   "source": []
  }
 ],
 "metadata": {
  "kernelspec": {
   "display_name": "Python 3 (ipykernel)",
   "language": "python",
   "name": "python3"
  },
  "language_info": {
   "codemirror_mode": {
    "name": "ipython",
    "version": 3
   },
   "file_extension": ".py",
   "mimetype": "text/x-python",
   "name": "python",
   "nbconvert_exporter": "python",
   "pygments_lexer": "ipython3",
   "version": "3.8.5"
  }
 },
 "nbformat": 4,
 "nbformat_minor": 5
}
