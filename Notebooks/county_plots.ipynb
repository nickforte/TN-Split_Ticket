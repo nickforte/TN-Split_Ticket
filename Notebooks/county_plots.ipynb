{
 "cells": [
  {
   "cell_type": "code",
   "execution_count": null,
   "id": "ecc664e9",
   "metadata": {},
   "outputs": [],
   "source": [
    "import pandas as pd\n",
    "import numpy as np\n",
    "import matplotlib.pyplot as plt\n",
    "import seaborn as sns\n",
    "import requests\n",
    "import plotly.express as px\n",
    "\n",
    "%matplotlib inline"
   ]
  },
  {
   "cell_type": "code",
   "execution_count": null,
   "id": "3438075c",
   "metadata": {},
   "outputs": [],
   "source": [
    "pd.set_option('display.max_columns', None)"
   ]
  },
  {
   "cell_type": "code",
   "execution_count": null,
   "id": "ebade044",
   "metadata": {},
   "outputs": [],
   "source": [
    "county = pd.read_csv('../Data/master_county.csv')"
   ]
  },
  {
   "cell_type": "code",
   "execution_count": null,
   "id": "53d43b55",
   "metadata": {},
   "outputs": [],
   "source": [
    "county"
   ]
  },
  {
   "cell_type": "code",
   "execution_count": null,
   "id": "d35dd34b",
   "metadata": {},
   "outputs": [],
   "source": [
    "for index, row in county.iterrows():\n",
    "    if row.Rep > row.Dem:\n",
    "        county.loc[index, 'Rep_win'] = 1\n",
    "    elif row.Rep < row.Dem:\n",
    "        county.loc[index, 'Rep_win'] = 0"
   ]
  },
  {
   "cell_type": "code",
   "execution_count": null,
   "id": "d8077f4d",
   "metadata": {},
   "outputs": [],
   "source": [
    "for index, row in county.iterrows():\n",
    "    if row.Dem > row.Rep:\n",
    "        county.loc[index, 'Dem_win'] = 1\n",
    "    elif row.Dem < row.Rep:\n",
    "        county.loc[index, 'Dem_win'] = 0"
   ]
  },
  {
   "cell_type": "code",
   "execution_count": null,
   "id": "afabe847",
   "metadata": {},
   "outputs": [],
   "source": [
    "county_split = county.groupby(['year', 'county']).agg({'Rep_win': 'sum', 'Dem_win': 'sum'}).reset_index()"
   ]
  },
  {
   "cell_type": "code",
   "execution_count": null,
   "id": "11b03007",
   "metadata": {},
   "outputs": [],
   "source": [
    "county_split.head(3)"
   ]
  },
  {
   "cell_type": "code",
   "execution_count": null,
   "id": "27167753",
   "metadata": {},
   "outputs": [],
   "source": [
    "county_split = county_split.astype({'Rep_win': 'int', 'Dem_win': 'int'})"
   ]
  },
  {
   "cell_type": "code",
   "execution_count": null,
   "id": "bba95384",
   "metadata": {},
   "outputs": [],
   "source": [
    "for index, row in county_split.iterrows():\n",
    "    if row.Rep_win == 0:\n",
    "        county_split.loc[index, 'all_dem'] = 1\n",
    "    elif row.Dem_win == 0:\n",
    "        county_split.loc[index, 'all_rep'] = 1\n",
    "    else:\n",
    "        county_split.loc[index, 'split'] = 1"
   ]
  },
  {
   "cell_type": "code",
   "execution_count": null,
   "id": "39623498",
   "metadata": {},
   "outputs": [],
   "source": [
    "for index, row in county_split.iterrows():\n",
    "    if row.split == 1:\n",
    "        county_split.loc[index, 'one_party'] = 0\n",
    "    else:\n",
    "        county_split.loc[index, 'one_party'] = 1"
   ]
  },
  {
   "cell_type": "code",
   "execution_count": null,
   "id": "76fd8c37",
   "metadata": {},
   "outputs": [],
   "source": [
    "county_split = county_split.fillna(0)"
   ]
  },
  {
   "cell_type": "code",
   "execution_count": null,
   "id": "ccaf0b5e",
   "metadata": {},
   "outputs": [],
   "source": [
    "county_split = county_split.astype({'split': 'int', 'all_dem': 'int', 'all_rep': 'int', 'one_party': 'int'})"
   ]
  },
  {
   "cell_type": "code",
   "execution_count": null,
   "id": "b1fef564",
   "metadata": {},
   "outputs": [],
   "source": [
    "county_split.one_party.value_counts()"
   ]
  },
  {
   "cell_type": "code",
   "execution_count": null,
   "id": "2be09587",
   "metadata": {},
   "outputs": [],
   "source": [
    "county_split.split.value_counts()"
   ]
  },
  {
   "cell_type": "code",
   "execution_count": null,
   "id": "ce523b02",
   "metadata": {},
   "outputs": [],
   "source": [
    "county_split.all_dem.value_counts()"
   ]
  },
  {
   "cell_type": "code",
   "execution_count": null,
   "id": "358d799e",
   "metadata": {},
   "outputs": [],
   "source": [
    "county_split.all_rep.value_counts()"
   ]
  },
  {
   "cell_type": "code",
   "execution_count": null,
   "id": "507f2084",
   "metadata": {},
   "outputs": [],
   "source": [
    "county_split"
   ]
  },
  {
   "cell_type": "code",
   "execution_count": null,
   "id": "ec672fd5",
   "metadata": {},
   "outputs": [],
   "source": [
    "county_tot = county_split.groupby(['year']).agg({'split': 'sum', 'all_dem': 'sum', 'all_rep': 'sum', 'one_party': 'sum'}).reset_index()"
   ]
  },
  {
   "cell_type": "code",
   "execution_count": null,
   "id": "66bb20b3",
   "metadata": {},
   "outputs": [],
   "source": [
    "county_tot.set_index('year', inplace=True)"
   ]
  },
  {
   "cell_type": "code",
   "execution_count": null,
   "id": "bd3474a1",
   "metadata": {},
   "outputs": [],
   "source": [
    "county_tot"
   ]
  },
  {
   "cell_type": "code",
   "execution_count": null,
   "id": "697e5fda",
   "metadata": {},
   "outputs": [],
   "source": [
    "# county_tot.to_csv(\"split_county_by_year.csv\", index=False)"
   ]
  },
  {
   "cell_type": "code",
   "execution_count": null,
   "id": "0d46f8a7",
   "metadata": {
    "scrolled": true
   },
   "outputs": [],
   "source": [
    "spl = county_tot['split']\n",
    "\n",
    "ax = county_tot.sort_index(ascending=False)[['split', 'one_party']].plot(kind = 'bar',\n",
    "                                                                    stacked = True, \n",
    "                                                                    align='center',\n",
    "                                                                    width=0.75,\n",
    "                                                                    colormap='tab20',\n",
    "                                                                    edgecolor='black',\n",
    "                                                                    linewidth=2,\n",
    "                                                                    figsize=(8,4))\n",
    "\n",
    "\n",
    "\n",
    "ax=plt.gca()\n",
    "ax.invert_xaxis() \n",
    "\n",
    "for index, value in enumerate(spl):\n",
    "  ax.text(index, value, str(value), fontsize=16, ha='center')\n",
    "\n",
    "plt.legend(bbox_to_anchor = (1, 0.7), loc = 'upper left')\n",
    "plt.xlabel('Year', fontsize=16, fontweight='bold')\n",
    "plt.ylabel('Number of Counties', fontsize=16, fontweight='bold')\n",
    "plt.xticks(fontsize=14, rotation=0)\n",
    "plt.yticks(fontsize=14)\n",
    "plt.title('Split Ticket Counties by Year', fontsize=18, fontweight='bold', pad=20)\n",
    "\n",
    "# plt.savefig('split_counties.png', bbox_inches='tight');\n",
    "plt.show();"
   ]
  },
  {
   "cell_type": "code",
   "execution_count": null,
   "id": "3738bda7",
   "metadata": {},
   "outputs": [],
   "source": [
    "plt.figure(figsize = (10,6))\n",
    "sns.set_theme(style=\"darkgrid\")\n",
    "\n",
    "graph = sns.lineplot(data = county_tot,\n",
    "               x = 'year',\n",
    "               y = 'split',\n",
    "               palette = 'tab10',\n",
    "               linewidth = 3,\n",
    "               marker = 'o', markersize=9)\n",
    "# graph.axhline(50, color='black', linestyle = '--', linewidth = 2)\n",
    "# plt.legend(bbox_to_anchor = (1, 1), loc = 'upper left')\n",
    "plt.title('Split Ticket Counties by Year', fontsize=16, fontweight='bold');"
   ]
  },
  {
   "cell_type": "code",
   "execution_count": null,
   "id": "fe29a40e",
   "metadata": {},
   "outputs": [],
   "source": [
    "county_10 = county[county['year'] < 2010]\n",
    "county_20 = county[county['year'] >= 2010]"
   ]
  },
  {
   "cell_type": "code",
   "execution_count": null,
   "id": "a009a1fb",
   "metadata": {},
   "outputs": [],
   "source": [
    "county_10"
   ]
  },
  {
   "cell_type": "code",
   "execution_count": null,
   "id": "d97c0c2d",
   "metadata": {},
   "outputs": [],
   "source": [
    "county_20"
   ]
  },
  {
   "cell_type": "code",
   "execution_count": null,
   "id": "506d8602",
   "metadata": {},
   "outputs": [],
   "source": [
    "county_20['office'] = county_20['office'].replace({'State House' : 'State_House'}, regex=True)"
   ]
  },
  {
   "cell_type": "code",
   "execution_count": null,
   "id": "2cfd7bef",
   "metadata": {},
   "outputs": [],
   "source": [
    "ps20 = county_20[['year', 'county', 'office', 'Rep%', 'Dem%']]"
   ]
  },
  {
   "cell_type": "code",
   "execution_count": null,
   "id": "5a24e894",
   "metadata": {},
   "outputs": [],
   "source": [
    "mask = ps20['office'].isin(['Pres', 'US_Senate'])"
   ]
  },
  {
   "cell_type": "code",
   "execution_count": null,
   "id": "98f93d6b",
   "metadata": {},
   "outputs": [],
   "source": [
    "ps20 = ps20[mask]"
   ]
  },
  {
   "cell_type": "code",
   "execution_count": null,
   "id": "708f73b9",
   "metadata": {},
   "outputs": [],
   "source": [
    "ps20"
   ]
  },
  {
   "cell_type": "code",
   "execution_count": null,
   "id": "c00b5537",
   "metadata": {},
   "outputs": [],
   "source": [
    "ps20 = ps20.pivot_table(index=['year', 'county'],\n",
    "                 columns = 'office',\n",
    "                 values = ['Rep%', 'Dem%']).reset_index()"
   ]
  },
  {
   "cell_type": "code",
   "execution_count": null,
   "id": "915643a8",
   "metadata": {},
   "outputs": [],
   "source": [
    "ps20"
   ]
  },
  {
   "cell_type": "code",
   "execution_count": null,
   "id": "68f53997",
   "metadata": {},
   "outputs": [],
   "source": []
  },
  {
   "cell_type": "code",
   "execution_count": null,
   "id": "41084a23",
   "metadata": {},
   "outputs": [],
   "source": [
    "plt.figure(figsize=(8,8), dpi=80)\n",
    "plt.scatter(ps20['Rep%'].Pres, ps20['Rep%'].US_Senate, s=50, c='red', edgecolor='black', linewidth=0.7)\n",
    "\n",
    "plt.title('Republican Vote Share by County \\n Presidential vs. US Senate, 2010-2020', fontweight = 'bold', fontsize = 16, color = 'black')\n",
    "plt.xlabel('Republican % by County, Presidential', fontweight = 'bold', fontsize = 14, color = 'black')\n",
    "plt.ylabel('Republican % by County, US Senate', fontweight = 'bold', fontsize = 14, color = 'black')\n",
    "plt.xticks(fontsize = 14)\n",
    "plt.yticks(fontsize = 14)\n",
    "plt.xlim(10, 90)\n",
    "plt.ylim(10, 90)\n",
    "plt.axhline(y=50, color='black', linestyle = '--', linewidth=2)\n",
    "plt.axvline(x=50, color='black', linestyle = '--', linewidth=2)\n",
    "ax = plt.gca()\n",
    "ax.set_facecolor('lightgrey')\n",
    "\n",
    "plt.show()"
   ]
  },
  {
   "cell_type": "code",
   "execution_count": null,
   "id": "a4004c35",
   "metadata": {},
   "outputs": [],
   "source": [
    "plt.figure(figsize=(8,8), dpi=80)\n",
    "plt.scatter(ps20['Dem%'].Pres, ps20['Dem%'].US_Senate, s=50, c='royalblue', edgecolor='black', linewidth=0.7)\n",
    "\n",
    "plt.title('Democratic Vote Share by County \\n Presidential vs. US Senate, 2010-2020', fontweight = 'bold', fontsize = 16, color = 'black')\n",
    "plt.xlabel('Democratic % by County, Presidential', fontweight = 'bold', fontsize = 14, color = 'black')\n",
    "plt.ylabel('Democratic % by County, US Senate', fontweight = 'bold', fontsize = 14, color = 'black')\n",
    "plt.xticks(fontsize = 14)\n",
    "plt.yticks(fontsize = 14)\n",
    "plt.xlim(8, 92)\n",
    "plt.ylim(8, 92)\n",
    "plt.axhline(y=50, color='black', linestyle = '--', linewidth=2)\n",
    "plt.axvline(x=50, color='black', linestyle = '--', linewidth=2)\n",
    "ax = plt.gca()\n",
    "ax.set_facecolor('lightgrey')\n",
    "\n",
    "plt.show()"
   ]
  },
  {
   "cell_type": "code",
   "execution_count": null,
   "id": "3f27c8d0",
   "metadata": {},
   "outputs": [],
   "source": [
    "sg20 = county_20[['year', 'county', 'office', 'Rep%', 'Dem%']]"
   ]
  },
  {
   "cell_type": "code",
   "execution_count": null,
   "id": "11a2899a",
   "metadata": {},
   "outputs": [],
   "source": [
    "sgmask = sg20['office'].isin(['US_Senate', 'Governor'])"
   ]
  },
  {
   "cell_type": "code",
   "execution_count": null,
   "id": "94490544",
   "metadata": {},
   "outputs": [],
   "source": [
    "sg20 = sg20[sgmask]"
   ]
  },
  {
   "cell_type": "code",
   "execution_count": null,
   "id": "879a3c52",
   "metadata": {},
   "outputs": [],
   "source": [
    "sg20"
   ]
  },
  {
   "cell_type": "code",
   "execution_count": null,
   "id": "5f5f010e",
   "metadata": {},
   "outputs": [],
   "source": [
    "sg20 = sg20.pivot_table(index=['year', 'county'],\n",
    "                 columns = 'office',\n",
    "                 values = ['Rep%', 'Dem%']).reset_index()"
   ]
  },
  {
   "cell_type": "code",
   "execution_count": null,
   "id": "fb823cb3",
   "metadata": {},
   "outputs": [],
   "source": [
    "sg20"
   ]
  },
  {
   "cell_type": "code",
   "execution_count": null,
   "id": "791f74bc",
   "metadata": {},
   "outputs": [],
   "source": [
    "plt.figure(figsize=(8,8), dpi=80)\n",
    "plt.scatter(sg20['Rep%'].Governor, sg20['Rep%'].US_Senate, s=50, c='red', edgecolor='black', linewidth=0.7)\n",
    "\n",
    "plt.title('Republican Vote Share by County \\n Gubernatorial vs. US Senate, 2010-2020', fontweight = 'bold', fontsize = 16, color = 'black')\n",
    "plt.xlabel('Republican % by County, Gubernatorial', fontweight = 'bold', fontsize = 14, color = 'black')\n",
    "plt.ylabel('Republican % by County, US Senate', fontweight = 'bold', fontsize = 14, color = 'black')\n",
    "plt.xticks(fontsize = 14)\n",
    "plt.yticks(fontsize = 14)\n",
    "plt.xlim(10, 90)\n",
    "plt.ylim(10, 90)\n",
    "plt.axhline(y=50, color='black', linestyle = '--', linewidth=2)\n",
    "plt.axvline(x=50, color='black', linestyle = '--', linewidth=2)\n",
    "ax = plt.gca()\n",
    "ax.set_facecolor('lightgrey')\n",
    "\n",
    "plt.show()"
   ]
  },
  {
   "cell_type": "code",
   "execution_count": null,
   "id": "6c4af33d",
   "metadata": {},
   "outputs": [],
   "source": [
    "plt.figure(figsize=(8,8), dpi=80)\n",
    "plt.scatter(sg20['Dem%'].Governor, sg20['Dem%'].US_Senate, s=50, c='royalblue', edgecolor='black', linewidth=0.7)\n",
    "\n",
    "plt.title('Democratic Vote Share by County \\n Gubernatorial vs. US Senate, 2010-2020', fontweight = 'bold', fontsize = 16, color = 'black')\n",
    "plt.xlabel('Democratic % by County, Gubernatorial', fontweight = 'bold', fontsize = 14, color = 'black')\n",
    "plt.ylabel('Democratic % by County, US Senate', fontweight = 'bold', fontsize = 14, color = 'black')\n",
    "plt.xticks(fontsize = 14)\n",
    "plt.yticks(fontsize = 14)\n",
    "plt.xlim(10, 90)\n",
    "plt.ylim(10, 90)\n",
    "plt.axhline(y=50, color='black', linestyle = '--', linewidth=2)\n",
    "plt.axvline(x=50, color='black', linestyle = '--', linewidth=2)\n",
    "ax = plt.gca()\n",
    "ax.set_facecolor('lightgrey')\n",
    "\n",
    "plt.show()"
   ]
  },
  {
   "cell_type": "code",
   "execution_count": null,
   "id": "6c722881",
   "metadata": {},
   "outputs": [],
   "source": [
    "ph20 = county_20[['year', 'county', 'office', 'Rep%', 'Dem%']]"
   ]
  },
  {
   "cell_type": "code",
   "execution_count": null,
   "id": "a1d9970d",
   "metadata": {},
   "outputs": [],
   "source": [
    "phmask = ph20['office'].isin(['Pres', 'US_House'])"
   ]
  },
  {
   "cell_type": "code",
   "execution_count": null,
   "id": "a83570e3",
   "metadata": {},
   "outputs": [],
   "source": [
    "ph20 = ph20[phmask]"
   ]
  },
  {
   "cell_type": "code",
   "execution_count": null,
   "id": "8f8a299d",
   "metadata": {},
   "outputs": [],
   "source": [
    "ph20"
   ]
  },
  {
   "cell_type": "code",
   "execution_count": null,
   "id": "d2129a3f",
   "metadata": {},
   "outputs": [],
   "source": [
    "ph20 = ph20.pivot_table(index=['year', 'county'],\n",
    "                 columns = 'office',\n",
    "                 values = ['Rep%', 'Dem%']).reset_index()"
   ]
  },
  {
   "cell_type": "code",
   "execution_count": null,
   "id": "3fe1e3f7",
   "metadata": {},
   "outputs": [],
   "source": [
    "ph20"
   ]
  },
  {
   "cell_type": "code",
   "execution_count": null,
   "id": "fbf92f21",
   "metadata": {},
   "outputs": [],
   "source": [
    "plt.figure(figsize=(8,8), dpi=80)\n",
    "plt.scatter(ph20['Rep%'].Pres, ph20['Rep%'].US_House, s=50, c='red', edgecolor='black', linewidth=0.7)\n",
    "\n",
    "plt.title('Republican Vote Share by County \\n Presidential vs. US House, 2010-2020', fontweight = 'bold', fontsize = 16, color = 'black')\n",
    "plt.xlabel('Republican % by County, Presidential', fontweight = 'bold', fontsize = 14, color = 'black')\n",
    "plt.ylabel('Republican % by County, US House', fontweight = 'bold', fontsize = 14, color = 'black')\n",
    "plt.xticks(fontsize = 14)\n",
    "plt.yticks(fontsize = 14)\n",
    "plt.xlim(10, 90)\n",
    "plt.ylim(10, 90)\n",
    "plt.axhline(y=50, color='black', linestyle = '--', linewidth=2)\n",
    "plt.axvline(x=50, color='black', linestyle = '--', linewidth=2)\n",
    "ax = plt.gca()\n",
    "ax.set_facecolor('lightgrey')\n",
    "\n",
    "plt.show()"
   ]
  },
  {
   "cell_type": "code",
   "execution_count": null,
   "id": "c64dbe0d",
   "metadata": {},
   "outputs": [],
   "source": [
    "plt.figure(figsize=(8,8), dpi=80)\n",
    "plt.scatter(ph20['Dem%'].Pres, ph20['Dem%'].US_House, s=50, c='royalblue', edgecolor='black', linewidth=0.7)\n",
    "\n",
    "plt.title('Democratic Vote Share by County \\n Presidential vs. US House, 2010-2020', fontweight = 'bold', fontsize = 16, color = 'black')\n",
    "plt.xlabel('Democratic % by County, Presidential', fontweight = 'bold', fontsize = 14, color = 'black')\n",
    "plt.ylabel('Democratic % by County, US House', fontweight = 'bold', fontsize = 14, color = 'black')\n",
    "plt.xticks(fontsize = 14)\n",
    "plt.yticks(fontsize = 14)\n",
    "plt.xlim(10, 90)\n",
    "plt.ylim(10, 90)\n",
    "plt.axhline(y=50, color='black', linestyle = '--', linewidth=2)\n",
    "plt.axvline(x=50, color='black', linestyle = '--', linewidth=2)\n",
    "ax = plt.gca()\n",
    "ax.set_facecolor('lightgrey')\n",
    "\n",
    "plt.show()"
   ]
  },
  {
   "cell_type": "code",
   "execution_count": null,
   "id": "1c44c087",
   "metadata": {},
   "outputs": [],
   "source": [
    "gh20 = county_20[['year', 'county', 'office', 'Rep%', 'Dem%']]"
   ]
  },
  {
   "cell_type": "code",
   "execution_count": null,
   "id": "cdb915ca",
   "metadata": {},
   "outputs": [],
   "source": [
    "ghmask = gh20['office'].isin(['Governor', 'US_House'])"
   ]
  },
  {
   "cell_type": "code",
   "execution_count": null,
   "id": "be013c2d",
   "metadata": {},
   "outputs": [],
   "source": [
    "gh20 = gh20[ghmask]"
   ]
  },
  {
   "cell_type": "code",
   "execution_count": null,
   "id": "0974ecb8",
   "metadata": {},
   "outputs": [],
   "source": [
    "gh20"
   ]
  },
  {
   "cell_type": "code",
   "execution_count": null,
   "id": "53ceca11",
   "metadata": {},
   "outputs": [],
   "source": [
    "gh20 = gh20.pivot_table(index=['year', 'county'],\n",
    "                 columns = 'office',\n",
    "                 values = ['Rep%', 'Dem%']).reset_index()"
   ]
  },
  {
   "cell_type": "code",
   "execution_count": null,
   "id": "d2bb4655",
   "metadata": {},
   "outputs": [],
   "source": [
    "gh20"
   ]
  },
  {
   "cell_type": "code",
   "execution_count": null,
   "id": "2375442b",
   "metadata": {},
   "outputs": [],
   "source": [
    "plt.figure(figsize=(8,8), dpi=80)\n",
    "plt.scatter(gh20['Rep%'].Governor, gh20['Rep%'].US_House, s=50, c='red', edgecolor='black', linewidth=0.7)\n",
    "\n",
    "plt.title('Republican Vote Share by County \\n Gubernatorial vs. US House, 2010-2020', fontweight = 'bold', fontsize = 16, color = 'black')\n",
    "plt.xlabel('Republican % by County, Gubernatorial', fontweight = 'bold', fontsize = 14, color = 'black')\n",
    "plt.ylabel('Republican % by County, US House', fontweight = 'bold', fontsize = 14, color = 'black')\n",
    "plt.xticks(fontsize = 14)\n",
    "plt.yticks(fontsize = 14)\n",
    "plt.xlim(5, 95)\n",
    "plt.ylim(5, 95)\n",
    "plt.axhline(y=50, color='black', linestyle = '--', linewidth=2)\n",
    "plt.axvline(x=50, color='black', linestyle = '--', linewidth=2)\n",
    "ax = plt.gca()\n",
    "ax.set_facecolor('lightgrey')\n",
    "\n",
    "plt.show()"
   ]
  },
  {
   "cell_type": "code",
   "execution_count": null,
   "id": "b1d49fa5",
   "metadata": {},
   "outputs": [],
   "source": [
    "plt.figure(figsize=(8,8), dpi=80)\n",
    "plt.scatter(gh20['Dem%'].Governor, gh20['Dem%'].US_House, s=50, c='royalblue', edgecolor='black', linewidth=0.7)\n",
    "\n",
    "plt.title('Democratic Vote Share by County \\n Gubernatorial vs. US House, 2010-2020', fontweight = 'bold', fontsize = 16, color = 'black')\n",
    "plt.xlabel('Democratic % by County, Gubernatorial', fontweight = 'bold', fontsize = 14, color = 'black')\n",
    "plt.ylabel('Democratic % by County, US House', fontweight = 'bold', fontsize = 14, color = 'black')\n",
    "plt.xticks(fontsize = 14)\n",
    "plt.yticks(fontsize = 14)\n",
    "plt.xlim(5, 95)\n",
    "plt.ylim(5, 95)\n",
    "plt.axhline(y=50, color='red', linestyle = '--', linewidth=2)\n",
    "plt.axvline(x=50, color='red', linestyle = '--', linewidth=2)\n",
    "ax = plt.gca()\n",
    "ax.set_facecolor('lightgrey')\n",
    "\n",
    "plt.show()"
   ]
  },
  {
   "cell_type": "code",
   "execution_count": null,
   "id": "46f0a21e",
   "metadata": {},
   "outputs": [],
   "source": [
    "plt.figure(figsize = (8,8))\n",
    "sns.set_theme(style=\"darkgrid\")\n",
    "\n",
    "x = gh20['Rep%'].Governor\n",
    "y = gh20['Rep%'].US_House\n",
    "\n",
    "graph = sns.regplot(data = gh20, x=x, y=y, color='red', scatter_kws={'s':40, 'edgecolor':'black'}) \n",
    "graph.axhline(50, color='black', linestyle = '--', linewidth = 2)\n",
    "graph.axvline(50, color='black', linestyle = '--', linewidth = 2)\n",
    "\n",
    "plt.title('Republican Vote Share by County \\n Gubernatorial vs. US House, 2010-2020', fontweight = 'bold', fontsize = 16, color = 'black')\n",
    "plt.xlabel('Gubernatorial, Republican % by County', fontweight = 'bold', fontsize = 14, color = 'black')\n",
    "plt.ylabel('US House, Republican % by County', fontweight = 'bold', fontsize = 14, color = 'black')\n",
    "plt.xticks(fontsize = 14)\n",
    "plt.yticks(fontsize = 14)\n",
    "plt.xlim(10, 90)\n",
    "plt.ylim(10, 90)\n",
    "# plt.savefig('rep_gov_ush_20.png', bbox_inches='tight')\n",
    "plt.plot();"
   ]
  },
  {
   "cell_type": "code",
   "execution_count": null,
   "id": "bc748b64",
   "metadata": {},
   "outputs": [],
   "source": [
    "plt.figure(figsize = (8,8))\n",
    "sns.set_theme(style=\"darkgrid\")\n",
    "\n",
    "x = gh20['Dem%'].Governor\n",
    "y = gh20['Dem%'].US_House\n",
    "\n",
    "graph = sns.regplot(data = gh20, x=x, y=y, color='royalblue', scatter_kws={'s':40, 'edgecolor':'black'}) \n",
    "graph.axhline(50, color='red', linestyle = '--', linewidth = 2)\n",
    "graph.axvline(50, color='red', linestyle = '--', linewidth = 2)\n",
    "\n",
    "plt.title('Democratic Vote Share by County \\n Gubernatorial vs. US House, 2010-2020', fontweight = 'bold', fontsize = 16, color = 'black')\n",
    "plt.xlabel('Gubernatorial, Democratic % by County', fontweight = 'bold', fontsize = 14, color = 'black')\n",
    "plt.ylabel('US House, Democratic % by County', fontweight = 'bold', fontsize = 14, color = 'black')\n",
    "plt.xticks(fontsize = 14)\n",
    "plt.yticks(fontsize = 14)\n",
    "plt.xlim(10, 90)\n",
    "plt.ylim(10, 90)\n",
    "# plt.savefig('dem_gov_ush_20.png', bbox_inches='tight')\n",
    "plt.plot();"
   ]
  },
  {
   "cell_type": "code",
   "execution_count": null,
   "id": "0a2b8833",
   "metadata": {},
   "outputs": [],
   "source": [
    "plt.figure(figsize = (8,8))\n",
    "sns.set_theme(style=\"darkgrid\")\n",
    "\n",
    "x = ph20['Rep%'].Pres\n",
    "y = ph20['Rep%'].US_House\n",
    "\n",
    "graph = sns.regplot(data = ph20, x=x, y=y, color='red', scatter_kws={'s':40, 'edgecolor':'black'}) \n",
    "graph.axhline(50, color='black', linestyle = '--', linewidth = 2)\n",
    "graph.axvline(50, color='black', linestyle = '--', linewidth = 2)\n",
    "\n",
    "plt.title('Republican Vote Share by County \\n Presidential vs. US House, 2010-2020', fontweight = 'bold', fontsize = 16, color = 'black')\n",
    "plt.xlabel('Presidential, Republican % by County', fontweight = 'bold', fontsize = 14, color = 'black')\n",
    "plt.ylabel('US House, Republican % by County', fontweight = 'bold', fontsize = 14, color = 'black')\n",
    "plt.xticks(fontsize = 14)\n",
    "plt.yticks(fontsize = 14)\n",
    "plt.xlim(10, 90)\n",
    "plt.ylim(10, 90)\n",
    "# plt.savefig('rep_pres_ush_20.png', bbox_inches='tight')\n",
    "plt.plot();"
   ]
  },
  {
   "cell_type": "code",
   "execution_count": null,
   "id": "cd177f5b",
   "metadata": {},
   "outputs": [],
   "source": [
    "plt.figure(figsize = (8,8))\n",
    "sns.set_theme(style=\"darkgrid\")\n",
    "\n",
    "x = ph20['Dem%'].Pres\n",
    "y = ph20['Dem%'].US_House\n",
    "\n",
    "graph = sns.regplot(data = ph20, x=x, y=y, color='royalblue', scatter_kws={'s':40, 'edgecolor':'black'}) \n",
    "graph.axhline(50, color='red', linestyle = '--', linewidth = 2)\n",
    "graph.axvline(50, color='red', linestyle = '--', linewidth = 2)\n",
    "\n",
    "plt.title('Democratic Vote Share by County \\n Presidential vs. US House, 2010-2020', fontweight = 'bold', fontsize = 16, color = 'black')\n",
    "plt.xlabel('Presidential, Democratic % by County', fontweight = 'bold', fontsize = 14, color = 'black')\n",
    "plt.ylabel('US House, Democratic % by County', fontweight = 'bold', fontsize = 14, color = 'black')\n",
    "plt.xticks(fontsize = 14)\n",
    "plt.yticks(fontsize = 14)\n",
    "plt.xlim(8, 92)\n",
    "plt.ylim(8, 92)\n",
    "# plt.savefig('dem_pres_ush_20.png', bbox_inches='tight')\n",
    "plt.plot();"
   ]
  },
  {
   "cell_type": "code",
   "execution_count": null,
   "id": "6be8d16c",
   "metadata": {},
   "outputs": [],
   "source": [
    "plt.figure(figsize = (8,8))\n",
    "sns.set_theme(style=\"darkgrid\")\n",
    "\n",
    "x = ps20['Rep%'].Pres\n",
    "y = ps20['Rep%'].US_Senate\n",
    "\n",
    "graph = sns.regplot(data = ps20, x=x, y=y, color='red', scatter_kws={'s':40, 'edgecolor':'black'}) \n",
    "graph.axhline(50, color='black', linestyle = '--', linewidth = 2)\n",
    "graph.axvline(50, color='black', linestyle = '--', linewidth = 2)\n",
    "\n",
    "plt.title('Republican Vote Share by County \\n Presidential vs. US Senate, 2010-2020', fontweight = 'bold', fontsize = 16, color = 'black')\n",
    "plt.xlabel('Presidential, Republican % by County', fontweight = 'bold', fontsize = 14, color = 'black')\n",
    "plt.ylabel('US Senate, Republican % by County', fontweight = 'bold', fontsize = 14, color = 'black')\n",
    "plt.xticks(fontsize = 14)\n",
    "plt.yticks(fontsize = 14)\n",
    "plt.xlim(10, 90)\n",
    "plt.ylim(10, 90)\n",
    "# plt.savefig('rep_pres_sen_20.png', bbox_inches='tight')\n",
    "plt.plot();"
   ]
  },
  {
   "cell_type": "code",
   "execution_count": null,
   "id": "6bdd4298",
   "metadata": {},
   "outputs": [],
   "source": [
    "plt.figure(figsize = (8,8))\n",
    "sns.set_theme(style=\"darkgrid\")\n",
    "\n",
    "x = ps20['Dem%'].Pres\n",
    "y = ps20['Dem%'].US_Senate\n",
    "\n",
    "graph = sns.regplot(data = ps20, x=x, y=y, color='royalblue', scatter_kws={'s':40, 'edgecolor':'black'}) \n",
    "graph.axhline(50, color='red', linestyle = '--', linewidth = 2)\n",
    "graph.axvline(50, color='red', linestyle = '--', linewidth = 2)\n",
    "\n",
    "plt.title('Democratic Vote Share by County \\n Presidential vs. US Senate, 2010-2020', fontweight = 'bold', fontsize = 16, color = 'black')\n",
    "plt.xlabel('Presidential, Democratic % by County', fontweight = 'bold', fontsize = 14, color = 'black')\n",
    "plt.ylabel('US Senate, Democratic % by County', fontweight = 'bold', fontsize = 14, color = 'black')\n",
    "plt.xticks(fontsize = 14)\n",
    "plt.yticks(fontsize = 14)\n",
    "plt.xlim(8, 92)\n",
    "plt.ylim(8, 92)\n",
    "# plt.savefig('dem_pres_sen_20.png', bbox_inches='tight')\n",
    "plt.plot();"
   ]
  },
  {
   "cell_type": "code",
   "execution_count": null,
   "id": "bc4b924d",
   "metadata": {},
   "outputs": [],
   "source": [
    "plt.figure(figsize = (8,8))\n",
    "sns.set_theme(style=\"darkgrid\")\n",
    "\n",
    "x = sg20['Rep%'].Governor\n",
    "y = sg20['Rep%'].US_Senate\n",
    "\n",
    "graph = sns.regplot(data = sg20, x=x, y=y, color='red', scatter_kws={'s':40, 'edgecolor':'black'}) \n",
    "graph.axhline(50, color='black', linestyle = '--', linewidth = 2)\n",
    "graph.axvline(50, color='black', linestyle = '--', linewidth = 2)\n",
    "\n",
    "plt.title('Republican Vote Share by County \\n Gubernatorial vs. US Senate, 2010-2020', fontweight = 'bold', fontsize = 16, color = 'black')\n",
    "plt.xlabel('Gubernatorial, Republican % by County', fontweight = 'bold', fontsize = 14, color = 'black')\n",
    "plt.ylabel('US Senate, Republican % by County', fontweight = 'bold', fontsize = 14, color = 'black')\n",
    "plt.xticks(fontsize = 14)\n",
    "plt.yticks(fontsize = 14)\n",
    "plt.xlim(10, 90)\n",
    "plt.ylim(10, 90)\n",
    "# plt.savefig('rep_gov_sen_20.png', bbox_inches='tight')\n",
    "plt.plot();"
   ]
  },
  {
   "cell_type": "code",
   "execution_count": null,
   "id": "10b86af0",
   "metadata": {},
   "outputs": [],
   "source": [
    "plt.figure(figsize = (8,8))\n",
    "sns.set_theme(style=\"darkgrid\")\n",
    "\n",
    "x = sg20['Dem%'].Governor\n",
    "y = sg20['Dem%'].US_Senate\n",
    "\n",
    "graph = sns.regplot(data = sg20, x=x, y=y, color='royalblue', scatter_kws={'s':40, 'edgecolor':'black'}) \n",
    "graph.axhline(50, color='red', linestyle = '--', linewidth = 2)\n",
    "graph.axvline(50, color='red', linestyle = '--', linewidth = 2)\n",
    "\n",
    "plt.title('Democratic Vote Share by County \\n Gubernatorial vs. US Senate, 2010-2020', fontweight = 'bold', fontsize = 16, color = 'black')\n",
    "plt.xlabel('Gubernatorial, Democratic % by County', fontweight = 'bold', fontsize = 14, color = 'black')\n",
    "plt.ylabel('US Senate, Democratic % by County', fontweight = 'bold', fontsize = 14, color = 'black')\n",
    "plt.xticks(fontsize = 14)\n",
    "plt.yticks(fontsize = 14)\n",
    "plt.xlim(8, 92)\n",
    "plt.ylim(8, 92)\n",
    "# plt.savefig('dem_gov_sen_20.png', bbox_inches='tight')\n",
    "plt.plot();"
   ]
  },
  {
   "cell_type": "code",
   "execution_count": null,
   "id": "0a2d86c6",
   "metadata": {},
   "outputs": [],
   "source": [
    "pgh20 = county_20[['year', 'county', 'office', 'Rep%', 'Dem%']]"
   ]
  },
  {
   "cell_type": "code",
   "execution_count": null,
   "id": "1c8d7e88",
   "metadata": {},
   "outputs": [],
   "source": [
    "pghmask = pgh20['office'].isin(['Pres', 'Governor', 'State_House'])"
   ]
  },
  {
   "cell_type": "code",
   "execution_count": null,
   "id": "6cd4aa81",
   "metadata": {},
   "outputs": [],
   "source": [
    "pgh20 = pgh20[pghmask]"
   ]
  },
  {
   "cell_type": "code",
   "execution_count": null,
   "id": "b5b37d57",
   "metadata": {},
   "outputs": [],
   "source": [
    "pgh20"
   ]
  },
  {
   "cell_type": "code",
   "execution_count": null,
   "id": "2294047d",
   "metadata": {},
   "outputs": [],
   "source": [
    "pgh20 = pgh20.pivot_table(index=['year', 'county'],\n",
    "                 columns = 'office',\n",
    "                 values = ['Rep%', 'Dem%']).reset_index()"
   ]
  },
  {
   "cell_type": "code",
   "execution_count": null,
   "id": "596cf1b3",
   "metadata": {},
   "outputs": [],
   "source": [
    "pgh20.head()"
   ]
  },
  {
   "cell_type": "code",
   "execution_count": null,
   "id": "ad27f5d0",
   "metadata": {},
   "outputs": [],
   "source": [
    "plt.figure(figsize = (8,8))\n",
    "sns.set_theme(style=\"darkgrid\")\n",
    "\n",
    "x = pgh20['Rep%'].Pres\n",
    "y = pgh20['Rep%'].State_House\n",
    "\n",
    "graph = sns.regplot(data = pgh20, x=x, y=y, color='red', scatter_kws={'s':40, 'edgecolor':'black'}) \n",
    "graph.axhline(50, color='black', linestyle = '--', linewidth = 2)\n",
    "graph.axvline(50, color='black', linestyle = '--', linewidth = 2)\n",
    "\n",
    "plt.title('Republican Vote Share by County \\n Presidential vs. TN House, 2010-2020', fontweight = 'bold', fontsize = 16, color = 'black')\n",
    "plt.xlabel('Presidential, Republican % by County', fontweight = 'bold', fontsize = 14, color = 'black')\n",
    "plt.ylabel('TN House, Republican % by County', fontweight = 'bold', fontsize = 14, color = 'black')\n",
    "plt.xticks(fontsize = 14)\n",
    "plt.yticks(fontsize = 14)\n",
    "plt.xlim(8, 92)\n",
    "plt.ylim(8, 92)\n",
    "# plt.savefig('rep_pres_tnh_20.png', bbox_inches='tight')\n",
    "plt.plot();"
   ]
  },
  {
   "cell_type": "code",
   "execution_count": null,
   "id": "7a4b4846",
   "metadata": {},
   "outputs": [],
   "source": [
    "plt.figure(figsize = (8,8))\n",
    "sns.set_theme(style=\"darkgrid\")\n",
    "\n",
    "x = pgh20['Dem%'].Pres\n",
    "y = pgh20['Dem%'].State_House\n",
    "\n",
    "graph = sns.regplot(data = pgh20, x=x, y=y, color='royalblue', scatter_kws={'s':40, 'edgecolor':'black'}) \n",
    "graph.axhline(50, color='red', linestyle = '--', linewidth = 2)\n",
    "graph.axvline(50, color='red', linestyle = '--', linewidth = 2)\n",
    "\n",
    "plt.title('Democratic Vote Share by County \\n Presidential vs. TN House, 2010-2020', fontweight = 'bold', fontsize = 16, color = 'black')\n",
    "plt.xlabel('Presidential, Democratic % by County', fontweight = 'bold', fontsize = 14, color = 'black')\n",
    "plt.ylabel('TN House, Democratic % by County', fontweight = 'bold', fontsize = 14, color = 'black')\n",
    "plt.xticks(fontsize = 14)\n",
    "plt.yticks(fontsize = 14)\n",
    "plt.xlim(8, 92)\n",
    "plt.ylim(8, 92)\n",
    "# plt.savefig('dem_pres_tnh_20.png', bbox_inches='tight')\n",
    "plt.plot();"
   ]
  },
  {
   "cell_type": "code",
   "execution_count": null,
   "id": "dd1d5cac",
   "metadata": {},
   "outputs": [],
   "source": [
    "plt.figure(figsize = (8,8))\n",
    "sns.set_theme(style=\"darkgrid\")\n",
    "\n",
    "x = pgh20['Rep%'].Governor\n",
    "y = pgh20['Rep%'].State_House\n",
    "\n",
    "graph = sns.regplot(data = pgh20, x=x, y=y, color='red', scatter_kws={'s':40, 'edgecolor':'black'}) \n",
    "graph.axhline(50, color='black', linestyle = '--', linewidth = 2)\n",
    "graph.axvline(50, color='black', linestyle = '--', linewidth = 2)\n",
    "\n",
    "plt.title('Republican Vote Share by County \\n Gubernatorial vs. TN House, 2010-2020', fontweight = 'bold', fontsize = 16, color = 'black')\n",
    "plt.xlabel('Gubernatorial, Republican % by County', fontweight = 'bold', fontsize = 14, color = 'black')\n",
    "plt.ylabel('TN House, Republican % by County', fontweight = 'bold', fontsize = 14, color = 'black')\n",
    "plt.xticks(fontsize = 14)\n",
    "plt.yticks(fontsize = 14)\n",
    "plt.xlim(8, 92)\n",
    "plt.ylim(8, 92)\n",
    "# plt.savefig('rep_gov_tnh_20.png', bbox_inches='tight')\n",
    "plt.plot();"
   ]
  },
  {
   "cell_type": "code",
   "execution_count": null,
   "id": "ea90f65a",
   "metadata": {},
   "outputs": [],
   "source": [
    "plt.figure(figsize = (8,8))\n",
    "sns.set_theme(style=\"darkgrid\")\n",
    "\n",
    "x = pgh20['Dem%'].Governor\n",
    "y = pgh20['Dem%'].State_House\n",
    "\n",
    "graph = sns.regplot(data = pgh20, x=x, y=y, color='royalblue', scatter_kws={'s':40, 'edgecolor':'black'}) \n",
    "graph.axhline(50, color='red', linestyle = '--', linewidth = 2)\n",
    "graph.axvline(50, color='red', linestyle = '--', linewidth = 2)\n",
    "\n",
    "plt.title('Democratic Vote Share by County \\n Gubernatorial vs. TN House, 2010-2020', fontweight = 'bold', fontsize = 16, color = 'black')\n",
    "plt.xlabel('Gubernatorial, Democratic % by County', fontweight = 'bold', fontsize = 14, color = 'black')\n",
    "plt.ylabel('TN House, Democratic % by County', fontweight = 'bold', fontsize = 14, color = 'black')\n",
    "plt.xticks(fontsize = 14)\n",
    "plt.yticks(fontsize = 14)\n",
    "plt.xlim(8, 92)\n",
    "plt.ylim(8, 92)\n",
    "# plt.savefig('dem_gov_tnh_20.png', bbox_inches='tight')\n",
    "plt.plot();"
   ]
  },
  {
   "cell_type": "code",
   "execution_count": null,
   "id": "163147ef",
   "metadata": {},
   "outputs": [],
   "source": []
  },
  {
   "cell_type": "code",
   "execution_count": null,
   "id": "973d55a0",
   "metadata": {},
   "outputs": [],
   "source": []
  },
  {
   "cell_type": "code",
   "execution_count": null,
   "id": "81100e09",
   "metadata": {},
   "outputs": [],
   "source": [
    "county_10['office'] = county_10['office'].replace({'State House' : 'State_House'}, regex=True)"
   ]
  },
  {
   "cell_type": "code",
   "execution_count": null,
   "id": "38b8a866",
   "metadata": {},
   "outputs": [],
   "source": [
    "all10 = county_10[['year', 'county', 'office', 'Rep%', 'Dem%']]"
   ]
  },
  {
   "cell_type": "code",
   "execution_count": null,
   "id": "be60122c",
   "metadata": {},
   "outputs": [],
   "source": [
    "all10 = all10.pivot_table(index=['year', 'county'],\n",
    "                 columns = 'office',\n",
    "                 values = ['Rep%', 'Dem%']).reset_index()"
   ]
  },
  {
   "cell_type": "code",
   "execution_count": null,
   "id": "f893a5a7",
   "metadata": {},
   "outputs": [],
   "source": [
    "all10"
   ]
  },
  {
   "cell_type": "code",
   "execution_count": null,
   "id": "ae05d25f",
   "metadata": {},
   "outputs": [],
   "source": [
    "plt.figure(figsize = (8,8))\n",
    "sns.set_theme(style=\"darkgrid\")\n",
    "\n",
    "x = all10['Rep%'].Pres\n",
    "y = all10['Rep%'].US_Senate\n",
    "\n",
    "graph = sns.regplot(data = all10, x=x, y=y, color='red', scatter_kws={'s':40, 'edgecolor':'black'}) \n",
    "graph.axhline(50, color='black', linestyle = '--', linewidth = 2)\n",
    "graph.axvline(50, color='black', linestyle = '--', linewidth = 2)\n",
    "\n",
    "plt.title('Republican Vote Share by County \\n Presidential vs. US Senate, 2002-2008', fontweight = 'bold', fontsize = 16, color = 'black')\n",
    "plt.xlabel('Presidential, Republican % by County', fontweight = 'bold', fontsize = 14, color = 'black')\n",
    "plt.ylabel('US Senate, Republican % by County', fontweight = 'bold', fontsize = 14, color = 'black')\n",
    "plt.xticks(fontsize = 14)\n",
    "plt.yticks(fontsize = 14)\n",
    "plt.xlim(10, 90)\n",
    "plt.ylim(10, 90)\n",
    "# plt.savefig('rep_pres_sen_10.png', bbox_inches='tight')\n",
    "plt.plot();"
   ]
  },
  {
   "cell_type": "code",
   "execution_count": null,
   "id": "5c8c371d",
   "metadata": {},
   "outputs": [],
   "source": [
    "plt.figure(figsize = (8,8))\n",
    "sns.set_theme(style=\"darkgrid\")\n",
    "\n",
    "x = all10['Dem%'].Pres\n",
    "y = all10['Dem%'].US_Senate\n",
    "\n",
    "graph = sns.regplot(data = all10, x=x, y=y, color='royalblue', scatter_kws={'s':40, 'edgecolor':'black'}) \n",
    "graph.axhline(50, color='red', linestyle = '--', linewidth = 2)\n",
    "graph.axvline(50, color='red', linestyle = '--', linewidth = 2)\n",
    "\n",
    "plt.title('Democratic Vote Share by County \\n Presidential vs. US Senate, 2002-2008', fontweight = 'bold', fontsize = 16, color = 'black')\n",
    "plt.xlabel('Presidential, Democratic % by County', fontweight = 'bold', fontsize = 14, color = 'black')\n",
    "plt.ylabel('US Senate, Democratic % by County', fontweight = 'bold', fontsize = 14, color = 'black')\n",
    "plt.xticks(fontsize = 14)\n",
    "plt.yticks(fontsize = 14)\n",
    "plt.xlim(10, 90)\n",
    "plt.ylim(10, 90)\n",
    "# plt.savefig('dem_pres_sen_10.png', bbox_inches='tight')\n",
    "plt.plot();"
   ]
  },
  {
   "cell_type": "code",
   "execution_count": null,
   "id": "7c5c6733",
   "metadata": {},
   "outputs": [],
   "source": [
    "plt.figure(figsize = (8,8))\n",
    "sns.set_theme(style=\"darkgrid\")\n",
    "\n",
    "x = all10['Rep%'].Pres\n",
    "y = all10['Rep%'].US_House\n",
    "\n",
    "graph = sns.regplot(data = all10, x=x, y=y, color='red', scatter_kws={'s':40, 'edgecolor':'black'}) \n",
    "graph.axhline(50, color='black', linestyle = '--', linewidth = 2)\n",
    "graph.axvline(50, color='black', linestyle = '--', linewidth = 2)\n",
    "\n",
    "plt.title('Republican Vote Share by County \\n Presidential vs. US House, 2002-2008', fontweight = 'bold', fontsize = 16, color = 'black')\n",
    "plt.xlabel('Presidential, Republican % by County', fontweight = 'bold', fontsize = 14, color = 'black')\n",
    "plt.ylabel('US House, Republican % by County', fontweight = 'bold', fontsize = 14, color = 'black')\n",
    "plt.xticks(fontsize = 14)\n",
    "plt.yticks(fontsize = 14)\n",
    "plt.xlim(10, 90)\n",
    "plt.ylim(10, 90)\n",
    "# plt.savefig('rep_pres_ush_10.png', bbox_inches='tight')\n",
    "plt.plot();"
   ]
  },
  {
   "cell_type": "code",
   "execution_count": null,
   "id": "f8ac8728",
   "metadata": {},
   "outputs": [],
   "source": [
    "plt.figure(figsize = (8,8))\n",
    "sns.set_theme(style=\"darkgrid\")\n",
    "\n",
    "x = all10['Dem%'].Pres\n",
    "y = all10['Dem%'].US_House\n",
    "\n",
    "graph = sns.regplot(data = all10, x=x, y=y, color='royalblue', scatter_kws={'s':40, 'edgecolor':'black'}) \n",
    "graph.axhline(50, color='red', linestyle = '--', linewidth = 2)\n",
    "graph.axvline(50, color='red', linestyle = '--', linewidth = 2)\n",
    "\n",
    "plt.title('Democratic Vote Share by County \\n Presidential vs. US House, 2002-2008', fontweight = 'bold', fontsize = 16, color = 'black')\n",
    "plt.xlabel('Presidential, Democratic % by County', fontweight = 'bold', fontsize = 14, color = 'black')\n",
    "plt.ylabel('US House, Democratic % by County', fontweight = 'bold', fontsize = 14, color = 'black')\n",
    "plt.xticks(fontsize = 14)\n",
    "plt.yticks(fontsize = 14)\n",
    "plt.xlim(10, 90)\n",
    "plt.ylim(10, 90)\n",
    "# plt.savefig('dem_pres_ush_10.png', bbox_inches='tight')\n",
    "plt.plot();"
   ]
  },
  {
   "cell_type": "code",
   "execution_count": null,
   "id": "c96be709",
   "metadata": {},
   "outputs": [],
   "source": [
    "plt.figure(figsize = (8,8))\n",
    "sns.set_theme(style=\"darkgrid\")\n",
    "\n",
    "x = all10['Rep%'].Pres\n",
    "y = all10['Rep%'].State_House\n",
    "\n",
    "graph = sns.regplot(data = all10, x=x, y=y, color='red', scatter_kws={'s':40, 'edgecolor':'black'}) \n",
    "graph.axhline(50, color='black', linestyle = '--', linewidth = 2)\n",
    "graph.axvline(50, color='black', linestyle = '--', linewidth = 2)\n",
    "\n",
    "plt.title('Republican Vote Share by County \\n Presidential vs. TN House, 2002-2008', fontweight = 'bold', fontsize = 16, color = 'black')\n",
    "plt.xlabel('Presidential, Republican % by County', fontweight = 'bold', fontsize = 14, color = 'black')\n",
    "plt.ylabel('TN House, Republican % by County', fontweight = 'bold', fontsize = 14, color = 'black')\n",
    "plt.xticks(fontsize = 14)\n",
    "plt.yticks(fontsize = 14)\n",
    "plt.xlim(10, 90)\n",
    "plt.ylim(10, 90)\n",
    "# plt.savefig('rep_pres_tnh_10.png', bbox_inches='tight')\n",
    "plt.plot();"
   ]
  },
  {
   "cell_type": "code",
   "execution_count": null,
   "id": "fc4d39d3",
   "metadata": {},
   "outputs": [],
   "source": [
    "plt.figure(figsize = (8,8))\n",
    "sns.set_theme(style=\"darkgrid\")\n",
    "\n",
    "x = all10['Dem%'].Pres\n",
    "y = all10['Dem%'].State_House\n",
    "\n",
    "graph = sns.regplot(data = all10, x=x, y=y, color='royalblue', scatter_kws={'s':40, 'edgecolor':'black'}) \n",
    "graph.axhline(50, color='red', linestyle = '--', linewidth = 2)\n",
    "graph.axvline(50, color='red', linestyle = '--', linewidth = 2)\n",
    "\n",
    "plt.title('Democratic Vote Share by County \\n Presidential vs. TN House, 2002-2008', fontweight = 'bold', fontsize = 16, color = 'black')\n",
    "plt.xlabel('Presidential, Democratic % by County', fontweight = 'bold', fontsize = 14, color = 'black')\n",
    "plt.ylabel('TN House, Democratic % by County', fontweight = 'bold', fontsize = 14, color = 'black')\n",
    "plt.xticks(fontsize = 14)\n",
    "plt.yticks(fontsize = 14)\n",
    "plt.xlim(10, 90)\n",
    "plt.ylim(10, 90)\n",
    "# plt.savefig('dem_pres_tnh_10.png', bbox_inches='tight')\n",
    "plt.plot();"
   ]
  },
  {
   "cell_type": "code",
   "execution_count": null,
   "id": "2aed550f",
   "metadata": {},
   "outputs": [],
   "source": [
    "plt.figure(figsize = (8,8))\n",
    "sns.set_theme(style=\"darkgrid\")\n",
    "\n",
    "x = all10['Rep%'].Governor\n",
    "y = all10['Rep%'].US_Senate\n",
    "\n",
    "graph = sns.regplot(data = all10, x=x, y=y, color='red', scatter_kws={'s':40, 'edgecolor':'black'}) \n",
    "graph.axhline(50, color='black', linestyle = '--', linewidth = 2)\n",
    "graph.axvline(50, color='black', linestyle = '--', linewidth = 2)\n",
    "\n",
    "plt.title('Republican Vote Share by County \\n Gubernatorial vs. US Senate, 2002-2008', fontweight = 'bold', fontsize = 16, color = 'black')\n",
    "plt.xlabel('Gubernatorial, Republican % by County', fontweight = 'bold', fontsize = 14, color = 'black')\n",
    "plt.ylabel('US Senate, Republican % by County', fontweight = 'bold', fontsize = 14, color = 'black')\n",
    "plt.xticks(fontsize = 14)\n",
    "plt.yticks(fontsize = 14)\n",
    "plt.xlim(10, 90)\n",
    "plt.ylim(10, 90)\n",
    "# plt.savefig('rep_gov_sen_10.png', bbox_inches='tight')\n",
    "plt.plot();"
   ]
  },
  {
   "cell_type": "code",
   "execution_count": null,
   "id": "a45c9833",
   "metadata": {},
   "outputs": [],
   "source": [
    "plt.figure(figsize = (8,8))\n",
    "sns.set_theme(style=\"darkgrid\")\n",
    "\n",
    "x = all10['Dem%'].Governor\n",
    "y = all10['Dem%'].US_Senate\n",
    "\n",
    "graph = sns.regplot(data = all10, x=x, y=y, color='royalblue', scatter_kws={'s':40, 'edgecolor':'black'}) \n",
    "graph.axhline(50, color='red', linestyle = '--', linewidth = 2)\n",
    "graph.axvline(50, color='red', linestyle = '--', linewidth = 2)\n",
    "\n",
    "plt.title('Democratic Vote Share by County \\n Gubernatorial vs. US Senate, 2002-2008', fontweight = 'bold', fontsize = 16, color = 'black')\n",
    "plt.xlabel('Gubernatorial, Democratic % by County', fontweight = 'bold', fontsize = 14, color = 'black')\n",
    "plt.ylabel('US Senate, Democratic % by County', fontweight = 'bold', fontsize = 14, color = 'black')\n",
    "plt.xticks(fontsize = 14)\n",
    "plt.yticks(fontsize = 14)\n",
    "plt.xlim(10, 90)\n",
    "plt.ylim(10, 90)\n",
    "# plt.savefig('dem_gov_sen_10.png', bbox_inches='tight')\n",
    "plt.plot();"
   ]
  },
  {
   "cell_type": "code",
   "execution_count": null,
   "id": "d7d34fa4",
   "metadata": {},
   "outputs": [],
   "source": [
    "plt.figure(figsize = (8,8))\n",
    "sns.set_theme(style=\"darkgrid\")\n",
    "\n",
    "x = all10['Rep%'].Governor\n",
    "y = all10['Rep%'].US_House\n",
    "\n",
    "graph = sns.regplot(data = all10, x=x, y=y, color='red', scatter_kws={'s':40, 'edgecolor':'black'}) \n",
    "graph.axhline(50, color='black', linestyle = '--', linewidth = 2)\n",
    "graph.axvline(50, color='black', linestyle = '--', linewidth = 2)\n",
    "\n",
    "plt.title('Republican Vote Share by County \\n Gubernatorial vs. US House, 2002-2008', fontweight = 'bold', fontsize = 16, color = 'black')\n",
    "plt.xlabel('Gubernatorial, Republican % by County', fontweight = 'bold', fontsize = 14, color = 'black')\n",
    "plt.ylabel('US House, Republican % by County', fontweight = 'bold', fontsize = 14, color = 'black')\n",
    "plt.xticks(fontsize = 14)\n",
    "plt.yticks(fontsize = 14)\n",
    "plt.xlim(10, 90)\n",
    "plt.ylim(10, 90)\n",
    "# plt.savefig('rep_gov_ush_10.png', bbox_inches='tight')\n",
    "plt.plot();"
   ]
  },
  {
   "cell_type": "code",
   "execution_count": null,
   "id": "ca849852",
   "metadata": {},
   "outputs": [],
   "source": [
    "plt.figure(figsize = (8,8))\n",
    "sns.set_theme(style=\"darkgrid\")\n",
    "\n",
    "x = all10['Dem%'].Governor\n",
    "y = all10['Dem%'].US_House\n",
    "\n",
    "graph = sns.regplot(data = all10, x=x, y=y, color='royalblue', scatter_kws={'s':40, 'edgecolor':'black'}) \n",
    "graph.axhline(50, color='red', linestyle = '--', linewidth = 2)\n",
    "graph.axvline(50, color='red', linestyle = '--', linewidth = 2)\n",
    "\n",
    "plt.title('Democratic Vote Share by County \\n Gubernatorial vs. US House, 2002-2008', fontweight = 'bold', fontsize = 16, color = 'black')\n",
    "plt.xlabel('Gubernatorial, Democratic % by County', fontweight = 'bold', fontsize = 14, color = 'black')\n",
    "plt.ylabel('US House, Democratic % by County', fontweight = 'bold', fontsize = 14, color = 'black')\n",
    "plt.xticks(fontsize = 14)\n",
    "plt.yticks(fontsize = 14)\n",
    "plt.xlim(10, 90)\n",
    "plt.ylim(10, 90)\n",
    "# plt.savefig('dem_gov_ush_10.png', bbox_inches='tight')\n",
    "plt.plot();"
   ]
  },
  {
   "cell_type": "code",
   "execution_count": null,
   "id": "2910cbe5",
   "metadata": {},
   "outputs": [],
   "source": [
    "plt.figure(figsize = (8,8))\n",
    "sns.set_theme(style=\"darkgrid\")\n",
    "\n",
    "x = all10['Rep%'].Governor\n",
    "y = all10['Rep%'].State_House\n",
    "\n",
    "graph = sns.regplot(data = all10, x=x, y=y, color='red', scatter_kws={'s':40, 'edgecolor':'black'}) \n",
    "graph.axhline(50, color='black', linestyle = '--', linewidth = 2)\n",
    "graph.axvline(50, color='black', linestyle = '--', linewidth = 2)\n",
    "\n",
    "plt.title('Republican Vote Share by County \\n Gubernatorial vs. TN House, 2002-2008', fontweight = 'bold', fontsize = 16, color = 'black')\n",
    "plt.xlabel('Gubernatorial, Republican % by County', fontweight = 'bold', fontsize = 14, color = 'black')\n",
    "plt.ylabel('TN House, Republican % by County', fontweight = 'bold', fontsize = 14, color = 'black')\n",
    "plt.xticks(fontsize = 14)\n",
    "plt.yticks(fontsize = 14)\n",
    "plt.xlim(10, 90)\n",
    "plt.ylim(10, 90)\n",
    "# plt.savefig('rep_gov_tnh_10.png', bbox_inches='tight')\n",
    "plt.plot();"
   ]
  },
  {
   "cell_type": "code",
   "execution_count": null,
   "id": "3f56f803",
   "metadata": {},
   "outputs": [],
   "source": [
    "plt.figure(figsize = (8,8))\n",
    "sns.set_theme(style=\"darkgrid\")\n",
    "\n",
    "x = all10['Dem%'].Governor\n",
    "y = all10['Dem%'].State_House\n",
    "\n",
    "graph = sns.regplot(data = all10, x=x, y=y, color='royalblue', scatter_kws={'s':40, 'edgecolor':'black'}) \n",
    "graph.axhline(50, color='red', linestyle = '--', linewidth = 2)\n",
    "graph.axvline(50, color='red', linestyle = '--', linewidth = 2)\n",
    "\n",
    "plt.title('Democratic Vote Share by County \\n Gubernatorial vs. TN House, 2002-2008', fontweight = 'bold', fontsize = 16, color = 'black')\n",
    "plt.xlabel('Gubernatorial, Democratic % by County', fontweight = 'bold', fontsize = 14, color = 'black')\n",
    "plt.ylabel('TN House, Democratic % by County', fontweight = 'bold', fontsize = 14, color = 'black')\n",
    "plt.xticks(fontsize = 14)\n",
    "plt.yticks(fontsize = 14)\n",
    "plt.xlim(10, 90)\n",
    "plt.ylim(10, 90)\n",
    "# plt.savefig('dem_gov_tnh_10.png', bbox_inches='tight')\n",
    "plt.plot();"
   ]
  },
  {
   "cell_type": "code",
   "execution_count": null,
   "id": "62e0d34c",
   "metadata": {},
   "outputs": [],
   "source": [
    "all10.corr()"
   ]
  },
  {
   "cell_type": "code",
   "execution_count": null,
   "id": "a328a429",
   "metadata": {},
   "outputs": [],
   "source": [
    "all10_dem = all10['Dem%'][['Pres', 'Governor', 'US_Senate', 'US_House', 'State_House']]\n",
    "all10_rep = all10['Rep%'][['Pres', 'Governor', 'US_Senate', 'US_House', 'State_House']]"
   ]
  },
  {
   "cell_type": "code",
   "execution_count": null,
   "id": "5375329b",
   "metadata": {},
   "outputs": [],
   "source": [
    "all10_dem.corr()"
   ]
  },
  {
   "cell_type": "code",
   "execution_count": null,
   "id": "6532bb33",
   "metadata": {},
   "outputs": [],
   "source": [
    "all10_rep.corr()"
   ]
  },
  {
   "cell_type": "code",
   "execution_count": null,
   "id": "10f592f4",
   "metadata": {},
   "outputs": [],
   "source": [
    "corr_d = all10_dem.corr()\n",
    "\n",
    "f, ax = plt.subplots(figsize=(10, 6))\n",
    "sns.heatmap(corr_d, cbar_kws = dict(location=\"right\", shrink=0.8), cmap='Blues', annot=True, vmin=0.3,\n",
    "           annot_kws={\"size\": 16, 'fontweight': 'bold'}, linewidths=0.3, linecolor='black', ax=ax)\n",
    "\n",
    "ax.set_facecolor('dimgray')\n",
    "f.set_facecolor('white')\n",
    "\n",
    "plt.xlabel('Office', fontsize=16, fontweight='bold')\n",
    "plt.ylabel('Office', fontsize=16, fontweight='bold')\n",
    "plt.yticks(rotation=0, fontsize = 14)\n",
    "plt.xticks(rotation=0, fontsize = 14)\n",
    "plt.title('2002-2008 Correlation by Office \\n Dem % by County', fontsize = 18, fontweight='bold', pad=20)\n",
    "\n",
    "# plt.savefig('dem_county_corr_10.png', bbox_inches='tight')\n",
    "plt.show();"
   ]
  },
  {
   "cell_type": "code",
   "execution_count": null,
   "id": "563721d0",
   "metadata": {},
   "outputs": [],
   "source": [
    "corr_r = all10_rep.corr()\n",
    "\n",
    "f, ax = plt.subplots(figsize=(10, 6))\n",
    "sns.heatmap(corr_r, cbar_kws = dict(location=\"right\", shrink=0.8), cmap='Reds', annot=True, vmin=0.3,\n",
    "           annot_kws={\"size\": 16, 'fontweight': 'bold'}, linewidths=0.3, linecolor='black', ax=ax)\n",
    "\n",
    "ax.set_facecolor('dimgray')\n",
    "f.set_facecolor('white')\n",
    "\n",
    "plt.xlabel('Office', fontsize=16, fontweight='bold')\n",
    "plt.ylabel('Office', fontsize=16, fontweight='bold')\n",
    "plt.yticks(rotation=0, fontsize = 14)\n",
    "plt.xticks(rotation=0, fontsize = 14)\n",
    "plt.title('2002-2008 Correlation by Office \\n Rep % by County', fontsize = 18, fontweight='bold', pad=20)\n",
    "\n",
    "# plt.savefig('rep_county_corr_10.png', bbox_inches='tight')\n",
    "plt.show();"
   ]
  },
  {
   "cell_type": "code",
   "execution_count": null,
   "id": "a7b072ab",
   "metadata": {},
   "outputs": [],
   "source": [
    "all20 = county_20[['year', 'county', 'office', 'Rep%', 'Dem%']]"
   ]
  },
  {
   "cell_type": "code",
   "execution_count": null,
   "id": "53e0f7a0",
   "metadata": {},
   "outputs": [],
   "source": [
    "all20 = all20.pivot_table(index=['year', 'county'],\n",
    "                 columns = 'office',\n",
    "                 values = ['Rep%', 'Dem%']).reset_index()"
   ]
  },
  {
   "cell_type": "code",
   "execution_count": null,
   "id": "4abdf1fc",
   "metadata": {},
   "outputs": [],
   "source": [
    "all20"
   ]
  },
  {
   "cell_type": "code",
   "execution_count": null,
   "id": "646688b8",
   "metadata": {},
   "outputs": [],
   "source": [
    "all20_dem = all20['Dem%'][['Pres', 'Governor', 'US_Senate', 'US_House', 'State_House']]\n",
    "all20_rep = all20['Rep%'][['Pres', 'Governor', 'US_Senate', 'US_House', 'State_House']]"
   ]
  },
  {
   "cell_type": "code",
   "execution_count": null,
   "id": "bb2ece4d",
   "metadata": {},
   "outputs": [],
   "source": [
    "all20_dem.corr()"
   ]
  },
  {
   "cell_type": "code",
   "execution_count": null,
   "id": "7b83cddf",
   "metadata": {},
   "outputs": [],
   "source": [
    "all20_rep.corr()"
   ]
  },
  {
   "cell_type": "code",
   "execution_count": null,
   "id": "03e27427",
   "metadata": {},
   "outputs": [],
   "source": [
    "corr_d = all20_dem.corr()\n",
    "f, ax = plt.subplots(figsize=(10, 6))\n",
    "\n",
    "\n",
    "sns.heatmap(corr_d, cbar_kws = dict(location=\"right\", shrink=0.8), cmap='Blues', annot=True, vmin=0.3,\n",
    "           annot_kws={\"size\": 16, 'fontweight': 'bold'}, linewidths=0.3, linecolor='black', ax=ax)\n",
    "\n",
    "ax.set_facecolor('dimgray')\n",
    "f.set_facecolor('white')\n",
    "\n",
    "plt.xlabel('Office', fontsize=16, fontweight='bold')\n",
    "plt.ylabel('Office', fontsize=16, fontweight='bold')\n",
    "plt.yticks(rotation=0, fontsize = 14)\n",
    "plt.xticks(rotation=0, fontsize = 14)\n",
    "plt.title('2010-2020 Correlation by Office \\n Dem % by County', fontsize = 18, fontweight='bold', pad=20)\n",
    "\n",
    "# plt.savefig('dem_county_corr_20.png', bbox_inches='tight')\n",
    "plt.show();"
   ]
  },
  {
   "cell_type": "code",
   "execution_count": null,
   "id": "d9135ea7",
   "metadata": {},
   "outputs": [],
   "source": [
    "corr_r = all20_rep.corr()\n",
    "\n",
    "f, ax = plt.subplots(figsize=(10, 6))\n",
    "sns.heatmap(corr_r, cbar_kws = dict(location=\"right\", shrink=0.8), cmap='Reds', annot=True, vmin=0.3,\n",
    "           annot_kws={\"size\": 16, 'fontweight': 'bold'}, linewidths=0.3, linecolor='black', ax=ax)\n",
    "\n",
    "ax.set_facecolor('dimgray')\n",
    "f.set_facecolor('white')\n",
    "\n",
    "plt.xlabel('Office', fontsize=16, fontweight='bold')\n",
    "plt.ylabel('Office', fontsize=16, fontweight='bold')\n",
    "plt.yticks(rotation=0, fontsize = 14)\n",
    "plt.xticks(rotation=0, fontsize = 14)\n",
    "plt.title('2010-2020 Correlation by Office \\n Rep % by County', fontsize = 18, fontweight='bold', pad=20)\n",
    "\n",
    "# plt.savefig('rep_county_corr_20.png', bbox_inches='tight')\n",
    "plt.show();"
   ]
  },
  {
   "cell_type": "code",
   "execution_count": null,
   "id": "24ce5dda",
   "metadata": {},
   "outputs": [],
   "source": []
  },
  {
   "cell_type": "code",
   "execution_count": null,
   "id": "77bf1592",
   "metadata": {},
   "outputs": [],
   "source": []
  },
  {
   "cell_type": "code",
   "execution_count": null,
   "id": "fc703a60",
   "metadata": {},
   "outputs": [],
   "source": []
  }
 ],
 "metadata": {
  "kernelspec": {
   "display_name": "Python 3 (ipykernel)",
   "language": "python",
   "name": "python3"
  },
  "language_info": {
   "codemirror_mode": {
    "name": "ipython",
    "version": 3
   },
   "file_extension": ".py",
   "mimetype": "text/x-python",
   "name": "python",
   "nbconvert_exporter": "python",
   "pygments_lexer": "ipython3",
   "version": "3.9.7"
  }
 },
 "nbformat": 4,
 "nbformat_minor": 5
}
